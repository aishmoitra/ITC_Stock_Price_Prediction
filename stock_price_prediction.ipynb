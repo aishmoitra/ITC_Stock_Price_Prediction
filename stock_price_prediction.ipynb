{
 "cells": [
  {
   "cell_type": "markdown",
   "metadata": {},
   "source": [
    "# Importing all the necessary libraries"
   ]
  },
  {
   "cell_type": "code",
   "execution_count": 598,
   "metadata": {},
   "outputs": [
    {
     "data": {
      "text/html": [
       "        <script type=\"text/javascript\">\n",
       "        window.PlotlyConfig = {MathJaxConfig: 'local'};\n",
       "        if (window.MathJax && window.MathJax.Hub && window.MathJax.Hub.Config) {window.MathJax.Hub.Config({SVG: {font: \"STIX-Web\"}});}\n",
       "        </script>\n",
       "        <script type=\"module\">import \"https://cdn.plot.ly/plotly-3.0.0.min\"</script>\n",
       "        "
      ]
     },
     "metadata": {},
     "output_type": "display_data"
    }
   ],
   "source": [
    "import pandas as pd\n",
    "import plotly.express as px\n",
    "import plotly.graph_objects as go\n",
    "import prophet as Prophet\n",
    "\n",
    "# Initializing plotly\n",
    "import plotly.offline as pyo\n",
    "pyo.init_notebook_mode(connected=True)"
   ]
  },
  {
   "cell_type": "markdown",
   "metadata": {},
   "source": [
    "# Importing the Dataset & Exploring it"
   ]
  },
  {
   "cell_type": "code",
   "execution_count": 599,
   "metadata": {},
   "outputs": [],
   "source": [
    "df = pd.read_csv('itc_historical_data.csv')"
   ]
  },
  {
   "cell_type": "code",
   "execution_count": 600,
   "metadata": {},
   "outputs": [
    {
     "data": {
      "text/html": [
       "<div>\n",
       "<style scoped>\n",
       "    .dataframe tbody tr th:only-of-type {\n",
       "        vertical-align: middle;\n",
       "    }\n",
       "\n",
       "    .dataframe tbody tr th {\n",
       "        vertical-align: top;\n",
       "    }\n",
       "\n",
       "    .dataframe thead th {\n",
       "        text-align: right;\n",
       "    }\n",
       "</style>\n",
       "<table border=\"1\" class=\"dataframe\">\n",
       "  <thead>\n",
       "    <tr style=\"text-align: right;\">\n",
       "      <th></th>\n",
       "      <th>Date</th>\n",
       "      <th>series</th>\n",
       "      <th>OPEN</th>\n",
       "      <th>HIGH</th>\n",
       "      <th>LOW</th>\n",
       "      <th>PREV. CLOSE</th>\n",
       "      <th>ltp</th>\n",
       "      <th>close</th>\n",
       "      <th>vwap</th>\n",
       "      <th>52W H</th>\n",
       "      <th>52W L</th>\n",
       "      <th>VOLUME</th>\n",
       "      <th>VALUE</th>\n",
       "      <th>No. of trades</th>\n",
       "    </tr>\n",
       "  </thead>\n",
       "  <tbody>\n",
       "    <tr>\n",
       "      <th>0</th>\n",
       "      <td>14-Feb-2025</td>\n",
       "      <td>EQ</td>\n",
       "      <td>411.75</td>\n",
       "      <td>416.20</td>\n",
       "      <td>408.40</td>\n",
       "      <td>409.70</td>\n",
       "      <td>410.00</td>\n",
       "      <td>410.25</td>\n",
       "      <td>411.41</td>\n",
       "      <td>471.5</td>\n",
       "      <td>407.60</td>\n",
       "      <td>1,41,24,236</td>\n",
       "      <td>5,81,08,70,731.00</td>\n",
       "      <td>1,99,616</td>\n",
       "    </tr>\n",
       "    <tr>\n",
       "      <th>1</th>\n",
       "      <td>13-Feb-2025</td>\n",
       "      <td>EQ</td>\n",
       "      <td>409.95</td>\n",
       "      <td>413.95</td>\n",
       "      <td>409.00</td>\n",
       "      <td>409.90</td>\n",
       "      <td>410.00</td>\n",
       "      <td>409.70</td>\n",
       "      <td>411.14</td>\n",
       "      <td>471.5</td>\n",
       "      <td>407.60</td>\n",
       "      <td>1,29,89,029</td>\n",
       "      <td>5,34,03,10,573.90</td>\n",
       "      <td>1,85,598</td>\n",
       "    </tr>\n",
       "    <tr>\n",
       "      <th>2</th>\n",
       "      <td>12-Feb-2025</td>\n",
       "      <td>EQ</td>\n",
       "      <td>413.15</td>\n",
       "      <td>413.80</td>\n",
       "      <td>407.60</td>\n",
       "      <td>418.30</td>\n",
       "      <td>411.20</td>\n",
       "      <td>409.90</td>\n",
       "      <td>410.36</td>\n",
       "      <td>471.5</td>\n",
       "      <td>407.60</td>\n",
       "      <td>1,38,84,574</td>\n",
       "      <td>5,69,76,74,234.65</td>\n",
       "      <td>2,07,478</td>\n",
       "    </tr>\n",
       "    <tr>\n",
       "      <th>3</th>\n",
       "      <td>11-Feb-2025</td>\n",
       "      <td>EQ</td>\n",
       "      <td>428.80</td>\n",
       "      <td>430.55</td>\n",
       "      <td>417.50</td>\n",
       "      <td>427.20</td>\n",
       "      <td>418.05</td>\n",
       "      <td>418.30</td>\n",
       "      <td>421.57</td>\n",
       "      <td>471.5</td>\n",
       "      <td>417.50</td>\n",
       "      <td>1,42,88,751</td>\n",
       "      <td>6,02,37,50,310.80</td>\n",
       "      <td>1,87,384</td>\n",
       "    </tr>\n",
       "    <tr>\n",
       "      <th>4</th>\n",
       "      <td>10-Feb-2025</td>\n",
       "      <td>EQ</td>\n",
       "      <td>427.00</td>\n",
       "      <td>433.30</td>\n",
       "      <td>426.50</td>\n",
       "      <td>430.85</td>\n",
       "      <td>427.70</td>\n",
       "      <td>427.20</td>\n",
       "      <td>428.76</td>\n",
       "      <td>471.5</td>\n",
       "      <td>426.50</td>\n",
       "      <td>1,22,27,140</td>\n",
       "      <td>5,24,24,93,795.80</td>\n",
       "      <td>1,56,939</td>\n",
       "    </tr>\n",
       "    <tr>\n",
       "      <th>...</th>\n",
       "      <td>...</td>\n",
       "      <td>...</td>\n",
       "      <td>...</td>\n",
       "      <td>...</td>\n",
       "      <td>...</td>\n",
       "      <td>...</td>\n",
       "      <td>...</td>\n",
       "      <td>...</td>\n",
       "      <td>...</td>\n",
       "      <td>...</td>\n",
       "      <td>...</td>\n",
       "      <td>...</td>\n",
       "      <td>...</td>\n",
       "      <td>...</td>\n",
       "    </tr>\n",
       "    <tr>\n",
       "      <th>247</th>\n",
       "      <td>20-Feb-2024</td>\n",
       "      <td>EQ</td>\n",
       "      <td>410.45</td>\n",
       "      <td>410.45</td>\n",
       "      <td>404.30</td>\n",
       "      <td>409.25</td>\n",
       "      <td>406.90</td>\n",
       "      <td>406.10</td>\n",
       "      <td>406.62</td>\n",
       "      <td>499.7</td>\n",
       "      <td>369.65</td>\n",
       "      <td>1,40,84,218</td>\n",
       "      <td>5,72,69,13,345.05</td>\n",
       "      <td>2,00,707</td>\n",
       "    </tr>\n",
       "    <tr>\n",
       "      <th>248</th>\n",
       "      <td>19-Feb-2024</td>\n",
       "      <td>EQ</td>\n",
       "      <td>405.00</td>\n",
       "      <td>412.75</td>\n",
       "      <td>404.60</td>\n",
       "      <td>404.60</td>\n",
       "      <td>409.20</td>\n",
       "      <td>409.25</td>\n",
       "      <td>410.11</td>\n",
       "      <td>499.7</td>\n",
       "      <td>369.65</td>\n",
       "      <td>1,69,49,793</td>\n",
       "      <td>6,95,13,57,970.10</td>\n",
       "      <td>1,95,499</td>\n",
       "    </tr>\n",
       "    <tr>\n",
       "      <th>249</th>\n",
       "      <td>16-Feb-2024</td>\n",
       "      <td>EQ</td>\n",
       "      <td>405.00</td>\n",
       "      <td>409.55</td>\n",
       "      <td>399.40</td>\n",
       "      <td>403.90</td>\n",
       "      <td>404.60</td>\n",
       "      <td>404.60</td>\n",
       "      <td>403.76</td>\n",
       "      <td>499.7</td>\n",
       "      <td>369.65</td>\n",
       "      <td>3,75,18,847</td>\n",
       "      <td>15,14,84,23,499.50</td>\n",
       "      <td>3,02,859</td>\n",
       "    </tr>\n",
       "    <tr>\n",
       "      <th>250</th>\n",
       "      <td>15-Feb-2024</td>\n",
       "      <td>EQ</td>\n",
       "      <td>413.00</td>\n",
       "      <td>414.55</td>\n",
       "      <td>403.15</td>\n",
       "      <td>411.55</td>\n",
       "      <td>404.75</td>\n",
       "      <td>403.90</td>\n",
       "      <td>406.08</td>\n",
       "      <td>499.7</td>\n",
       "      <td>369.65</td>\n",
       "      <td>2,03,83,983</td>\n",
       "      <td>8,27,75,77,375.40</td>\n",
       "      <td>2,67,030</td>\n",
       "    </tr>\n",
       "    <tr>\n",
       "      <th>251</th>\n",
       "      <td>14-Feb-2024</td>\n",
       "      <td>EQ</td>\n",
       "      <td>406.00</td>\n",
       "      <td>412.25</td>\n",
       "      <td>404.40</td>\n",
       "      <td>406.75</td>\n",
       "      <td>412.15</td>\n",
       "      <td>411.55</td>\n",
       "      <td>408.96</td>\n",
       "      <td>499.7</td>\n",
       "      <td>369.65</td>\n",
       "      <td>1,21,50,077</td>\n",
       "      <td>4,96,89,46,837.35</td>\n",
       "      <td>1,80,419</td>\n",
       "    </tr>\n",
       "  </tbody>\n",
       "</table>\n",
       "<p>252 rows × 14 columns</p>\n",
       "</div>"
      ],
      "text/plain": [
       "            Date series    OPEN    HIGH     LOW  PREV. CLOSE     ltp   close  \\\n",
       "0    14-Feb-2025     EQ  411.75  416.20  408.40       409.70  410.00  410.25   \n",
       "1    13-Feb-2025     EQ  409.95  413.95  409.00       409.90  410.00  409.70   \n",
       "2    12-Feb-2025     EQ  413.15  413.80  407.60       418.30  411.20  409.90   \n",
       "3    11-Feb-2025     EQ  428.80  430.55  417.50       427.20  418.05  418.30   \n",
       "4    10-Feb-2025     EQ  427.00  433.30  426.50       430.85  427.70  427.20   \n",
       "..           ...    ...     ...     ...     ...          ...     ...     ...   \n",
       "247  20-Feb-2024     EQ  410.45  410.45  404.30       409.25  406.90  406.10   \n",
       "248  19-Feb-2024     EQ  405.00  412.75  404.60       404.60  409.20  409.25   \n",
       "249  16-Feb-2024     EQ  405.00  409.55  399.40       403.90  404.60  404.60   \n",
       "250  15-Feb-2024     EQ  413.00  414.55  403.15       411.55  404.75  403.90   \n",
       "251  14-Feb-2024     EQ  406.00  412.25  404.40       406.75  412.15  411.55   \n",
       "\n",
       "       vwap  52W H   52W L       VOLUME               VALUE No. of trades  \n",
       "0    411.41  471.5  407.60  1,41,24,236   5,81,08,70,731.00      1,99,616  \n",
       "1    411.14  471.5  407.60  1,29,89,029   5,34,03,10,573.90      1,85,598  \n",
       "2    410.36  471.5  407.60  1,38,84,574   5,69,76,74,234.65      2,07,478  \n",
       "3    421.57  471.5  417.50  1,42,88,751   6,02,37,50,310.80      1,87,384  \n",
       "4    428.76  471.5  426.50  1,22,27,140   5,24,24,93,795.80      1,56,939  \n",
       "..      ...    ...     ...          ...                 ...           ...  \n",
       "247  406.62  499.7  369.65  1,40,84,218   5,72,69,13,345.05      2,00,707  \n",
       "248  410.11  499.7  369.65  1,69,49,793   6,95,13,57,970.10      1,95,499  \n",
       "249  403.76  499.7  369.65  3,75,18,847  15,14,84,23,499.50      3,02,859  \n",
       "250  406.08  499.7  369.65  2,03,83,983   8,27,75,77,375.40      2,67,030  \n",
       "251  408.96  499.7  369.65  1,21,50,077   4,96,89,46,837.35      1,80,419  \n",
       "\n",
       "[252 rows x 14 columns]"
      ]
     },
     "execution_count": 600,
     "metadata": {},
     "output_type": "execute_result"
    }
   ],
   "source": [
    "df"
   ]
  },
  {
   "cell_type": "code",
   "execution_count": 601,
   "metadata": {},
   "outputs": [
    {
     "name": "stdout",
     "output_type": "stream",
     "text": [
      "<class 'pandas.core.frame.DataFrame'>\n",
      "RangeIndex: 252 entries, 0 to 251\n",
      "Data columns (total 14 columns):\n",
      " #   Column         Non-Null Count  Dtype  \n",
      "---  ------         --------------  -----  \n",
      " 0   Date           252 non-null    object \n",
      " 1   series         252 non-null    object \n",
      " 2   OPEN           252 non-null    float64\n",
      " 3   HIGH           252 non-null    float64\n",
      " 4   LOW            252 non-null    float64\n",
      " 5   PREV. CLOSE    252 non-null    float64\n",
      " 6   ltp            252 non-null    float64\n",
      " 7   close          252 non-null    float64\n",
      " 8   vwap           252 non-null    float64\n",
      " 9   52W H          252 non-null    float64\n",
      " 10  52W L          252 non-null    float64\n",
      " 11  VOLUME         252 non-null    object \n",
      " 12  VALUE          252 non-null    object \n",
      " 13  No. of trades  252 non-null    object \n",
      "dtypes: float64(9), object(5)\n",
      "memory usage: 27.7+ KB\n"
     ]
    }
   ],
   "source": [
    "df.info()"
   ]
  },
  {
   "cell_type": "code",
   "execution_count": 602,
   "metadata": {},
   "outputs": [
    {
     "data": {
      "text/html": [
       "<div>\n",
       "<style scoped>\n",
       "    .dataframe tbody tr th:only-of-type {\n",
       "        vertical-align: middle;\n",
       "    }\n",
       "\n",
       "    .dataframe tbody tr th {\n",
       "        vertical-align: top;\n",
       "    }\n",
       "\n",
       "    .dataframe thead th {\n",
       "        text-align: right;\n",
       "    }\n",
       "</style>\n",
       "<table border=\"1\" class=\"dataframe\">\n",
       "  <thead>\n",
       "    <tr style=\"text-align: right;\">\n",
       "      <th></th>\n",
       "      <th>OPEN</th>\n",
       "      <th>HIGH</th>\n",
       "      <th>LOW</th>\n",
       "      <th>PREV. CLOSE</th>\n",
       "      <th>ltp</th>\n",
       "      <th>close</th>\n",
       "      <th>vwap</th>\n",
       "      <th>52W H</th>\n",
       "      <th>52W L</th>\n",
       "    </tr>\n",
       "  </thead>\n",
       "  <tbody>\n",
       "    <tr>\n",
       "      <th>count</th>\n",
       "      <td>252.000000</td>\n",
       "      <td>252.000000</td>\n",
       "      <td>252.000000</td>\n",
       "      <td>252.000000</td>\n",
       "      <td>252.000000</td>\n",
       "      <td>252.000000</td>\n",
       "      <td>252.000000</td>\n",
       "      <td>252.000000</td>\n",
       "      <td>252.000000</td>\n",
       "    </tr>\n",
       "    <tr>\n",
       "      <th>mean</th>\n",
       "      <td>457.805952</td>\n",
       "      <td>462.018452</td>\n",
       "      <td>453.483532</td>\n",
       "      <td>457.406746</td>\n",
       "      <td>457.541667</td>\n",
       "      <td>457.420635</td>\n",
       "      <td>457.634603</td>\n",
       "      <td>505.726190</td>\n",
       "      <td>398.780357</td>\n",
       "    </tr>\n",
       "    <tr>\n",
       "      <th>std</th>\n",
       "      <td>33.450640</td>\n",
       "      <td>33.931890</td>\n",
       "      <td>33.360694</td>\n",
       "      <td>33.696087</td>\n",
       "      <td>33.663348</td>\n",
       "      <td>33.675839</td>\n",
       "      <td>33.652643</td>\n",
       "      <td>19.379377</td>\n",
       "      <td>15.329836</td>\n",
       "    </tr>\n",
       "    <tr>\n",
       "      <th>min</th>\n",
       "      <td>405.000000</td>\n",
       "      <td>406.500000</td>\n",
       "      <td>399.350000</td>\n",
       "      <td>403.350000</td>\n",
       "      <td>401.900000</td>\n",
       "      <td>403.350000</td>\n",
       "      <td>402.120000</td>\n",
       "      <td>461.750000</td>\n",
       "      <td>369.650000</td>\n",
       "    </tr>\n",
       "    <tr>\n",
       "      <th>25%</th>\n",
       "      <td>429.075000</td>\n",
       "      <td>432.275000</td>\n",
       "      <td>425.750000</td>\n",
       "      <td>428.862500</td>\n",
       "      <td>428.775000</td>\n",
       "      <td>428.862500</td>\n",
       "      <td>429.260000</td>\n",
       "      <td>499.700000</td>\n",
       "      <td>399.350000</td>\n",
       "    </tr>\n",
       "    <tr>\n",
       "      <th>50%</th>\n",
       "      <td>450.000000</td>\n",
       "      <td>457.675000</td>\n",
       "      <td>445.025000</td>\n",
       "      <td>450.775000</td>\n",
       "      <td>450.375000</td>\n",
       "      <td>450.775000</td>\n",
       "      <td>450.745000</td>\n",
       "      <td>499.700000</td>\n",
       "      <td>399.350000</td>\n",
       "    </tr>\n",
       "    <tr>\n",
       "      <th>75%</th>\n",
       "      <td>487.012500</td>\n",
       "      <td>492.325000</td>\n",
       "      <td>482.187500</td>\n",
       "      <td>488.012500</td>\n",
       "      <td>488.212500</td>\n",
       "      <td>488.012500</td>\n",
       "      <td>486.237500</td>\n",
       "      <td>528.500000</td>\n",
       "      <td>399.350000</td>\n",
       "    </tr>\n",
       "    <tr>\n",
       "      <th>max</th>\n",
       "      <td>520.600000</td>\n",
       "      <td>528.500000</td>\n",
       "      <td>520.250000</td>\n",
       "      <td>522.750000</td>\n",
       "      <td>522.250000</td>\n",
       "      <td>522.750000</td>\n",
       "      <td>524.140000</td>\n",
       "      <td>528.500000</td>\n",
       "      <td>441.250000</td>\n",
       "    </tr>\n",
       "  </tbody>\n",
       "</table>\n",
       "</div>"
      ],
      "text/plain": [
       "             OPEN        HIGH         LOW  PREV. CLOSE         ltp  \\\n",
       "count  252.000000  252.000000  252.000000   252.000000  252.000000   \n",
       "mean   457.805952  462.018452  453.483532   457.406746  457.541667   \n",
       "std     33.450640   33.931890   33.360694    33.696087   33.663348   \n",
       "min    405.000000  406.500000  399.350000   403.350000  401.900000   \n",
       "25%    429.075000  432.275000  425.750000   428.862500  428.775000   \n",
       "50%    450.000000  457.675000  445.025000   450.775000  450.375000   \n",
       "75%    487.012500  492.325000  482.187500   488.012500  488.212500   \n",
       "max    520.600000  528.500000  520.250000   522.750000  522.250000   \n",
       "\n",
       "            close        vwap       52W H       52W L  \n",
       "count  252.000000  252.000000  252.000000  252.000000  \n",
       "mean   457.420635  457.634603  505.726190  398.780357  \n",
       "std     33.675839   33.652643   19.379377   15.329836  \n",
       "min    403.350000  402.120000  461.750000  369.650000  \n",
       "25%    428.862500  429.260000  499.700000  399.350000  \n",
       "50%    450.775000  450.745000  499.700000  399.350000  \n",
       "75%    488.012500  486.237500  528.500000  399.350000  \n",
       "max    522.750000  524.140000  528.500000  441.250000  "
      ]
     },
     "execution_count": 602,
     "metadata": {},
     "output_type": "execute_result"
    }
   ],
   "source": [
    "df.describe()"
   ]
  },
  {
   "cell_type": "markdown",
   "metadata": {},
   "source": [
    "# Data Visualization using plotly express: Visualizing the historical data of ITC"
   ]
  },
  {
   "cell_type": "code",
   "execution_count": 603,
   "metadata": {},
   "outputs": [
    {
     "data": {
      "application/vnd.plotly.v1+json": {
       "config": {
        "plotlyServerURL": "https://plot.ly"
       },
       "data": [
        {
         "hovertemplate": "Date=%{x}<br>close=%{y}<extra></extra>",
         "legendgroup": "",
         "line": {
          "color": "#636efa",
          "dash": "solid"
         },
         "marker": {
          "symbol": "circle"
         },
         "mode": "lines",
         "name": "",
         "orientation": "v",
         "showlegend": false,
         "type": "scatter",
         "x": [
          "14-Feb-2025",
          "13-Feb-2025",
          "12-Feb-2025",
          "11-Feb-2025",
          "10-Feb-2025",
          "07-Feb-2025",
          "06-Feb-2025",
          "05-Feb-2025",
          "04-Feb-2025",
          "03-Feb-2025",
          "01-Feb-2025",
          "31-Jan-2025",
          "30-Jan-2025",
          "29-Jan-2025",
          "28-Jan-2025",
          "27-Jan-2025",
          "24-Jan-2025",
          "23-Jan-2025",
          "22-Jan-2025",
          "21-Jan-2025",
          "20-Jan-2025",
          "17-Jan-2025",
          "16-Jan-2025",
          "15-Jan-2025",
          "14-Jan-2025",
          "13-Jan-2025",
          "10-Jan-2025",
          "09-Jan-2025",
          "08-Jan-2025",
          "07-Jan-2025",
          "06-Jan-2025",
          "03-Jan-2025",
          "02-Jan-2025",
          "01-Jan-2025",
          "31-Dec-2024",
          "30-Dec-2024",
          "27-Dec-2024",
          "26-Dec-2024",
          "24-Dec-2024",
          "23-Dec-2024",
          "20-Dec-2024",
          "19-Dec-2024",
          "18-Dec-2024",
          "17-Dec-2024",
          "16-Dec-2024",
          "13-Dec-2024",
          "12-Dec-2024",
          "11-Dec-2024",
          "10-Dec-2024",
          "09-Dec-2024",
          "06-Dec-2024",
          "05-Dec-2024",
          "04-Dec-2024",
          "03-Dec-2024",
          "02-Dec-2024",
          "29-Nov-2024",
          "28-Nov-2024",
          "27-Nov-2024",
          "26-Nov-2024",
          "25-Nov-2024",
          "22-Nov-2024",
          "21-Nov-2024",
          "19-Nov-2024",
          "18-Nov-2024",
          "14-Nov-2024",
          "13-Nov-2024",
          "12-Nov-2024",
          "11-Nov-2024",
          "08-Nov-2024",
          "07-Nov-2024",
          "06-Nov-2024",
          "05-Nov-2024",
          "04-Nov-2024",
          "01-Nov-2024",
          "31-Oct-2024",
          "30-Oct-2024",
          "29-Oct-2024",
          "28-Oct-2024",
          "25-Oct-2024",
          "24-Oct-2024",
          "23-Oct-2024",
          "22-Oct-2024",
          "21-Oct-2024",
          "18-Oct-2024",
          "17-Oct-2024",
          "16-Oct-2024",
          "15-Oct-2024",
          "14-Oct-2024",
          "11-Oct-2024",
          "10-Oct-2024",
          "09-Oct-2024",
          "08-Oct-2024",
          "07-Oct-2024",
          "04-Oct-2024",
          "03-Oct-2024",
          "01-Oct-2024",
          "30-Sep-2024",
          "27-Sep-2024",
          "26-Sep-2024",
          "25-Sep-2024",
          "24-Sep-2024",
          "23-Sep-2024",
          "20-Sep-2024",
          "19-Sep-2024",
          "18-Sep-2024",
          "17-Sep-2024",
          "16-Sep-2024",
          "13-Sep-2024",
          "12-Sep-2024",
          "11-Sep-2024",
          "10-Sep-2024",
          "09-Sep-2024",
          "06-Sep-2024",
          "05-Sep-2024",
          "04-Sep-2024",
          "03-Sep-2024",
          "02-Sep-2024",
          "30-Aug-2024",
          "29-Aug-2024",
          "28-Aug-2024",
          "27-Aug-2024",
          "26-Aug-2024",
          "23-Aug-2024",
          "22-Aug-2024",
          "21-Aug-2024",
          "20-Aug-2024",
          "19-Aug-2024",
          "16-Aug-2024",
          "14-Aug-2024",
          "13-Aug-2024",
          "12-Aug-2024",
          "09-Aug-2024",
          "08-Aug-2024",
          "07-Aug-2024",
          "06-Aug-2024",
          "05-Aug-2024",
          "02-Aug-2024",
          "01-Aug-2024",
          "31-Jul-2024",
          "30-Jul-2024",
          "29-Jul-2024",
          "26-Jul-2024",
          "25-Jul-2024",
          "24-Jul-2024",
          "23-Jul-2024",
          "22-Jul-2024",
          "19-Jul-2024",
          "18-Jul-2024",
          "16-Jul-2024",
          "15-Jul-2024",
          "12-Jul-2024",
          "11-Jul-2024",
          "10-Jul-2024",
          "09-Jul-2024",
          "08-Jul-2024",
          "05-Jul-2024",
          "04-Jul-2024",
          "03-Jul-2024",
          "02-Jul-2024",
          "01-Jul-2024",
          "28-Jun-2024",
          "27-Jun-2024",
          "26-Jun-2024",
          "25-Jun-2024",
          "24-Jun-2024",
          "21-Jun-2024",
          "20-Jun-2024",
          "19-Jun-2024",
          "18-Jun-2024",
          "14-Jun-2024",
          "13-Jun-2024",
          "12-Jun-2024",
          "11-Jun-2024",
          "10-Jun-2024",
          "07-Jun-2024",
          "06-Jun-2024",
          "05-Jun-2024",
          "04-Jun-2024",
          "03-Jun-2024",
          "31-May-2024",
          "30-May-2024",
          "29-May-2024",
          "28-May-2024",
          "27-May-2024",
          "24-May-2024",
          "23-May-2024",
          "22-May-2024",
          "21-May-2024",
          "18-May-2024",
          "17-May-2024",
          "16-May-2024",
          "15-May-2024",
          "14-May-2024",
          "13-May-2024",
          "10-May-2024",
          "09-May-2024",
          "08-May-2024",
          "07-May-2024",
          "06-May-2024",
          "03-May-2024",
          "02-May-2024",
          "30-Apr-2024",
          "29-Apr-2024",
          "26-Apr-2024",
          "25-Apr-2024",
          "24-Apr-2024",
          "23-Apr-2024",
          "22-Apr-2024",
          "19-Apr-2024",
          "18-Apr-2024",
          "16-Apr-2024",
          "15-Apr-2024",
          "12-Apr-2024",
          "10-Apr-2024",
          "09-Apr-2024",
          "08-Apr-2024",
          "05-Apr-2024",
          "04-Apr-2024",
          "03-Apr-2024",
          "02-Apr-2024",
          "01-Apr-2024",
          "28-Mar-2024",
          "27-Mar-2024",
          "26-Mar-2024",
          "22-Mar-2024",
          "21-Mar-2024",
          "20-Mar-2024",
          "19-Mar-2024",
          "18-Mar-2024",
          "15-Mar-2024",
          "14-Mar-2024",
          "13-Mar-2024",
          "12-Mar-2024",
          "11-Mar-2024",
          "07-Mar-2024",
          "06-Mar-2024",
          "05-Mar-2024",
          "04-Mar-2024",
          "02-Mar-2024",
          "01-Mar-2024",
          "29-Feb-2024",
          "28-Feb-2024",
          "27-Feb-2024",
          "26-Feb-2024",
          "23-Feb-2024",
          "22-Feb-2024",
          "21-Feb-2024",
          "20-Feb-2024",
          "19-Feb-2024",
          "16-Feb-2024",
          "15-Feb-2024",
          "14-Feb-2024"
         ],
         "xaxis": "x",
         "y": {
          "bdata": "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",
          "dtype": "f8"
         },
         "yaxis": "y"
        }
       ],
       "layout": {
        "legend": {
         "tracegroupgap": 0
        },
        "template": {
         "data": {
          "bar": [
           {
            "error_x": {
             "color": "#2a3f5f"
            },
            "error_y": {
             "color": "#2a3f5f"
            },
            "marker": {
             "line": {
              "color": "#E5ECF6",
              "width": 0.5
             },
             "pattern": {
              "fillmode": "overlay",
              "size": 10,
              "solidity": 0.2
             }
            },
            "type": "bar"
           }
          ],
          "barpolar": [
           {
            "marker": {
             "line": {
              "color": "#E5ECF6",
              "width": 0.5
             },
             "pattern": {
              "fillmode": "overlay",
              "size": 10,
              "solidity": 0.2
             }
            },
            "type": "barpolar"
           }
          ],
          "carpet": [
           {
            "aaxis": {
             "endlinecolor": "#2a3f5f",
             "gridcolor": "white",
             "linecolor": "white",
             "minorgridcolor": "white",
             "startlinecolor": "#2a3f5f"
            },
            "baxis": {
             "endlinecolor": "#2a3f5f",
             "gridcolor": "white",
             "linecolor": "white",
             "minorgridcolor": "white",
             "startlinecolor": "#2a3f5f"
            },
            "type": "carpet"
           }
          ],
          "choropleth": [
           {
            "colorbar": {
             "outlinewidth": 0,
             "ticks": ""
            },
            "type": "choropleth"
           }
          ],
          "contour": [
           {
            "colorbar": {
             "outlinewidth": 0,
             "ticks": ""
            },
            "colorscale": [
             [
              0,
              "#0d0887"
             ],
             [
              0.1111111111111111,
              "#46039f"
             ],
             [
              0.2222222222222222,
              "#7201a8"
             ],
             [
              0.3333333333333333,
              "#9c179e"
             ],
             [
              0.4444444444444444,
              "#bd3786"
             ],
             [
              0.5555555555555556,
              "#d8576b"
             ],
             [
              0.6666666666666666,
              "#ed7953"
             ],
             [
              0.7777777777777778,
              "#fb9f3a"
             ],
             [
              0.8888888888888888,
              "#fdca26"
             ],
             [
              1,
              "#f0f921"
             ]
            ],
            "type": "contour"
           }
          ],
          "contourcarpet": [
           {
            "colorbar": {
             "outlinewidth": 0,
             "ticks": ""
            },
            "type": "contourcarpet"
           }
          ],
          "heatmap": [
           {
            "colorbar": {
             "outlinewidth": 0,
             "ticks": ""
            },
            "colorscale": [
             [
              0,
              "#0d0887"
             ],
             [
              0.1111111111111111,
              "#46039f"
             ],
             [
              0.2222222222222222,
              "#7201a8"
             ],
             [
              0.3333333333333333,
              "#9c179e"
             ],
             [
              0.4444444444444444,
              "#bd3786"
             ],
             [
              0.5555555555555556,
              "#d8576b"
             ],
             [
              0.6666666666666666,
              "#ed7953"
             ],
             [
              0.7777777777777778,
              "#fb9f3a"
             ],
             [
              0.8888888888888888,
              "#fdca26"
             ],
             [
              1,
              "#f0f921"
             ]
            ],
            "type": "heatmap"
           }
          ],
          "histogram": [
           {
            "marker": {
             "pattern": {
              "fillmode": "overlay",
              "size": 10,
              "solidity": 0.2
             }
            },
            "type": "histogram"
           }
          ],
          "histogram2d": [
           {
            "colorbar": {
             "outlinewidth": 0,
             "ticks": ""
            },
            "colorscale": [
             [
              0,
              "#0d0887"
             ],
             [
              0.1111111111111111,
              "#46039f"
             ],
             [
              0.2222222222222222,
              "#7201a8"
             ],
             [
              0.3333333333333333,
              "#9c179e"
             ],
             [
              0.4444444444444444,
              "#bd3786"
             ],
             [
              0.5555555555555556,
              "#d8576b"
             ],
             [
              0.6666666666666666,
              "#ed7953"
             ],
             [
              0.7777777777777778,
              "#fb9f3a"
             ],
             [
              0.8888888888888888,
              "#fdca26"
             ],
             [
              1,
              "#f0f921"
             ]
            ],
            "type": "histogram2d"
           }
          ],
          "histogram2dcontour": [
           {
            "colorbar": {
             "outlinewidth": 0,
             "ticks": ""
            },
            "colorscale": [
             [
              0,
              "#0d0887"
             ],
             [
              0.1111111111111111,
              "#46039f"
             ],
             [
              0.2222222222222222,
              "#7201a8"
             ],
             [
              0.3333333333333333,
              "#9c179e"
             ],
             [
              0.4444444444444444,
              "#bd3786"
             ],
             [
              0.5555555555555556,
              "#d8576b"
             ],
             [
              0.6666666666666666,
              "#ed7953"
             ],
             [
              0.7777777777777778,
              "#fb9f3a"
             ],
             [
              0.8888888888888888,
              "#fdca26"
             ],
             [
              1,
              "#f0f921"
             ]
            ],
            "type": "histogram2dcontour"
           }
          ],
          "mesh3d": [
           {
            "colorbar": {
             "outlinewidth": 0,
             "ticks": ""
            },
            "type": "mesh3d"
           }
          ],
          "parcoords": [
           {
            "line": {
             "colorbar": {
              "outlinewidth": 0,
              "ticks": ""
             }
            },
            "type": "parcoords"
           }
          ],
          "pie": [
           {
            "automargin": true,
            "type": "pie"
           }
          ],
          "scatter": [
           {
            "fillpattern": {
             "fillmode": "overlay",
             "size": 10,
             "solidity": 0.2
            },
            "type": "scatter"
           }
          ],
          "scatter3d": [
           {
            "line": {
             "colorbar": {
              "outlinewidth": 0,
              "ticks": ""
             }
            },
            "marker": {
             "colorbar": {
              "outlinewidth": 0,
              "ticks": ""
             }
            },
            "type": "scatter3d"
           }
          ],
          "scattercarpet": [
           {
            "marker": {
             "colorbar": {
              "outlinewidth": 0,
              "ticks": ""
             }
            },
            "type": "scattercarpet"
           }
          ],
          "scattergeo": [
           {
            "marker": {
             "colorbar": {
              "outlinewidth": 0,
              "ticks": ""
             }
            },
            "type": "scattergeo"
           }
          ],
          "scattergl": [
           {
            "marker": {
             "colorbar": {
              "outlinewidth": 0,
              "ticks": ""
             }
            },
            "type": "scattergl"
           }
          ],
          "scattermap": [
           {
            "marker": {
             "colorbar": {
              "outlinewidth": 0,
              "ticks": ""
             }
            },
            "type": "scattermap"
           }
          ],
          "scattermapbox": [
           {
            "marker": {
             "colorbar": {
              "outlinewidth": 0,
              "ticks": ""
             }
            },
            "type": "scattermapbox"
           }
          ],
          "scatterpolar": [
           {
            "marker": {
             "colorbar": {
              "outlinewidth": 0,
              "ticks": ""
             }
            },
            "type": "scatterpolar"
           }
          ],
          "scatterpolargl": [
           {
            "marker": {
             "colorbar": {
              "outlinewidth": 0,
              "ticks": ""
             }
            },
            "type": "scatterpolargl"
           }
          ],
          "scatterternary": [
           {
            "marker": {
             "colorbar": {
              "outlinewidth": 0,
              "ticks": ""
             }
            },
            "type": "scatterternary"
           }
          ],
          "surface": [
           {
            "colorbar": {
             "outlinewidth": 0,
             "ticks": ""
            },
            "colorscale": [
             [
              0,
              "#0d0887"
             ],
             [
              0.1111111111111111,
              "#46039f"
             ],
             [
              0.2222222222222222,
              "#7201a8"
             ],
             [
              0.3333333333333333,
              "#9c179e"
             ],
             [
              0.4444444444444444,
              "#bd3786"
             ],
             [
              0.5555555555555556,
              "#d8576b"
             ],
             [
              0.6666666666666666,
              "#ed7953"
             ],
             [
              0.7777777777777778,
              "#fb9f3a"
             ],
             [
              0.8888888888888888,
              "#fdca26"
             ],
             [
              1,
              "#f0f921"
             ]
            ],
            "type": "surface"
           }
          ],
          "table": [
           {
            "cells": {
             "fill": {
              "color": "#EBF0F8"
             },
             "line": {
              "color": "white"
             }
            },
            "header": {
             "fill": {
              "color": "#C8D4E3"
             },
             "line": {
              "color": "white"
             }
            },
            "type": "table"
           }
          ]
         },
         "layout": {
          "annotationdefaults": {
           "arrowcolor": "#2a3f5f",
           "arrowhead": 0,
           "arrowwidth": 1
          },
          "autotypenumbers": "strict",
          "coloraxis": {
           "colorbar": {
            "outlinewidth": 0,
            "ticks": ""
           }
          },
          "colorscale": {
           "diverging": [
            [
             0,
             "#8e0152"
            ],
            [
             0.1,
             "#c51b7d"
            ],
            [
             0.2,
             "#de77ae"
            ],
            [
             0.3,
             "#f1b6da"
            ],
            [
             0.4,
             "#fde0ef"
            ],
            [
             0.5,
             "#f7f7f7"
            ],
            [
             0.6,
             "#e6f5d0"
            ],
            [
             0.7,
             "#b8e186"
            ],
            [
             0.8,
             "#7fbc41"
            ],
            [
             0.9,
             "#4d9221"
            ],
            [
             1,
             "#276419"
            ]
           ],
           "sequential": [
            [
             0,
             "#0d0887"
            ],
            [
             0.1111111111111111,
             "#46039f"
            ],
            [
             0.2222222222222222,
             "#7201a8"
            ],
            [
             0.3333333333333333,
             "#9c179e"
            ],
            [
             0.4444444444444444,
             "#bd3786"
            ],
            [
             0.5555555555555556,
             "#d8576b"
            ],
            [
             0.6666666666666666,
             "#ed7953"
            ],
            [
             0.7777777777777778,
             "#fb9f3a"
            ],
            [
             0.8888888888888888,
             "#fdca26"
            ],
            [
             1,
             "#f0f921"
            ]
           ],
           "sequentialminus": [
            [
             0,
             "#0d0887"
            ],
            [
             0.1111111111111111,
             "#46039f"
            ],
            [
             0.2222222222222222,
             "#7201a8"
            ],
            [
             0.3333333333333333,
             "#9c179e"
            ],
            [
             0.4444444444444444,
             "#bd3786"
            ],
            [
             0.5555555555555556,
             "#d8576b"
            ],
            [
             0.6666666666666666,
             "#ed7953"
            ],
            [
             0.7777777777777778,
             "#fb9f3a"
            ],
            [
             0.8888888888888888,
             "#fdca26"
            ],
            [
             1,
             "#f0f921"
            ]
           ]
          },
          "colorway": [
           "#636efa",
           "#EF553B",
           "#00cc96",
           "#ab63fa",
           "#FFA15A",
           "#19d3f3",
           "#FF6692",
           "#B6E880",
           "#FF97FF",
           "#FECB52"
          ],
          "font": {
           "color": "#2a3f5f"
          },
          "geo": {
           "bgcolor": "white",
           "lakecolor": "white",
           "landcolor": "#E5ECF6",
           "showlakes": true,
           "showland": true,
           "subunitcolor": "white"
          },
          "hoverlabel": {
           "align": "left"
          },
          "hovermode": "closest",
          "mapbox": {
           "style": "light"
          },
          "paper_bgcolor": "white",
          "plot_bgcolor": "#E5ECF6",
          "polar": {
           "angularaxis": {
            "gridcolor": "white",
            "linecolor": "white",
            "ticks": ""
           },
           "bgcolor": "#E5ECF6",
           "radialaxis": {
            "gridcolor": "white",
            "linecolor": "white",
            "ticks": ""
           }
          },
          "scene": {
           "xaxis": {
            "backgroundcolor": "#E5ECF6",
            "gridcolor": "white",
            "gridwidth": 2,
            "linecolor": "white",
            "showbackground": true,
            "ticks": "",
            "zerolinecolor": "white"
           },
           "yaxis": {
            "backgroundcolor": "#E5ECF6",
            "gridcolor": "white",
            "gridwidth": 2,
            "linecolor": "white",
            "showbackground": true,
            "ticks": "",
            "zerolinecolor": "white"
           },
           "zaxis": {
            "backgroundcolor": "#E5ECF6",
            "gridcolor": "white",
            "gridwidth": 2,
            "linecolor": "white",
            "showbackground": true,
            "ticks": "",
            "zerolinecolor": "white"
           }
          },
          "shapedefaults": {
           "line": {
            "color": "#2a3f5f"
           }
          },
          "ternary": {
           "aaxis": {
            "gridcolor": "white",
            "linecolor": "white",
            "ticks": ""
           },
           "baxis": {
            "gridcolor": "white",
            "linecolor": "white",
            "ticks": ""
           },
           "bgcolor": "#E5ECF6",
           "caxis": {
            "gridcolor": "white",
            "linecolor": "white",
            "ticks": ""
           }
          },
          "title": {
           "x": 0.05
          },
          "xaxis": {
           "automargin": true,
           "gridcolor": "white",
           "linecolor": "white",
           "ticks": "",
           "title": {
            "standoff": 15
           },
           "zerolinecolor": "white",
           "zerolinewidth": 2
          },
          "yaxis": {
           "automargin": true,
           "gridcolor": "white",
           "linecolor": "white",
           "ticks": "",
           "title": {
            "standoff": 15
           },
           "zerolinecolor": "white",
           "zerolinewidth": 2
          }
         }
        },
        "title": {
         "text": "ITC Historical Performance"
        },
        "xaxis": {
         "anchor": "y",
         "domain": [
          0,
          1
         ],
         "title": {
          "text": "Date"
         }
        },
        "yaxis": {
         "anchor": "x",
         "domain": [
          0,
          1
         ],
         "title": {
          "text": "close"
         }
        }
       }
      },
      "text/html": [
       "<div>            <script src=\"https://cdnjs.cloudflare.com/ajax/libs/mathjax/2.7.5/MathJax.js?config=TeX-AMS-MML_SVG\"></script><script type=\"text/javascript\">if (window.MathJax && window.MathJax.Hub && window.MathJax.Hub.Config) {window.MathJax.Hub.Config({SVG: {font: \"STIX-Web\"}});}</script>                <script type=\"text/javascript\">window.PlotlyConfig = {MathJaxConfig: 'local'};</script>\n",
       "        <script charset=\"utf-8\" src=\"https://cdn.plot.ly/plotly-3.0.0.min.js\"></script>                <div id=\"b6a5cc44-5922-40ac-98f1-6a9fc8a8f7a7\" class=\"plotly-graph-div\" style=\"height:525px; width:100%;\"></div>            <script type=\"text/javascript\">                window.PLOTLYENV=window.PLOTLYENV || {};                                if (document.getElementById(\"b6a5cc44-5922-40ac-98f1-6a9fc8a8f7a7\")) {                    Plotly.newPlot(                        \"b6a5cc44-5922-40ac-98f1-6a9fc8a8f7a7\",                        [{\"hovertemplate\":\"Date=%{x}\\u003cbr\\u003eclose=%{y}\\u003cextra\\u003e\\u003c\\u002fextra\\u003e\",\"legendgroup\":\"\",\"line\":{\"color\":\"#636efa\",\"dash\":\"solid\"},\"marker\":{\"symbol\":\"circle\"},\"mode\":\"lines\",\"name\":\"\",\"orientation\":\"v\",\"showlegend\":false,\"x\":[\"14-Feb-2025\",\"13-Feb-2025\",\"12-Feb-2025\",\"11-Feb-2025\",\"10-Feb-2025\",\"07-Feb-2025\",\"06-Feb-2025\",\"05-Feb-2025\",\"04-Feb-2025\",\"03-Feb-2025\",\"01-Feb-2025\",\"31-Jan-2025\",\"30-Jan-2025\",\"29-Jan-2025\",\"28-Jan-2025\",\"27-Jan-2025\",\"24-Jan-2025\",\"23-Jan-2025\",\"22-Jan-2025\",\"21-Jan-2025\",\"20-Jan-2025\",\"17-Jan-2025\",\"16-Jan-2025\",\"15-Jan-2025\",\"14-Jan-2025\",\"13-Jan-2025\",\"10-Jan-2025\",\"09-Jan-2025\",\"08-Jan-2025\",\"07-Jan-2025\",\"06-Jan-2025\",\"03-Jan-2025\",\"02-Jan-2025\",\"01-Jan-2025\",\"31-Dec-2024\",\"30-Dec-2024\",\"27-Dec-2024\",\"26-Dec-2024\",\"24-Dec-2024\",\"23-Dec-2024\",\"20-Dec-2024\",\"19-Dec-2024\",\"18-Dec-2024\",\"17-Dec-2024\",\"16-Dec-2024\",\"13-Dec-2024\",\"12-Dec-2024\",\"11-Dec-2024\",\"10-Dec-2024\",\"09-Dec-2024\",\"06-Dec-2024\",\"05-Dec-2024\",\"04-Dec-2024\",\"03-Dec-2024\",\"02-Dec-2024\",\"29-Nov-2024\",\"28-Nov-2024\",\"27-Nov-2024\",\"26-Nov-2024\",\"25-Nov-2024\",\"22-Nov-2024\",\"21-Nov-2024\",\"19-Nov-2024\",\"18-Nov-2024\",\"14-Nov-2024\",\"13-Nov-2024\",\"12-Nov-2024\",\"11-Nov-2024\",\"08-Nov-2024\",\"07-Nov-2024\",\"06-Nov-2024\",\"05-Nov-2024\",\"04-Nov-2024\",\"01-Nov-2024\",\"31-Oct-2024\",\"30-Oct-2024\",\"29-Oct-2024\",\"28-Oct-2024\",\"25-Oct-2024\",\"24-Oct-2024\",\"23-Oct-2024\",\"22-Oct-2024\",\"21-Oct-2024\",\"18-Oct-2024\",\"17-Oct-2024\",\"16-Oct-2024\",\"15-Oct-2024\",\"14-Oct-2024\",\"11-Oct-2024\",\"10-Oct-2024\",\"09-Oct-2024\",\"08-Oct-2024\",\"07-Oct-2024\",\"04-Oct-2024\",\"03-Oct-2024\",\"01-Oct-2024\",\"30-Sep-2024\",\"27-Sep-2024\",\"26-Sep-2024\",\"25-Sep-2024\",\"24-Sep-2024\",\"23-Sep-2024\",\"20-Sep-2024\",\"19-Sep-2024\",\"18-Sep-2024\",\"17-Sep-2024\",\"16-Sep-2024\",\"13-Sep-2024\",\"12-Sep-2024\",\"11-Sep-2024\",\"10-Sep-2024\",\"09-Sep-2024\",\"06-Sep-2024\",\"05-Sep-2024\",\"04-Sep-2024\",\"03-Sep-2024\",\"02-Sep-2024\",\"30-Aug-2024\",\"29-Aug-2024\",\"28-Aug-2024\",\"27-Aug-2024\",\"26-Aug-2024\",\"23-Aug-2024\",\"22-Aug-2024\",\"21-Aug-2024\",\"20-Aug-2024\",\"19-Aug-2024\",\"16-Aug-2024\",\"14-Aug-2024\",\"13-Aug-2024\",\"12-Aug-2024\",\"09-Aug-2024\",\"08-Aug-2024\",\"07-Aug-2024\",\"06-Aug-2024\",\"05-Aug-2024\",\"02-Aug-2024\",\"01-Aug-2024\",\"31-Jul-2024\",\"30-Jul-2024\",\"29-Jul-2024\",\"26-Jul-2024\",\"25-Jul-2024\",\"24-Jul-2024\",\"23-Jul-2024\",\"22-Jul-2024\",\"19-Jul-2024\",\"18-Jul-2024\",\"16-Jul-2024\",\"15-Jul-2024\",\"12-Jul-2024\",\"11-Jul-2024\",\"10-Jul-2024\",\"09-Jul-2024\",\"08-Jul-2024\",\"05-Jul-2024\",\"04-Jul-2024\",\"03-Jul-2024\",\"02-Jul-2024\",\"01-Jul-2024\",\"28-Jun-2024\",\"27-Jun-2024\",\"26-Jun-2024\",\"25-Jun-2024\",\"24-Jun-2024\",\"21-Jun-2024\",\"20-Jun-2024\",\"19-Jun-2024\",\"18-Jun-2024\",\"14-Jun-2024\",\"13-Jun-2024\",\"12-Jun-2024\",\"11-Jun-2024\",\"10-Jun-2024\",\"07-Jun-2024\",\"06-Jun-2024\",\"05-Jun-2024\",\"04-Jun-2024\",\"03-Jun-2024\",\"31-May-2024\",\"30-May-2024\",\"29-May-2024\",\"28-May-2024\",\"27-May-2024\",\"24-May-2024\",\"23-May-2024\",\"22-May-2024\",\"21-May-2024\",\"18-May-2024\",\"17-May-2024\",\"16-May-2024\",\"15-May-2024\",\"14-May-2024\",\"13-May-2024\",\"10-May-2024\",\"09-May-2024\",\"08-May-2024\",\"07-May-2024\",\"06-May-2024\",\"03-May-2024\",\"02-May-2024\",\"30-Apr-2024\",\"29-Apr-2024\",\"26-Apr-2024\",\"25-Apr-2024\",\"24-Apr-2024\",\"23-Apr-2024\",\"22-Apr-2024\",\"19-Apr-2024\",\"18-Apr-2024\",\"16-Apr-2024\",\"15-Apr-2024\",\"12-Apr-2024\",\"10-Apr-2024\",\"09-Apr-2024\",\"08-Apr-2024\",\"05-Apr-2024\",\"04-Apr-2024\",\"03-Apr-2024\",\"02-Apr-2024\",\"01-Apr-2024\",\"28-Mar-2024\",\"27-Mar-2024\",\"26-Mar-2024\",\"22-Mar-2024\",\"21-Mar-2024\",\"20-Mar-2024\",\"19-Mar-2024\",\"18-Mar-2024\",\"15-Mar-2024\",\"14-Mar-2024\",\"13-Mar-2024\",\"12-Mar-2024\",\"11-Mar-2024\",\"07-Mar-2024\",\"06-Mar-2024\",\"05-Mar-2024\",\"04-Mar-2024\",\"02-Mar-2024\",\"01-Mar-2024\",\"29-Feb-2024\",\"28-Feb-2024\",\"27-Feb-2024\",\"26-Feb-2024\",\"23-Feb-2024\",\"22-Feb-2024\",\"21-Feb-2024\",\"20-Feb-2024\",\"19-Feb-2024\",\"16-Feb-2024\",\"15-Feb-2024\",\"14-Feb-2024\"],\"xaxis\":\"x\",\"y\":{\"dtype\":\"f8\",\"bdata\":\"AAAAAACkeUAzMzMzM5t5QGZmZmZmnnlAzczMzMwkekAzMzMzM7N6QJqZmZmZ7XpAmpmZmZmRe0BmZmZmZgJ8QGZmZmZmcnxAmpmZmZllfEDNzMzMzOh8QAAAAAAA+HtAMzMzMzNDe0CamZmZmRV7QDMzMzMzN3tAmpmZmZmBe0CamZmZmZl7QDMzMzMzg3tAAAAAAABQe0DNzMzMzFh7QDMzMzMzW3tAMzMzMzODe0CamZmZmQ17QJqZmZmZVXtAmpmZmZlJe0DNzMzMzHB7QGZmZmZmzntAmpmZmZkhfEDNzMzMzBh8QJqZmZmZkXtAZmZmZmaqe0CamZmZmRl+QM3MzMzMkH5AMzMzMzM\\u002ffkBmZmZmZjp+QAAAAAAA0H1AmpmZmZnpfUAzMzMzM899QDMzMzMz531AAAAAAACkfUBmZmZmZgp9QM3MzMzMKH1AAAAAAABofUDNzMzMzFh9QJqZmZmZYX1AAAAAAABgfUCamZmZmcl8QAAAAAAAFH1AMzMzMzMXfUAzMzMzMw99QGZmZmZmcn1AAAAAAAA4fUCamZmZmTF9QM3MzMzMiH1AMzMzMzPTfUAAAAAAAMx9QGZmZmZmrn1AMzMzMzPPfUAAAAAAANB9QM3MzMzMzH1AZmZmZmaqfUBmZmZmZpJ8QJqZmZmZNX1AzczMzMwofUAzMzMzMx99QDMzMzMzg31AmpmZmZmNfUAzMzMzM899QM3MzMzM4H1AZmZmZmbefUCamZmZmRF+QDMzMzMzA35AmpmZmZlJfkDNzMzMzKR+QM3MzMzMjH5AzczMzMy4fkAzMzMzM39+QGZmZmZmQn5AzczMzMwkfkAzMzMzM3t9QJqZmZmZBX5AzczMzMwcfkBmZmZmZjp+QDMzMzMza35AZmZmZmaOfkAzMzMzM9N+QM3MzMzMKH9AMzMzMzMPf0AzMzMzM4N+QM3MzMzMwH5AMzMzMzO7fkAzMzMzM79\\u002fQDMzMzMz439AzczMzMx4f0AAAAAAAAaAQJqZmZmZIYBAMzMzMzMxgECamZmZmVWAQAAAAAAAVoBAZmZmZmYsgEAAAAAAABqAQJqZmZmZJ4BAMzMzMzMTgEAAAAAAAMR\\u002fQJqZmZmZtX9AAAAAAAC8f0CamZmZmfF\\u002fQM3MzMzMDoBAAAAAAAA8gEDNzMzMzBKAQM3MzMzMDIBAAAAAAAD8f0AzMzMzM1t\\u002fQDMzMzMz839AmpmZmZmlf0BmZmZmZtZ\\u002fQM3MzMzM4H9AZmZmZmZef0CamZmZmZF\\u002fQM3MzMzMFH9AmpmZmZlJf0AzMzMzM5t\\u002fQM3MzMzMnH9AzczMzMyIf0BmZmZmZpZ\\u002fQM3MzMzMLH9AMzMzMzNXf0BmZmZmZmp\\u002fQDMzMzMzw35AAAAAAACgfkCamZmZmel+QGZmZmZm\\u002fn5AAAAAAADsfkBmZmZmZsp+QM3MzMzMZH5AAAAAAABgfkCamZmZmZF+QDMzMzMz235AmpmZmZn1fkBmZmZmZp5+QM3MzMzMAH9AMzMzMzNjf0AzMzMzM59+QM3MzMzM4H5AMzMzMzPDfkDNzMzMzCh9QM3MzMzMqH1AAAAAAABkfUDNzMzMzBh9QGZmZmZm9nxAzczMzMywfEBmZmZmZqp8QDMzMzMzN3xAmpmZmZlJfECamZmZmbl7QGZmZmZmGntAzczMzMzQekDNzMzMzMR6QAAAAAAAmHpAzczMzMzQekBmZmZmZo56QJqZmZmZmXpAMzMzMzN\\u002fekDNzMzMzHR6QM3MzMzMdHpAmpmZmZk5ekDNzMzMzHR6QGZmZmZmenpAAAAAAADMekBmZmZmZvJ6QM3MzMzM5HpAzczMzMwEe0AAAAAAABB7QGZmZmZmTntAZmZmZmZye0BmZmZmZjZ7QM3MzMzM5HpAMzMzMzPzeUCamZmZmeV6QDMzMzMzp3pAmpmZmZl9ekAzMzMzM+96QAAAAAAA0HpAAAAAAAD4ekAzMzMzM0N7QJqZmZmZlXtAZmZmZmZ+e0DNzMzMzCx7QGZmZmZmSntAzczMzMxEe0AzMzMzM\\u002fd6QM3MzMzMvHpAMzMzMzPbekCamZmZmf16QJqZmZmZFXtAmpmZmZmRekAAAAAAAJB7QJqZmZmZhXtAAAAAAAAse0AzMzMzM0d7QAAAAAAAcHtAZmZmZmY6e0AzMzMzM2N7QAAAAAAAgHtAzczMzMxYe0BmZmZmZs56QDMzMzMz03pAzczMzMyUekAAAAAAAIx6QJqZmZmZLXpAZmZmZmaeekBmZmZmZp56QJqZmZmZ4XpAMzMzMzNPe0CamZmZmaV6QJqZmZmZ0XpAzczMzMy4ekAAAAAAAGx6QDMzMzMzk3pAmpmZmZmdekAzMzMzM6t6QJqZmZmZxXpAAAAAAADAekBmZmZmZrp6QJqZmZmZyXpAAAAAAABUekAzMzMzM\\u002ft5QM3MzMzMmHlAMzMzMzMXekCamZmZmTF6QGZmZmZmOnpAMzMzMzNnekAzMzMzM0d5QGZmZmZmlnlAzczMzMzYeUCamZmZmX15QGZmZmZmYnlAmpmZmZmReUDNzMzMzMB5QAAAAAAAmHlAzczMzMxkeUDNzMzMzIR5QGZmZmZmsnlAMzMzMzOTeUBmZmZmZrZ5QDMzMzMz53lAmpmZmZk1eUCamZmZmWF5QAAAAAAAlHlAmpmZmZlJeUBmZmZmZj55QM3MzMzMuHlA\"},\"yaxis\":\"y\",\"type\":\"scatter\"}],                        {\"template\":{\"data\":{\"histogram2dcontour\":[{\"type\":\"histogram2dcontour\",\"colorbar\":{\"outlinewidth\":0,\"ticks\":\"\"},\"colorscale\":[[0.0,\"#0d0887\"],[0.1111111111111111,\"#46039f\"],[0.2222222222222222,\"#7201a8\"],[0.3333333333333333,\"#9c179e\"],[0.4444444444444444,\"#bd3786\"],[0.5555555555555556,\"#d8576b\"],[0.6666666666666666,\"#ed7953\"],[0.7777777777777778,\"#fb9f3a\"],[0.8888888888888888,\"#fdca26\"],[1.0,\"#f0f921\"]]}],\"choropleth\":[{\"type\":\"choropleth\",\"colorbar\":{\"outlinewidth\":0,\"ticks\":\"\"}}],\"histogram2d\":[{\"type\":\"histogram2d\",\"colorbar\":{\"outlinewidth\":0,\"ticks\":\"\"},\"colorscale\":[[0.0,\"#0d0887\"],[0.1111111111111111,\"#46039f\"],[0.2222222222222222,\"#7201a8\"],[0.3333333333333333,\"#9c179e\"],[0.4444444444444444,\"#bd3786\"],[0.5555555555555556,\"#d8576b\"],[0.6666666666666666,\"#ed7953\"],[0.7777777777777778,\"#fb9f3a\"],[0.8888888888888888,\"#fdca26\"],[1.0,\"#f0f921\"]]}],\"heatmap\":[{\"type\":\"heatmap\",\"colorbar\":{\"outlinewidth\":0,\"ticks\":\"\"},\"colorscale\":[[0.0,\"#0d0887\"],[0.1111111111111111,\"#46039f\"],[0.2222222222222222,\"#7201a8\"],[0.3333333333333333,\"#9c179e\"],[0.4444444444444444,\"#bd3786\"],[0.5555555555555556,\"#d8576b\"],[0.6666666666666666,\"#ed7953\"],[0.7777777777777778,\"#fb9f3a\"],[0.8888888888888888,\"#fdca26\"],[1.0,\"#f0f921\"]]}],\"contourcarpet\":[{\"type\":\"contourcarpet\",\"colorbar\":{\"outlinewidth\":0,\"ticks\":\"\"}}],\"contour\":[{\"type\":\"contour\",\"colorbar\":{\"outlinewidth\":0,\"ticks\":\"\"},\"colorscale\":[[0.0,\"#0d0887\"],[0.1111111111111111,\"#46039f\"],[0.2222222222222222,\"#7201a8\"],[0.3333333333333333,\"#9c179e\"],[0.4444444444444444,\"#bd3786\"],[0.5555555555555556,\"#d8576b\"],[0.6666666666666666,\"#ed7953\"],[0.7777777777777778,\"#fb9f3a\"],[0.8888888888888888,\"#fdca26\"],[1.0,\"#f0f921\"]]}],\"surface\":[{\"type\":\"surface\",\"colorbar\":{\"outlinewidth\":0,\"ticks\":\"\"},\"colorscale\":[[0.0,\"#0d0887\"],[0.1111111111111111,\"#46039f\"],[0.2222222222222222,\"#7201a8\"],[0.3333333333333333,\"#9c179e\"],[0.4444444444444444,\"#bd3786\"],[0.5555555555555556,\"#d8576b\"],[0.6666666666666666,\"#ed7953\"],[0.7777777777777778,\"#fb9f3a\"],[0.8888888888888888,\"#fdca26\"],[1.0,\"#f0f921\"]]}],\"mesh3d\":[{\"type\":\"mesh3d\",\"colorbar\":{\"outlinewidth\":0,\"ticks\":\"\"}}],\"scatter\":[{\"fillpattern\":{\"fillmode\":\"overlay\",\"size\":10,\"solidity\":0.2},\"type\":\"scatter\"}],\"parcoords\":[{\"type\":\"parcoords\",\"line\":{\"colorbar\":{\"outlinewidth\":0,\"ticks\":\"\"}}}],\"scatterpolargl\":[{\"type\":\"scatterpolargl\",\"marker\":{\"colorbar\":{\"outlinewidth\":0,\"ticks\":\"\"}}}],\"bar\":[{\"error_x\":{\"color\":\"#2a3f5f\"},\"error_y\":{\"color\":\"#2a3f5f\"},\"marker\":{\"line\":{\"color\":\"#E5ECF6\",\"width\":0.5},\"pattern\":{\"fillmode\":\"overlay\",\"size\":10,\"solidity\":0.2}},\"type\":\"bar\"}],\"scattergeo\":[{\"type\":\"scattergeo\",\"marker\":{\"colorbar\":{\"outlinewidth\":0,\"ticks\":\"\"}}}],\"scatterpolar\":[{\"type\":\"scatterpolar\",\"marker\":{\"colorbar\":{\"outlinewidth\":0,\"ticks\":\"\"}}}],\"histogram\":[{\"marker\":{\"pattern\":{\"fillmode\":\"overlay\",\"size\":10,\"solidity\":0.2}},\"type\":\"histogram\"}],\"scattergl\":[{\"type\":\"scattergl\",\"marker\":{\"colorbar\":{\"outlinewidth\":0,\"ticks\":\"\"}}}],\"scatter3d\":[{\"type\":\"scatter3d\",\"line\":{\"colorbar\":{\"outlinewidth\":0,\"ticks\":\"\"}},\"marker\":{\"colorbar\":{\"outlinewidth\":0,\"ticks\":\"\"}}}],\"scattermap\":[{\"type\":\"scattermap\",\"marker\":{\"colorbar\":{\"outlinewidth\":0,\"ticks\":\"\"}}}],\"scattermapbox\":[{\"type\":\"scattermapbox\",\"marker\":{\"colorbar\":{\"outlinewidth\":0,\"ticks\":\"\"}}}],\"scatterternary\":[{\"type\":\"scatterternary\",\"marker\":{\"colorbar\":{\"outlinewidth\":0,\"ticks\":\"\"}}}],\"scattercarpet\":[{\"type\":\"scattercarpet\",\"marker\":{\"colorbar\":{\"outlinewidth\":0,\"ticks\":\"\"}}}],\"carpet\":[{\"aaxis\":{\"endlinecolor\":\"#2a3f5f\",\"gridcolor\":\"white\",\"linecolor\":\"white\",\"minorgridcolor\":\"white\",\"startlinecolor\":\"#2a3f5f\"},\"baxis\":{\"endlinecolor\":\"#2a3f5f\",\"gridcolor\":\"white\",\"linecolor\":\"white\",\"minorgridcolor\":\"white\",\"startlinecolor\":\"#2a3f5f\"},\"type\":\"carpet\"}],\"table\":[{\"cells\":{\"fill\":{\"color\":\"#EBF0F8\"},\"line\":{\"color\":\"white\"}},\"header\":{\"fill\":{\"color\":\"#C8D4E3\"},\"line\":{\"color\":\"white\"}},\"type\":\"table\"}],\"barpolar\":[{\"marker\":{\"line\":{\"color\":\"#E5ECF6\",\"width\":0.5},\"pattern\":{\"fillmode\":\"overlay\",\"size\":10,\"solidity\":0.2}},\"type\":\"barpolar\"}],\"pie\":[{\"automargin\":true,\"type\":\"pie\"}]},\"layout\":{\"autotypenumbers\":\"strict\",\"colorway\":[\"#636efa\",\"#EF553B\",\"#00cc96\",\"#ab63fa\",\"#FFA15A\",\"#19d3f3\",\"#FF6692\",\"#B6E880\",\"#FF97FF\",\"#FECB52\"],\"font\":{\"color\":\"#2a3f5f\"},\"hovermode\":\"closest\",\"hoverlabel\":{\"align\":\"left\"},\"paper_bgcolor\":\"white\",\"plot_bgcolor\":\"#E5ECF6\",\"polar\":{\"bgcolor\":\"#E5ECF6\",\"angularaxis\":{\"gridcolor\":\"white\",\"linecolor\":\"white\",\"ticks\":\"\"},\"radialaxis\":{\"gridcolor\":\"white\",\"linecolor\":\"white\",\"ticks\":\"\"}},\"ternary\":{\"bgcolor\":\"#E5ECF6\",\"aaxis\":{\"gridcolor\":\"white\",\"linecolor\":\"white\",\"ticks\":\"\"},\"baxis\":{\"gridcolor\":\"white\",\"linecolor\":\"white\",\"ticks\":\"\"},\"caxis\":{\"gridcolor\":\"white\",\"linecolor\":\"white\",\"ticks\":\"\"}},\"coloraxis\":{\"colorbar\":{\"outlinewidth\":0,\"ticks\":\"\"}},\"colorscale\":{\"sequential\":[[0.0,\"#0d0887\"],[0.1111111111111111,\"#46039f\"],[0.2222222222222222,\"#7201a8\"],[0.3333333333333333,\"#9c179e\"],[0.4444444444444444,\"#bd3786\"],[0.5555555555555556,\"#d8576b\"],[0.6666666666666666,\"#ed7953\"],[0.7777777777777778,\"#fb9f3a\"],[0.8888888888888888,\"#fdca26\"],[1.0,\"#f0f921\"]],\"sequentialminus\":[[0.0,\"#0d0887\"],[0.1111111111111111,\"#46039f\"],[0.2222222222222222,\"#7201a8\"],[0.3333333333333333,\"#9c179e\"],[0.4444444444444444,\"#bd3786\"],[0.5555555555555556,\"#d8576b\"],[0.6666666666666666,\"#ed7953\"],[0.7777777777777778,\"#fb9f3a\"],[0.8888888888888888,\"#fdca26\"],[1.0,\"#f0f921\"]],\"diverging\":[[0,\"#8e0152\"],[0.1,\"#c51b7d\"],[0.2,\"#de77ae\"],[0.3,\"#f1b6da\"],[0.4,\"#fde0ef\"],[0.5,\"#f7f7f7\"],[0.6,\"#e6f5d0\"],[0.7,\"#b8e186\"],[0.8,\"#7fbc41\"],[0.9,\"#4d9221\"],[1,\"#276419\"]]},\"xaxis\":{\"gridcolor\":\"white\",\"linecolor\":\"white\",\"ticks\":\"\",\"title\":{\"standoff\":15},\"zerolinecolor\":\"white\",\"automargin\":true,\"zerolinewidth\":2},\"yaxis\":{\"gridcolor\":\"white\",\"linecolor\":\"white\",\"ticks\":\"\",\"title\":{\"standoff\":15},\"zerolinecolor\":\"white\",\"automargin\":true,\"zerolinewidth\":2},\"scene\":{\"xaxis\":{\"backgroundcolor\":\"#E5ECF6\",\"gridcolor\":\"white\",\"linecolor\":\"white\",\"showbackground\":true,\"ticks\":\"\",\"zerolinecolor\":\"white\",\"gridwidth\":2},\"yaxis\":{\"backgroundcolor\":\"#E5ECF6\",\"gridcolor\":\"white\",\"linecolor\":\"white\",\"showbackground\":true,\"ticks\":\"\",\"zerolinecolor\":\"white\",\"gridwidth\":2},\"zaxis\":{\"backgroundcolor\":\"#E5ECF6\",\"gridcolor\":\"white\",\"linecolor\":\"white\",\"showbackground\":true,\"ticks\":\"\",\"zerolinecolor\":\"white\",\"gridwidth\":2}},\"shapedefaults\":{\"line\":{\"color\":\"#2a3f5f\"}},\"annotationdefaults\":{\"arrowcolor\":\"#2a3f5f\",\"arrowhead\":0,\"arrowwidth\":1},\"geo\":{\"bgcolor\":\"white\",\"landcolor\":\"#E5ECF6\",\"subunitcolor\":\"white\",\"showland\":true,\"showlakes\":true,\"lakecolor\":\"white\"},\"title\":{\"x\":0.05},\"mapbox\":{\"style\":\"light\"}}},\"xaxis\":{\"anchor\":\"y\",\"domain\":[0.0,1.0],\"title\":{\"text\":\"Date\"}},\"yaxis\":{\"anchor\":\"x\",\"domain\":[0.0,1.0],\"title\":{\"text\":\"close\"}},\"legend\":{\"tracegroupgap\":0},\"title\":{\"text\":\"ITC Historical Performance\"}},                        {\"responsive\": true}                    ).then(function(){\n",
       "                            \n",
       "var gd = document.getElementById('b6a5cc44-5922-40ac-98f1-6a9fc8a8f7a7');\n",
       "var x = new MutationObserver(function (mutations, observer) {{\n",
       "        var display = window.getComputedStyle(gd).display;\n",
       "        if (!display || display === 'none') {{\n",
       "            console.log([gd, 'removed!']);\n",
       "            Plotly.purge(gd);\n",
       "            observer.disconnect();\n",
       "        }}\n",
       "}});\n",
       "\n",
       "// Listen for the removal of the full notebook cells\n",
       "var notebookContainer = gd.closest('#notebook-container');\n",
       "if (notebookContainer) {{\n",
       "    x.observe(notebookContainer, {childList: true});\n",
       "}}\n",
       "\n",
       "// Listen for the clearing of the current output cell\n",
       "var outputEl = gd.closest('.output');\n",
       "if (outputEl) {{\n",
       "    x.observe(outputEl, {childList: true});\n",
       "}}\n",
       "\n",
       "                        })                };            </script>        </div>"
      ]
     },
     "metadata": {},
     "output_type": "display_data"
    }
   ],
   "source": [
    "px.line(df, x='Date', y='close', title='ITC Historical Performance')"
   ]
  },
  {
   "cell_type": "code",
   "execution_count": 604,
   "metadata": {},
   "outputs": [
    {
     "data": {
      "application/vnd.plotly.v1+json": {
       "config": {
        "plotlyServerURL": "https://plot.ly"
       },
       "data": [
        {
         "fillpattern": {
          "shape": ""
         },
         "hovertemplate": "Date=%{x}<br>VOLUME=%{y}<extra></extra>",
         "legendgroup": "",
         "line": {
          "color": "#636efa"
         },
         "marker": {
          "symbol": "circle"
         },
         "mode": "lines",
         "name": "",
         "orientation": "v",
         "showlegend": false,
         "stackgroup": "1",
         "type": "scatter",
         "x": [
          "14-Feb-2025",
          "13-Feb-2025",
          "12-Feb-2025",
          "11-Feb-2025",
          "10-Feb-2025",
          "07-Feb-2025",
          "06-Feb-2025",
          "05-Feb-2025",
          "04-Feb-2025",
          "03-Feb-2025",
          "01-Feb-2025",
          "31-Jan-2025",
          "30-Jan-2025",
          "29-Jan-2025",
          "28-Jan-2025",
          "27-Jan-2025",
          "24-Jan-2025",
          "23-Jan-2025",
          "22-Jan-2025",
          "21-Jan-2025",
          "20-Jan-2025",
          "17-Jan-2025",
          "16-Jan-2025",
          "15-Jan-2025",
          "14-Jan-2025",
          "13-Jan-2025",
          "10-Jan-2025",
          "09-Jan-2025",
          "08-Jan-2025",
          "07-Jan-2025",
          "06-Jan-2025",
          "03-Jan-2025",
          "02-Jan-2025",
          "01-Jan-2025",
          "31-Dec-2024",
          "30-Dec-2024",
          "27-Dec-2024",
          "26-Dec-2024",
          "24-Dec-2024",
          "23-Dec-2024",
          "20-Dec-2024",
          "19-Dec-2024",
          "18-Dec-2024",
          "17-Dec-2024",
          "16-Dec-2024",
          "13-Dec-2024",
          "12-Dec-2024",
          "11-Dec-2024",
          "10-Dec-2024",
          "09-Dec-2024",
          "06-Dec-2024",
          "05-Dec-2024",
          "04-Dec-2024",
          "03-Dec-2024",
          "02-Dec-2024",
          "29-Nov-2024",
          "28-Nov-2024",
          "27-Nov-2024",
          "26-Nov-2024",
          "25-Nov-2024",
          "22-Nov-2024",
          "21-Nov-2024",
          "19-Nov-2024",
          "18-Nov-2024",
          "14-Nov-2024",
          "13-Nov-2024",
          "12-Nov-2024",
          "11-Nov-2024",
          "08-Nov-2024",
          "07-Nov-2024",
          "06-Nov-2024",
          "05-Nov-2024",
          "04-Nov-2024",
          "01-Nov-2024",
          "31-Oct-2024",
          "30-Oct-2024",
          "29-Oct-2024",
          "28-Oct-2024",
          "25-Oct-2024",
          "24-Oct-2024",
          "23-Oct-2024",
          "22-Oct-2024",
          "21-Oct-2024",
          "18-Oct-2024",
          "17-Oct-2024",
          "16-Oct-2024",
          "15-Oct-2024",
          "14-Oct-2024",
          "11-Oct-2024",
          "10-Oct-2024",
          "09-Oct-2024",
          "08-Oct-2024",
          "07-Oct-2024",
          "04-Oct-2024",
          "03-Oct-2024",
          "01-Oct-2024",
          "30-Sep-2024",
          "27-Sep-2024",
          "26-Sep-2024",
          "25-Sep-2024",
          "24-Sep-2024",
          "23-Sep-2024",
          "20-Sep-2024",
          "19-Sep-2024",
          "18-Sep-2024",
          "17-Sep-2024",
          "16-Sep-2024",
          "13-Sep-2024",
          "12-Sep-2024",
          "11-Sep-2024",
          "10-Sep-2024",
          "09-Sep-2024",
          "06-Sep-2024",
          "05-Sep-2024",
          "04-Sep-2024",
          "03-Sep-2024",
          "02-Sep-2024",
          "30-Aug-2024",
          "29-Aug-2024",
          "28-Aug-2024",
          "27-Aug-2024",
          "26-Aug-2024",
          "23-Aug-2024",
          "22-Aug-2024",
          "21-Aug-2024",
          "20-Aug-2024",
          "19-Aug-2024",
          "16-Aug-2024",
          "14-Aug-2024",
          "13-Aug-2024",
          "12-Aug-2024",
          "09-Aug-2024",
          "08-Aug-2024",
          "07-Aug-2024",
          "06-Aug-2024",
          "05-Aug-2024",
          "02-Aug-2024",
          "01-Aug-2024",
          "31-Jul-2024",
          "30-Jul-2024",
          "29-Jul-2024",
          "26-Jul-2024",
          "25-Jul-2024",
          "24-Jul-2024",
          "23-Jul-2024",
          "22-Jul-2024",
          "19-Jul-2024",
          "18-Jul-2024",
          "16-Jul-2024",
          "15-Jul-2024",
          "12-Jul-2024",
          "11-Jul-2024",
          "10-Jul-2024",
          "09-Jul-2024",
          "08-Jul-2024",
          "05-Jul-2024",
          "04-Jul-2024",
          "03-Jul-2024",
          "02-Jul-2024",
          "01-Jul-2024",
          "28-Jun-2024",
          "27-Jun-2024",
          "26-Jun-2024",
          "25-Jun-2024",
          "24-Jun-2024",
          "21-Jun-2024",
          "20-Jun-2024",
          "19-Jun-2024",
          "18-Jun-2024",
          "14-Jun-2024",
          "13-Jun-2024",
          "12-Jun-2024",
          "11-Jun-2024",
          "10-Jun-2024",
          "07-Jun-2024",
          "06-Jun-2024",
          "05-Jun-2024",
          "04-Jun-2024",
          "03-Jun-2024",
          "31-May-2024",
          "30-May-2024",
          "29-May-2024",
          "28-May-2024",
          "27-May-2024",
          "24-May-2024",
          "23-May-2024",
          "22-May-2024",
          "21-May-2024",
          "18-May-2024",
          "17-May-2024",
          "16-May-2024",
          "15-May-2024",
          "14-May-2024",
          "13-May-2024",
          "10-May-2024",
          "09-May-2024",
          "08-May-2024",
          "07-May-2024",
          "06-May-2024",
          "03-May-2024",
          "02-May-2024",
          "30-Apr-2024",
          "29-Apr-2024",
          "26-Apr-2024",
          "25-Apr-2024",
          "24-Apr-2024",
          "23-Apr-2024",
          "22-Apr-2024",
          "19-Apr-2024",
          "18-Apr-2024",
          "16-Apr-2024",
          "15-Apr-2024",
          "12-Apr-2024",
          "10-Apr-2024",
          "09-Apr-2024",
          "08-Apr-2024",
          "05-Apr-2024",
          "04-Apr-2024",
          "03-Apr-2024",
          "02-Apr-2024",
          "01-Apr-2024",
          "28-Mar-2024",
          "27-Mar-2024",
          "26-Mar-2024",
          "22-Mar-2024",
          "21-Mar-2024",
          "20-Mar-2024",
          "19-Mar-2024",
          "18-Mar-2024",
          "15-Mar-2024",
          "14-Mar-2024",
          "13-Mar-2024",
          "12-Mar-2024",
          "11-Mar-2024",
          "07-Mar-2024",
          "06-Mar-2024",
          "05-Mar-2024",
          "04-Mar-2024",
          "02-Mar-2024",
          "01-Mar-2024",
          "29-Feb-2024",
          "28-Feb-2024",
          "27-Feb-2024",
          "26-Feb-2024",
          "23-Feb-2024",
          "22-Feb-2024",
          "21-Feb-2024",
          "20-Feb-2024",
          "19-Feb-2024",
          "16-Feb-2024",
          "15-Feb-2024",
          "14-Feb-2024"
         ],
         "xaxis": "x",
         "y": [
          "1,41,24,236",
          "1,29,89,029",
          "1,38,84,574",
          "1,42,88,751",
          "1,22,27,140",
          "1,88,75,982",
          "1,74,69,129",
          "1,28,36,283",
          "1,89,23,681",
          "1,69,91,730",
          "3,03,93,007",
          "1,35,46,181",
          "2,24,96,695",
          "1,51,58,510",
          "2,08,13,072",
          "1,04,80,203",
          "96,65,384",
          "88,88,248",
          "96,19,648",
          "1,56,86,500",
          "87,42,771",
          "1,12,70,061",
          "1,57,74,070",
          "97,86,805",
          "1,80,48,459",
          "1,77,99,607",
          "91,45,729",
          "1,97,32,649",
          "1,34,82,926",
          "1,42,94,780",
          "2,20,09,958",
          "3,70,72,992",
          "2,61,24,980",
          "1,82,29,128",
          "1,32,76,195",
          "1,30,74,810",
          "1,62,79,450",
          "88,48,065",
          "1,15,64,497",
          "1,88,37,469",
          "1,94,81,288",
          "1,45,99,270",
          "1,23,65,167",
          "1,98,44,152",
          "90,07,264",
          "3,17,53,858",
          "1,28,84,401",
          "67,45,816",
          "88,23,805",
          "1,17,03,384",
          "75,51,407",
          "2,64,15,053",
          "1,34,39,484",
          "2,22,18,251",
          "54,78,598",
          "83,46,687",
          "1,44,12,539",
          "70,67,013",
          "65,39,846",
          "1,38,91,991",
          "1,94,64,568",
          "1,95,59,847",
          "68,57,374",
          "81,35,260",
          "1,16,39,562",
          "1,11,20,381",
          "50,41,916",
          "54,88,948",
          "60,90,462",
          "89,24,280",
          "1,13,13,985",
          "73,27,830",
          "84,29,731",
          "14,61,602",
          "78,10,874",
          "63,93,835",
          "68,66,704",
          "86,14,446",
          "3,09,61,625",
          "1,30,92,399",
          "1,01,62,570",
          "1,22,99,288",
          "73,95,274",
          "2,17,78,099",
          "73,85,299",
          "66,82,083",
          "80,37,662",
          "67,12,103",
          "1,43,94,986",
          "1,27,99,333",
          "2,39,52,459",
          "95,02,367",
          "1,64,79,772",
          "1,82,28,912",
          "1,58,70,147",
          "50,89,315",
          "1,05,31,347",
          "1,72,51,962",
          "1,54,89,991",
          "84,76,223",
          "67,55,320",
          "78,04,918",
          "2,38,08,194",
          "1,39,25,311",
          "54,29,619",
          "1,04,86,015",
          "75,31,604",
          "88,25,193",
          "1,83,77,550",
          "1,49,22,832",
          "1,09,11,995",
          "1,37,36,044",
          "1,37,16,752",
          "1,08,98,888",
          "84,14,967",
          "1,20,18,677",
          "1,58,85,469",
          "1,49,47,670",
          "1,86,70,632",
          "77,82,216",
          "79,54,114",
          "78,25,037",
          "78,91,446",
          "83,64,290",
          "84,74,830",
          "66,33,171",
          "1,01,98,725",
          "1,31,37,392",
          "92,53,598",
          "77,57,706",
          "90,76,097",
          "92,01,793",
          "2,05,58,134",
          "1,09,00,585",
          "1,37,22,855",
          "2,40,94,139",
          "2,13,20,064",
          "1,16,65,529",
          "1,15,38,215",
          "1,33,75,906",
          "1,24,96,895",
          "2,07,36,094",
          "1,78,78,994",
          "4,20,73,323",
          "5,40,44,423",
          "1,80,66,586",
          "2,49,77,373",
          "2,10,94,737",
          "1,29,96,711",
          "1,62,51,032",
          "1,89,62,800",
          "1,88,31,345",
          "1,16,18,210",
          "2,64,70,260",
          "2,05,21,107",
          "1,29,29,586",
          "91,27,340",
          "71,59,756",
          "1,07,63,335",
          "1,28,94,747",
          "1,78,66,326",
          "3,70,12,589",
          "1,10,84,805",
          "1,02,60,449",
          "93,62,433",
          "2,52,05,627",
          "1,45,85,806",
          "1,09,09,803",
          "1,40,98,178",
          "92,17,804",
          "92,83,802",
          "1,03,52,936",
          "1,26,70,589",
          "1,14,32,393",
          "2,84,48,041",
          "3,11,19,999",
          "2,71,51,351",
          "4,60,19,632",
          "1,55,19,148",
          "2,82,14,102",
          "2,05,24,428",
          "1,04,30,363",
          "93,10,198",
          "1,18,27,050",
          "1,27,61,457",
          "2,62,34,369",
          "1,06,27,595",
          "1,07,60,726",
          "7,13,859",
          "1,14,53,714",
          "2,30,25,186",
          "75,65,080",
          "1,10,00,103",
          "73,02,959",
          "1,39,85,963",
          "2,34,12,609",
          "1,05,11,646",
          "2,59,68,921",
          "1,03,55,056",
          "2,29,04,276",
          "2,32,28,909",
          "1,20,64,043",
          "1,16,27,882",
          "1,47,73,975",
          "2,92,11,997",
          "58,45,170",
          "1,20,21,404",
          "71,12,139",
          "1,65,82,634",
          "2,13,12,388",
          "99,73,638",
          "87,46,243",
          "1,80,88,372",
          "1,40,08,124",
          "67,08,894",
          "85,16,632",
          "1,61,47,032",
          "1,83,58,410",
          "1,26,64,520",
          "88,53,678",
          "93,82,308",
          "2,79,33,211",
          "1,22,27,545",
          "1,02,74,145",
          "3,88,61,818",
          "1,92,27,982",
          "1,96,09,321",
          "2,09,94,563",
          "1,59,33,704",
          "7,32,53,754",
          "3,07,64,728",
          "10,16,12,428",
          "3,48,82,639",
          "1,76,20,081",
          "2,30,20,545",
          "1,11,06,855",
          "97,33,507",
          "68,40,352",
          "9,77,655",
          "1,23,95,632",
          "1,48,95,144",
          "86,17,768",
          "77,83,743",
          "79,82,145",
          "1,11,47,636",
          "1,86,04,659",
          "1,94,14,653",
          "1,40,84,218",
          "1,69,49,793",
          "3,75,18,847",
          "2,03,83,983",
          "1,21,50,077"
         ],
         "yaxis": "y"
        }
       ],
       "layout": {
        "legend": {
         "tracegroupgap": 0
        },
        "template": {
         "data": {
          "bar": [
           {
            "error_x": {
             "color": "#2a3f5f"
            },
            "error_y": {
             "color": "#2a3f5f"
            },
            "marker": {
             "line": {
              "color": "#E5ECF6",
              "width": 0.5
             },
             "pattern": {
              "fillmode": "overlay",
              "size": 10,
              "solidity": 0.2
             }
            },
            "type": "bar"
           }
          ],
          "barpolar": [
           {
            "marker": {
             "line": {
              "color": "#E5ECF6",
              "width": 0.5
             },
             "pattern": {
              "fillmode": "overlay",
              "size": 10,
              "solidity": 0.2
             }
            },
            "type": "barpolar"
           }
          ],
          "carpet": [
           {
            "aaxis": {
             "endlinecolor": "#2a3f5f",
             "gridcolor": "white",
             "linecolor": "white",
             "minorgridcolor": "white",
             "startlinecolor": "#2a3f5f"
            },
            "baxis": {
             "endlinecolor": "#2a3f5f",
             "gridcolor": "white",
             "linecolor": "white",
             "minorgridcolor": "white",
             "startlinecolor": "#2a3f5f"
            },
            "type": "carpet"
           }
          ],
          "choropleth": [
           {
            "colorbar": {
             "outlinewidth": 0,
             "ticks": ""
            },
            "type": "choropleth"
           }
          ],
          "contour": [
           {
            "colorbar": {
             "outlinewidth": 0,
             "ticks": ""
            },
            "colorscale": [
             [
              0,
              "#0d0887"
             ],
             [
              0.1111111111111111,
              "#46039f"
             ],
             [
              0.2222222222222222,
              "#7201a8"
             ],
             [
              0.3333333333333333,
              "#9c179e"
             ],
             [
              0.4444444444444444,
              "#bd3786"
             ],
             [
              0.5555555555555556,
              "#d8576b"
             ],
             [
              0.6666666666666666,
              "#ed7953"
             ],
             [
              0.7777777777777778,
              "#fb9f3a"
             ],
             [
              0.8888888888888888,
              "#fdca26"
             ],
             [
              1,
              "#f0f921"
             ]
            ],
            "type": "contour"
           }
          ],
          "contourcarpet": [
           {
            "colorbar": {
             "outlinewidth": 0,
             "ticks": ""
            },
            "type": "contourcarpet"
           }
          ],
          "heatmap": [
           {
            "colorbar": {
             "outlinewidth": 0,
             "ticks": ""
            },
            "colorscale": [
             [
              0,
              "#0d0887"
             ],
             [
              0.1111111111111111,
              "#46039f"
             ],
             [
              0.2222222222222222,
              "#7201a8"
             ],
             [
              0.3333333333333333,
              "#9c179e"
             ],
             [
              0.4444444444444444,
              "#bd3786"
             ],
             [
              0.5555555555555556,
              "#d8576b"
             ],
             [
              0.6666666666666666,
              "#ed7953"
             ],
             [
              0.7777777777777778,
              "#fb9f3a"
             ],
             [
              0.8888888888888888,
              "#fdca26"
             ],
             [
              1,
              "#f0f921"
             ]
            ],
            "type": "heatmap"
           }
          ],
          "histogram": [
           {
            "marker": {
             "pattern": {
              "fillmode": "overlay",
              "size": 10,
              "solidity": 0.2
             }
            },
            "type": "histogram"
           }
          ],
          "histogram2d": [
           {
            "colorbar": {
             "outlinewidth": 0,
             "ticks": ""
            },
            "colorscale": [
             [
              0,
              "#0d0887"
             ],
             [
              0.1111111111111111,
              "#46039f"
             ],
             [
              0.2222222222222222,
              "#7201a8"
             ],
             [
              0.3333333333333333,
              "#9c179e"
             ],
             [
              0.4444444444444444,
              "#bd3786"
             ],
             [
              0.5555555555555556,
              "#d8576b"
             ],
             [
              0.6666666666666666,
              "#ed7953"
             ],
             [
              0.7777777777777778,
              "#fb9f3a"
             ],
             [
              0.8888888888888888,
              "#fdca26"
             ],
             [
              1,
              "#f0f921"
             ]
            ],
            "type": "histogram2d"
           }
          ],
          "histogram2dcontour": [
           {
            "colorbar": {
             "outlinewidth": 0,
             "ticks": ""
            },
            "colorscale": [
             [
              0,
              "#0d0887"
             ],
             [
              0.1111111111111111,
              "#46039f"
             ],
             [
              0.2222222222222222,
              "#7201a8"
             ],
             [
              0.3333333333333333,
              "#9c179e"
             ],
             [
              0.4444444444444444,
              "#bd3786"
             ],
             [
              0.5555555555555556,
              "#d8576b"
             ],
             [
              0.6666666666666666,
              "#ed7953"
             ],
             [
              0.7777777777777778,
              "#fb9f3a"
             ],
             [
              0.8888888888888888,
              "#fdca26"
             ],
             [
              1,
              "#f0f921"
             ]
            ],
            "type": "histogram2dcontour"
           }
          ],
          "mesh3d": [
           {
            "colorbar": {
             "outlinewidth": 0,
             "ticks": ""
            },
            "type": "mesh3d"
           }
          ],
          "parcoords": [
           {
            "line": {
             "colorbar": {
              "outlinewidth": 0,
              "ticks": ""
             }
            },
            "type": "parcoords"
           }
          ],
          "pie": [
           {
            "automargin": true,
            "type": "pie"
           }
          ],
          "scatter": [
           {
            "fillpattern": {
             "fillmode": "overlay",
             "size": 10,
             "solidity": 0.2
            },
            "type": "scatter"
           }
          ],
          "scatter3d": [
           {
            "line": {
             "colorbar": {
              "outlinewidth": 0,
              "ticks": ""
             }
            },
            "marker": {
             "colorbar": {
              "outlinewidth": 0,
              "ticks": ""
             }
            },
            "type": "scatter3d"
           }
          ],
          "scattercarpet": [
           {
            "marker": {
             "colorbar": {
              "outlinewidth": 0,
              "ticks": ""
             }
            },
            "type": "scattercarpet"
           }
          ],
          "scattergeo": [
           {
            "marker": {
             "colorbar": {
              "outlinewidth": 0,
              "ticks": ""
             }
            },
            "type": "scattergeo"
           }
          ],
          "scattergl": [
           {
            "marker": {
             "colorbar": {
              "outlinewidth": 0,
              "ticks": ""
             }
            },
            "type": "scattergl"
           }
          ],
          "scattermap": [
           {
            "marker": {
             "colorbar": {
              "outlinewidth": 0,
              "ticks": ""
             }
            },
            "type": "scattermap"
           }
          ],
          "scattermapbox": [
           {
            "marker": {
             "colorbar": {
              "outlinewidth": 0,
              "ticks": ""
             }
            },
            "type": "scattermapbox"
           }
          ],
          "scatterpolar": [
           {
            "marker": {
             "colorbar": {
              "outlinewidth": 0,
              "ticks": ""
             }
            },
            "type": "scatterpolar"
           }
          ],
          "scatterpolargl": [
           {
            "marker": {
             "colorbar": {
              "outlinewidth": 0,
              "ticks": ""
             }
            },
            "type": "scatterpolargl"
           }
          ],
          "scatterternary": [
           {
            "marker": {
             "colorbar": {
              "outlinewidth": 0,
              "ticks": ""
             }
            },
            "type": "scatterternary"
           }
          ],
          "surface": [
           {
            "colorbar": {
             "outlinewidth": 0,
             "ticks": ""
            },
            "colorscale": [
             [
              0,
              "#0d0887"
             ],
             [
              0.1111111111111111,
              "#46039f"
             ],
             [
              0.2222222222222222,
              "#7201a8"
             ],
             [
              0.3333333333333333,
              "#9c179e"
             ],
             [
              0.4444444444444444,
              "#bd3786"
             ],
             [
              0.5555555555555556,
              "#d8576b"
             ],
             [
              0.6666666666666666,
              "#ed7953"
             ],
             [
              0.7777777777777778,
              "#fb9f3a"
             ],
             [
              0.8888888888888888,
              "#fdca26"
             ],
             [
              1,
              "#f0f921"
             ]
            ],
            "type": "surface"
           }
          ],
          "table": [
           {
            "cells": {
             "fill": {
              "color": "#EBF0F8"
             },
             "line": {
              "color": "white"
             }
            },
            "header": {
             "fill": {
              "color": "#C8D4E3"
             },
             "line": {
              "color": "white"
             }
            },
            "type": "table"
           }
          ]
         },
         "layout": {
          "annotationdefaults": {
           "arrowcolor": "#2a3f5f",
           "arrowhead": 0,
           "arrowwidth": 1
          },
          "autotypenumbers": "strict",
          "coloraxis": {
           "colorbar": {
            "outlinewidth": 0,
            "ticks": ""
           }
          },
          "colorscale": {
           "diverging": [
            [
             0,
             "#8e0152"
            ],
            [
             0.1,
             "#c51b7d"
            ],
            [
             0.2,
             "#de77ae"
            ],
            [
             0.3,
             "#f1b6da"
            ],
            [
             0.4,
             "#fde0ef"
            ],
            [
             0.5,
             "#f7f7f7"
            ],
            [
             0.6,
             "#e6f5d0"
            ],
            [
             0.7,
             "#b8e186"
            ],
            [
             0.8,
             "#7fbc41"
            ],
            [
             0.9,
             "#4d9221"
            ],
            [
             1,
             "#276419"
            ]
           ],
           "sequential": [
            [
             0,
             "#0d0887"
            ],
            [
             0.1111111111111111,
             "#46039f"
            ],
            [
             0.2222222222222222,
             "#7201a8"
            ],
            [
             0.3333333333333333,
             "#9c179e"
            ],
            [
             0.4444444444444444,
             "#bd3786"
            ],
            [
             0.5555555555555556,
             "#d8576b"
            ],
            [
             0.6666666666666666,
             "#ed7953"
            ],
            [
             0.7777777777777778,
             "#fb9f3a"
            ],
            [
             0.8888888888888888,
             "#fdca26"
            ],
            [
             1,
             "#f0f921"
            ]
           ],
           "sequentialminus": [
            [
             0,
             "#0d0887"
            ],
            [
             0.1111111111111111,
             "#46039f"
            ],
            [
             0.2222222222222222,
             "#7201a8"
            ],
            [
             0.3333333333333333,
             "#9c179e"
            ],
            [
             0.4444444444444444,
             "#bd3786"
            ],
            [
             0.5555555555555556,
             "#d8576b"
            ],
            [
             0.6666666666666666,
             "#ed7953"
            ],
            [
             0.7777777777777778,
             "#fb9f3a"
            ],
            [
             0.8888888888888888,
             "#fdca26"
            ],
            [
             1,
             "#f0f921"
            ]
           ]
          },
          "colorway": [
           "#636efa",
           "#EF553B",
           "#00cc96",
           "#ab63fa",
           "#FFA15A",
           "#19d3f3",
           "#FF6692",
           "#B6E880",
           "#FF97FF",
           "#FECB52"
          ],
          "font": {
           "color": "#2a3f5f"
          },
          "geo": {
           "bgcolor": "white",
           "lakecolor": "white",
           "landcolor": "#E5ECF6",
           "showlakes": true,
           "showland": true,
           "subunitcolor": "white"
          },
          "hoverlabel": {
           "align": "left"
          },
          "hovermode": "closest",
          "mapbox": {
           "style": "light"
          },
          "paper_bgcolor": "white",
          "plot_bgcolor": "#E5ECF6",
          "polar": {
           "angularaxis": {
            "gridcolor": "white",
            "linecolor": "white",
            "ticks": ""
           },
           "bgcolor": "#E5ECF6",
           "radialaxis": {
            "gridcolor": "white",
            "linecolor": "white",
            "ticks": ""
           }
          },
          "scene": {
           "xaxis": {
            "backgroundcolor": "#E5ECF6",
            "gridcolor": "white",
            "gridwidth": 2,
            "linecolor": "white",
            "showbackground": true,
            "ticks": "",
            "zerolinecolor": "white"
           },
           "yaxis": {
            "backgroundcolor": "#E5ECF6",
            "gridcolor": "white",
            "gridwidth": 2,
            "linecolor": "white",
            "showbackground": true,
            "ticks": "",
            "zerolinecolor": "white"
           },
           "zaxis": {
            "backgroundcolor": "#E5ECF6",
            "gridcolor": "white",
            "gridwidth": 2,
            "linecolor": "white",
            "showbackground": true,
            "ticks": "",
            "zerolinecolor": "white"
           }
          },
          "shapedefaults": {
           "line": {
            "color": "#2a3f5f"
           }
          },
          "ternary": {
           "aaxis": {
            "gridcolor": "white",
            "linecolor": "white",
            "ticks": ""
           },
           "baxis": {
            "gridcolor": "white",
            "linecolor": "white",
            "ticks": ""
           },
           "bgcolor": "#E5ECF6",
           "caxis": {
            "gridcolor": "white",
            "linecolor": "white",
            "ticks": ""
           }
          },
          "title": {
           "x": 0.05
          },
          "xaxis": {
           "automargin": true,
           "gridcolor": "white",
           "linecolor": "white",
           "ticks": "",
           "title": {
            "standoff": 15
           },
           "zerolinecolor": "white",
           "zerolinewidth": 2
          },
          "yaxis": {
           "automargin": true,
           "gridcolor": "white",
           "linecolor": "white",
           "ticks": "",
           "title": {
            "standoff": 15
           },
           "zerolinecolor": "white",
           "zerolinewidth": 2
          }
         }
        },
        "title": {
         "text": "ITC Analysis by Volume"
        },
        "xaxis": {
         "anchor": "y",
         "domain": [
          0,
          1
         ],
         "title": {
          "text": "Date"
         }
        },
        "yaxis": {
         "anchor": "x",
         "domain": [
          0,
          1
         ],
         "title": {
          "text": "VOLUME"
         }
        }
       }
      },
      "text/html": [
       "<div>            <script src=\"https://cdnjs.cloudflare.com/ajax/libs/mathjax/2.7.5/MathJax.js?config=TeX-AMS-MML_SVG\"></script><script type=\"text/javascript\">if (window.MathJax && window.MathJax.Hub && window.MathJax.Hub.Config) {window.MathJax.Hub.Config({SVG: {font: \"STIX-Web\"}});}</script>                <script type=\"text/javascript\">window.PlotlyConfig = {MathJaxConfig: 'local'};</script>\n",
       "        <script charset=\"utf-8\" src=\"https://cdn.plot.ly/plotly-3.0.0.min.js\"></script>                <div id=\"3be24fb3-87f9-44de-a865-7bee542ef374\" class=\"plotly-graph-div\" style=\"height:525px; width:100%;\"></div>            <script type=\"text/javascript\">                window.PLOTLYENV=window.PLOTLYENV || {};                                if (document.getElementById(\"3be24fb3-87f9-44de-a865-7bee542ef374\")) {                    Plotly.newPlot(                        \"3be24fb3-87f9-44de-a865-7bee542ef374\",                        [{\"fillpattern\":{\"shape\":\"\"},\"hovertemplate\":\"Date=%{x}\\u003cbr\\u003eVOLUME=%{y}\\u003cextra\\u003e\\u003c\\u002fextra\\u003e\",\"legendgroup\":\"\",\"line\":{\"color\":\"#636efa\"},\"marker\":{\"symbol\":\"circle\"},\"mode\":\"lines\",\"name\":\"\",\"orientation\":\"v\",\"showlegend\":false,\"stackgroup\":\"1\",\"x\":[\"14-Feb-2025\",\"13-Feb-2025\",\"12-Feb-2025\",\"11-Feb-2025\",\"10-Feb-2025\",\"07-Feb-2025\",\"06-Feb-2025\",\"05-Feb-2025\",\"04-Feb-2025\",\"03-Feb-2025\",\"01-Feb-2025\",\"31-Jan-2025\",\"30-Jan-2025\",\"29-Jan-2025\",\"28-Jan-2025\",\"27-Jan-2025\",\"24-Jan-2025\",\"23-Jan-2025\",\"22-Jan-2025\",\"21-Jan-2025\",\"20-Jan-2025\",\"17-Jan-2025\",\"16-Jan-2025\",\"15-Jan-2025\",\"14-Jan-2025\",\"13-Jan-2025\",\"10-Jan-2025\",\"09-Jan-2025\",\"08-Jan-2025\",\"07-Jan-2025\",\"06-Jan-2025\",\"03-Jan-2025\",\"02-Jan-2025\",\"01-Jan-2025\",\"31-Dec-2024\",\"30-Dec-2024\",\"27-Dec-2024\",\"26-Dec-2024\",\"24-Dec-2024\",\"23-Dec-2024\",\"20-Dec-2024\",\"19-Dec-2024\",\"18-Dec-2024\",\"17-Dec-2024\",\"16-Dec-2024\",\"13-Dec-2024\",\"12-Dec-2024\",\"11-Dec-2024\",\"10-Dec-2024\",\"09-Dec-2024\",\"06-Dec-2024\",\"05-Dec-2024\",\"04-Dec-2024\",\"03-Dec-2024\",\"02-Dec-2024\",\"29-Nov-2024\",\"28-Nov-2024\",\"27-Nov-2024\",\"26-Nov-2024\",\"25-Nov-2024\",\"22-Nov-2024\",\"21-Nov-2024\",\"19-Nov-2024\",\"18-Nov-2024\",\"14-Nov-2024\",\"13-Nov-2024\",\"12-Nov-2024\",\"11-Nov-2024\",\"08-Nov-2024\",\"07-Nov-2024\",\"06-Nov-2024\",\"05-Nov-2024\",\"04-Nov-2024\",\"01-Nov-2024\",\"31-Oct-2024\",\"30-Oct-2024\",\"29-Oct-2024\",\"28-Oct-2024\",\"25-Oct-2024\",\"24-Oct-2024\",\"23-Oct-2024\",\"22-Oct-2024\",\"21-Oct-2024\",\"18-Oct-2024\",\"17-Oct-2024\",\"16-Oct-2024\",\"15-Oct-2024\",\"14-Oct-2024\",\"11-Oct-2024\",\"10-Oct-2024\",\"09-Oct-2024\",\"08-Oct-2024\",\"07-Oct-2024\",\"04-Oct-2024\",\"03-Oct-2024\",\"01-Oct-2024\",\"30-Sep-2024\",\"27-Sep-2024\",\"26-Sep-2024\",\"25-Sep-2024\",\"24-Sep-2024\",\"23-Sep-2024\",\"20-Sep-2024\",\"19-Sep-2024\",\"18-Sep-2024\",\"17-Sep-2024\",\"16-Sep-2024\",\"13-Sep-2024\",\"12-Sep-2024\",\"11-Sep-2024\",\"10-Sep-2024\",\"09-Sep-2024\",\"06-Sep-2024\",\"05-Sep-2024\",\"04-Sep-2024\",\"03-Sep-2024\",\"02-Sep-2024\",\"30-Aug-2024\",\"29-Aug-2024\",\"28-Aug-2024\",\"27-Aug-2024\",\"26-Aug-2024\",\"23-Aug-2024\",\"22-Aug-2024\",\"21-Aug-2024\",\"20-Aug-2024\",\"19-Aug-2024\",\"16-Aug-2024\",\"14-Aug-2024\",\"13-Aug-2024\",\"12-Aug-2024\",\"09-Aug-2024\",\"08-Aug-2024\",\"07-Aug-2024\",\"06-Aug-2024\",\"05-Aug-2024\",\"02-Aug-2024\",\"01-Aug-2024\",\"31-Jul-2024\",\"30-Jul-2024\",\"29-Jul-2024\",\"26-Jul-2024\",\"25-Jul-2024\",\"24-Jul-2024\",\"23-Jul-2024\",\"22-Jul-2024\",\"19-Jul-2024\",\"18-Jul-2024\",\"16-Jul-2024\",\"15-Jul-2024\",\"12-Jul-2024\",\"11-Jul-2024\",\"10-Jul-2024\",\"09-Jul-2024\",\"08-Jul-2024\",\"05-Jul-2024\",\"04-Jul-2024\",\"03-Jul-2024\",\"02-Jul-2024\",\"01-Jul-2024\",\"28-Jun-2024\",\"27-Jun-2024\",\"26-Jun-2024\",\"25-Jun-2024\",\"24-Jun-2024\",\"21-Jun-2024\",\"20-Jun-2024\",\"19-Jun-2024\",\"18-Jun-2024\",\"14-Jun-2024\",\"13-Jun-2024\",\"12-Jun-2024\",\"11-Jun-2024\",\"10-Jun-2024\",\"07-Jun-2024\",\"06-Jun-2024\",\"05-Jun-2024\",\"04-Jun-2024\",\"03-Jun-2024\",\"31-May-2024\",\"30-May-2024\",\"29-May-2024\",\"28-May-2024\",\"27-May-2024\",\"24-May-2024\",\"23-May-2024\",\"22-May-2024\",\"21-May-2024\",\"18-May-2024\",\"17-May-2024\",\"16-May-2024\",\"15-May-2024\",\"14-May-2024\",\"13-May-2024\",\"10-May-2024\",\"09-May-2024\",\"08-May-2024\",\"07-May-2024\",\"06-May-2024\",\"03-May-2024\",\"02-May-2024\",\"30-Apr-2024\",\"29-Apr-2024\",\"26-Apr-2024\",\"25-Apr-2024\",\"24-Apr-2024\",\"23-Apr-2024\",\"22-Apr-2024\",\"19-Apr-2024\",\"18-Apr-2024\",\"16-Apr-2024\",\"15-Apr-2024\",\"12-Apr-2024\",\"10-Apr-2024\",\"09-Apr-2024\",\"08-Apr-2024\",\"05-Apr-2024\",\"04-Apr-2024\",\"03-Apr-2024\",\"02-Apr-2024\",\"01-Apr-2024\",\"28-Mar-2024\",\"27-Mar-2024\",\"26-Mar-2024\",\"22-Mar-2024\",\"21-Mar-2024\",\"20-Mar-2024\",\"19-Mar-2024\",\"18-Mar-2024\",\"15-Mar-2024\",\"14-Mar-2024\",\"13-Mar-2024\",\"12-Mar-2024\",\"11-Mar-2024\",\"07-Mar-2024\",\"06-Mar-2024\",\"05-Mar-2024\",\"04-Mar-2024\",\"02-Mar-2024\",\"01-Mar-2024\",\"29-Feb-2024\",\"28-Feb-2024\",\"27-Feb-2024\",\"26-Feb-2024\",\"23-Feb-2024\",\"22-Feb-2024\",\"21-Feb-2024\",\"20-Feb-2024\",\"19-Feb-2024\",\"16-Feb-2024\",\"15-Feb-2024\",\"14-Feb-2024\"],\"xaxis\":\"x\",\"y\":[\"1,41,24,236\",\"1,29,89,029\",\"1,38,84,574\",\"1,42,88,751\",\"1,22,27,140\",\"1,88,75,982\",\"1,74,69,129\",\"1,28,36,283\",\"1,89,23,681\",\"1,69,91,730\",\"3,03,93,007\",\"1,35,46,181\",\"2,24,96,695\",\"1,51,58,510\",\"2,08,13,072\",\"1,04,80,203\",\"96,65,384\",\"88,88,248\",\"96,19,648\",\"1,56,86,500\",\"87,42,771\",\"1,12,70,061\",\"1,57,74,070\",\"97,86,805\",\"1,80,48,459\",\"1,77,99,607\",\"91,45,729\",\"1,97,32,649\",\"1,34,82,926\",\"1,42,94,780\",\"2,20,09,958\",\"3,70,72,992\",\"2,61,24,980\",\"1,82,29,128\",\"1,32,76,195\",\"1,30,74,810\",\"1,62,79,450\",\"88,48,065\",\"1,15,64,497\",\"1,88,37,469\",\"1,94,81,288\",\"1,45,99,270\",\"1,23,65,167\",\"1,98,44,152\",\"90,07,264\",\"3,17,53,858\",\"1,28,84,401\",\"67,45,816\",\"88,23,805\",\"1,17,03,384\",\"75,51,407\",\"2,64,15,053\",\"1,34,39,484\",\"2,22,18,251\",\"54,78,598\",\"83,46,687\",\"1,44,12,539\",\"70,67,013\",\"65,39,846\",\"1,38,91,991\",\"1,94,64,568\",\"1,95,59,847\",\"68,57,374\",\"81,35,260\",\"1,16,39,562\",\"1,11,20,381\",\"50,41,916\",\"54,88,948\",\"60,90,462\",\"89,24,280\",\"1,13,13,985\",\"73,27,830\",\"84,29,731\",\"14,61,602\",\"78,10,874\",\"63,93,835\",\"68,66,704\",\"86,14,446\",\"3,09,61,625\",\"1,30,92,399\",\"1,01,62,570\",\"1,22,99,288\",\"73,95,274\",\"2,17,78,099\",\"73,85,299\",\"66,82,083\",\"80,37,662\",\"67,12,103\",\"1,43,94,986\",\"1,27,99,333\",\"2,39,52,459\",\"95,02,367\",\"1,64,79,772\",\"1,82,28,912\",\"1,58,70,147\",\"50,89,315\",\"1,05,31,347\",\"1,72,51,962\",\"1,54,89,991\",\"84,76,223\",\"67,55,320\",\"78,04,918\",\"2,38,08,194\",\"1,39,25,311\",\"54,29,619\",\"1,04,86,015\",\"75,31,604\",\"88,25,193\",\"1,83,77,550\",\"1,49,22,832\",\"1,09,11,995\",\"1,37,36,044\",\"1,37,16,752\",\"1,08,98,888\",\"84,14,967\",\"1,20,18,677\",\"1,58,85,469\",\"1,49,47,670\",\"1,86,70,632\",\"77,82,216\",\"79,54,114\",\"78,25,037\",\"78,91,446\",\"83,64,290\",\"84,74,830\",\"66,33,171\",\"1,01,98,725\",\"1,31,37,392\",\"92,53,598\",\"77,57,706\",\"90,76,097\",\"92,01,793\",\"2,05,58,134\",\"1,09,00,585\",\"1,37,22,855\",\"2,40,94,139\",\"2,13,20,064\",\"1,16,65,529\",\"1,15,38,215\",\"1,33,75,906\",\"1,24,96,895\",\"2,07,36,094\",\"1,78,78,994\",\"4,20,73,323\",\"5,40,44,423\",\"1,80,66,586\",\"2,49,77,373\",\"2,10,94,737\",\"1,29,96,711\",\"1,62,51,032\",\"1,89,62,800\",\"1,88,31,345\",\"1,16,18,210\",\"2,64,70,260\",\"2,05,21,107\",\"1,29,29,586\",\"91,27,340\",\"71,59,756\",\"1,07,63,335\",\"1,28,94,747\",\"1,78,66,326\",\"3,70,12,589\",\"1,10,84,805\",\"1,02,60,449\",\"93,62,433\",\"2,52,05,627\",\"1,45,85,806\",\"1,09,09,803\",\"1,40,98,178\",\"92,17,804\",\"92,83,802\",\"1,03,52,936\",\"1,26,70,589\",\"1,14,32,393\",\"2,84,48,041\",\"3,11,19,999\",\"2,71,51,351\",\"4,60,19,632\",\"1,55,19,148\",\"2,82,14,102\",\"2,05,24,428\",\"1,04,30,363\",\"93,10,198\",\"1,18,27,050\",\"1,27,61,457\",\"2,62,34,369\",\"1,06,27,595\",\"1,07,60,726\",\"7,13,859\",\"1,14,53,714\",\"2,30,25,186\",\"75,65,080\",\"1,10,00,103\",\"73,02,959\",\"1,39,85,963\",\"2,34,12,609\",\"1,05,11,646\",\"2,59,68,921\",\"1,03,55,056\",\"2,29,04,276\",\"2,32,28,909\",\"1,20,64,043\",\"1,16,27,882\",\"1,47,73,975\",\"2,92,11,997\",\"58,45,170\",\"1,20,21,404\",\"71,12,139\",\"1,65,82,634\",\"2,13,12,388\",\"99,73,638\",\"87,46,243\",\"1,80,88,372\",\"1,40,08,124\",\"67,08,894\",\"85,16,632\",\"1,61,47,032\",\"1,83,58,410\",\"1,26,64,520\",\"88,53,678\",\"93,82,308\",\"2,79,33,211\",\"1,22,27,545\",\"1,02,74,145\",\"3,88,61,818\",\"1,92,27,982\",\"1,96,09,321\",\"2,09,94,563\",\"1,59,33,704\",\"7,32,53,754\",\"3,07,64,728\",\"10,16,12,428\",\"3,48,82,639\",\"1,76,20,081\",\"2,30,20,545\",\"1,11,06,855\",\"97,33,507\",\"68,40,352\",\"9,77,655\",\"1,23,95,632\",\"1,48,95,144\",\"86,17,768\",\"77,83,743\",\"79,82,145\",\"1,11,47,636\",\"1,86,04,659\",\"1,94,14,653\",\"1,40,84,218\",\"1,69,49,793\",\"3,75,18,847\",\"2,03,83,983\",\"1,21,50,077\"],\"yaxis\":\"y\",\"type\":\"scatter\"}],                        {\"template\":{\"data\":{\"histogram2dcontour\":[{\"type\":\"histogram2dcontour\",\"colorbar\":{\"outlinewidth\":0,\"ticks\":\"\"},\"colorscale\":[[0.0,\"#0d0887\"],[0.1111111111111111,\"#46039f\"],[0.2222222222222222,\"#7201a8\"],[0.3333333333333333,\"#9c179e\"],[0.4444444444444444,\"#bd3786\"],[0.5555555555555556,\"#d8576b\"],[0.6666666666666666,\"#ed7953\"],[0.7777777777777778,\"#fb9f3a\"],[0.8888888888888888,\"#fdca26\"],[1.0,\"#f0f921\"]]}],\"choropleth\":[{\"type\":\"choropleth\",\"colorbar\":{\"outlinewidth\":0,\"ticks\":\"\"}}],\"histogram2d\":[{\"type\":\"histogram2d\",\"colorbar\":{\"outlinewidth\":0,\"ticks\":\"\"},\"colorscale\":[[0.0,\"#0d0887\"],[0.1111111111111111,\"#46039f\"],[0.2222222222222222,\"#7201a8\"],[0.3333333333333333,\"#9c179e\"],[0.4444444444444444,\"#bd3786\"],[0.5555555555555556,\"#d8576b\"],[0.6666666666666666,\"#ed7953\"],[0.7777777777777778,\"#fb9f3a\"],[0.8888888888888888,\"#fdca26\"],[1.0,\"#f0f921\"]]}],\"heatmap\":[{\"type\":\"heatmap\",\"colorbar\":{\"outlinewidth\":0,\"ticks\":\"\"},\"colorscale\":[[0.0,\"#0d0887\"],[0.1111111111111111,\"#46039f\"],[0.2222222222222222,\"#7201a8\"],[0.3333333333333333,\"#9c179e\"],[0.4444444444444444,\"#bd3786\"],[0.5555555555555556,\"#d8576b\"],[0.6666666666666666,\"#ed7953\"],[0.7777777777777778,\"#fb9f3a\"],[0.8888888888888888,\"#fdca26\"],[1.0,\"#f0f921\"]]}],\"contourcarpet\":[{\"type\":\"contourcarpet\",\"colorbar\":{\"outlinewidth\":0,\"ticks\":\"\"}}],\"contour\":[{\"type\":\"contour\",\"colorbar\":{\"outlinewidth\":0,\"ticks\":\"\"},\"colorscale\":[[0.0,\"#0d0887\"],[0.1111111111111111,\"#46039f\"],[0.2222222222222222,\"#7201a8\"],[0.3333333333333333,\"#9c179e\"],[0.4444444444444444,\"#bd3786\"],[0.5555555555555556,\"#d8576b\"],[0.6666666666666666,\"#ed7953\"],[0.7777777777777778,\"#fb9f3a\"],[0.8888888888888888,\"#fdca26\"],[1.0,\"#f0f921\"]]}],\"surface\":[{\"type\":\"surface\",\"colorbar\":{\"outlinewidth\":0,\"ticks\":\"\"},\"colorscale\":[[0.0,\"#0d0887\"],[0.1111111111111111,\"#46039f\"],[0.2222222222222222,\"#7201a8\"],[0.3333333333333333,\"#9c179e\"],[0.4444444444444444,\"#bd3786\"],[0.5555555555555556,\"#d8576b\"],[0.6666666666666666,\"#ed7953\"],[0.7777777777777778,\"#fb9f3a\"],[0.8888888888888888,\"#fdca26\"],[1.0,\"#f0f921\"]]}],\"mesh3d\":[{\"type\":\"mesh3d\",\"colorbar\":{\"outlinewidth\":0,\"ticks\":\"\"}}],\"scatter\":[{\"fillpattern\":{\"fillmode\":\"overlay\",\"size\":10,\"solidity\":0.2},\"type\":\"scatter\"}],\"parcoords\":[{\"type\":\"parcoords\",\"line\":{\"colorbar\":{\"outlinewidth\":0,\"ticks\":\"\"}}}],\"scatterpolargl\":[{\"type\":\"scatterpolargl\",\"marker\":{\"colorbar\":{\"outlinewidth\":0,\"ticks\":\"\"}}}],\"bar\":[{\"error_x\":{\"color\":\"#2a3f5f\"},\"error_y\":{\"color\":\"#2a3f5f\"},\"marker\":{\"line\":{\"color\":\"#E5ECF6\",\"width\":0.5},\"pattern\":{\"fillmode\":\"overlay\",\"size\":10,\"solidity\":0.2}},\"type\":\"bar\"}],\"scattergeo\":[{\"type\":\"scattergeo\",\"marker\":{\"colorbar\":{\"outlinewidth\":0,\"ticks\":\"\"}}}],\"scatterpolar\":[{\"type\":\"scatterpolar\",\"marker\":{\"colorbar\":{\"outlinewidth\":0,\"ticks\":\"\"}}}],\"histogram\":[{\"marker\":{\"pattern\":{\"fillmode\":\"overlay\",\"size\":10,\"solidity\":0.2}},\"type\":\"histogram\"}],\"scattergl\":[{\"type\":\"scattergl\",\"marker\":{\"colorbar\":{\"outlinewidth\":0,\"ticks\":\"\"}}}],\"scatter3d\":[{\"type\":\"scatter3d\",\"line\":{\"colorbar\":{\"outlinewidth\":0,\"ticks\":\"\"}},\"marker\":{\"colorbar\":{\"outlinewidth\":0,\"ticks\":\"\"}}}],\"scattermap\":[{\"type\":\"scattermap\",\"marker\":{\"colorbar\":{\"outlinewidth\":0,\"ticks\":\"\"}}}],\"scattermapbox\":[{\"type\":\"scattermapbox\",\"marker\":{\"colorbar\":{\"outlinewidth\":0,\"ticks\":\"\"}}}],\"scatterternary\":[{\"type\":\"scatterternary\",\"marker\":{\"colorbar\":{\"outlinewidth\":0,\"ticks\":\"\"}}}],\"scattercarpet\":[{\"type\":\"scattercarpet\",\"marker\":{\"colorbar\":{\"outlinewidth\":0,\"ticks\":\"\"}}}],\"carpet\":[{\"aaxis\":{\"endlinecolor\":\"#2a3f5f\",\"gridcolor\":\"white\",\"linecolor\":\"white\",\"minorgridcolor\":\"white\",\"startlinecolor\":\"#2a3f5f\"},\"baxis\":{\"endlinecolor\":\"#2a3f5f\",\"gridcolor\":\"white\",\"linecolor\":\"white\",\"minorgridcolor\":\"white\",\"startlinecolor\":\"#2a3f5f\"},\"type\":\"carpet\"}],\"table\":[{\"cells\":{\"fill\":{\"color\":\"#EBF0F8\"},\"line\":{\"color\":\"white\"}},\"header\":{\"fill\":{\"color\":\"#C8D4E3\"},\"line\":{\"color\":\"white\"}},\"type\":\"table\"}],\"barpolar\":[{\"marker\":{\"line\":{\"color\":\"#E5ECF6\",\"width\":0.5},\"pattern\":{\"fillmode\":\"overlay\",\"size\":10,\"solidity\":0.2}},\"type\":\"barpolar\"}],\"pie\":[{\"automargin\":true,\"type\":\"pie\"}]},\"layout\":{\"autotypenumbers\":\"strict\",\"colorway\":[\"#636efa\",\"#EF553B\",\"#00cc96\",\"#ab63fa\",\"#FFA15A\",\"#19d3f3\",\"#FF6692\",\"#B6E880\",\"#FF97FF\",\"#FECB52\"],\"font\":{\"color\":\"#2a3f5f\"},\"hovermode\":\"closest\",\"hoverlabel\":{\"align\":\"left\"},\"paper_bgcolor\":\"white\",\"plot_bgcolor\":\"#E5ECF6\",\"polar\":{\"bgcolor\":\"#E5ECF6\",\"angularaxis\":{\"gridcolor\":\"white\",\"linecolor\":\"white\",\"ticks\":\"\"},\"radialaxis\":{\"gridcolor\":\"white\",\"linecolor\":\"white\",\"ticks\":\"\"}},\"ternary\":{\"bgcolor\":\"#E5ECF6\",\"aaxis\":{\"gridcolor\":\"white\",\"linecolor\":\"white\",\"ticks\":\"\"},\"baxis\":{\"gridcolor\":\"white\",\"linecolor\":\"white\",\"ticks\":\"\"},\"caxis\":{\"gridcolor\":\"white\",\"linecolor\":\"white\",\"ticks\":\"\"}},\"coloraxis\":{\"colorbar\":{\"outlinewidth\":0,\"ticks\":\"\"}},\"colorscale\":{\"sequential\":[[0.0,\"#0d0887\"],[0.1111111111111111,\"#46039f\"],[0.2222222222222222,\"#7201a8\"],[0.3333333333333333,\"#9c179e\"],[0.4444444444444444,\"#bd3786\"],[0.5555555555555556,\"#d8576b\"],[0.6666666666666666,\"#ed7953\"],[0.7777777777777778,\"#fb9f3a\"],[0.8888888888888888,\"#fdca26\"],[1.0,\"#f0f921\"]],\"sequentialminus\":[[0.0,\"#0d0887\"],[0.1111111111111111,\"#46039f\"],[0.2222222222222222,\"#7201a8\"],[0.3333333333333333,\"#9c179e\"],[0.4444444444444444,\"#bd3786\"],[0.5555555555555556,\"#d8576b\"],[0.6666666666666666,\"#ed7953\"],[0.7777777777777778,\"#fb9f3a\"],[0.8888888888888888,\"#fdca26\"],[1.0,\"#f0f921\"]],\"diverging\":[[0,\"#8e0152\"],[0.1,\"#c51b7d\"],[0.2,\"#de77ae\"],[0.3,\"#f1b6da\"],[0.4,\"#fde0ef\"],[0.5,\"#f7f7f7\"],[0.6,\"#e6f5d0\"],[0.7,\"#b8e186\"],[0.8,\"#7fbc41\"],[0.9,\"#4d9221\"],[1,\"#276419\"]]},\"xaxis\":{\"gridcolor\":\"white\",\"linecolor\":\"white\",\"ticks\":\"\",\"title\":{\"standoff\":15},\"zerolinecolor\":\"white\",\"automargin\":true,\"zerolinewidth\":2},\"yaxis\":{\"gridcolor\":\"white\",\"linecolor\":\"white\",\"ticks\":\"\",\"title\":{\"standoff\":15},\"zerolinecolor\":\"white\",\"automargin\":true,\"zerolinewidth\":2},\"scene\":{\"xaxis\":{\"backgroundcolor\":\"#E5ECF6\",\"gridcolor\":\"white\",\"linecolor\":\"white\",\"showbackground\":true,\"ticks\":\"\",\"zerolinecolor\":\"white\",\"gridwidth\":2},\"yaxis\":{\"backgroundcolor\":\"#E5ECF6\",\"gridcolor\":\"white\",\"linecolor\":\"white\",\"showbackground\":true,\"ticks\":\"\",\"zerolinecolor\":\"white\",\"gridwidth\":2},\"zaxis\":{\"backgroundcolor\":\"#E5ECF6\",\"gridcolor\":\"white\",\"linecolor\":\"white\",\"showbackground\":true,\"ticks\":\"\",\"zerolinecolor\":\"white\",\"gridwidth\":2}},\"shapedefaults\":{\"line\":{\"color\":\"#2a3f5f\"}},\"annotationdefaults\":{\"arrowcolor\":\"#2a3f5f\",\"arrowhead\":0,\"arrowwidth\":1},\"geo\":{\"bgcolor\":\"white\",\"landcolor\":\"#E5ECF6\",\"subunitcolor\":\"white\",\"showland\":true,\"showlakes\":true,\"lakecolor\":\"white\"},\"title\":{\"x\":0.05},\"mapbox\":{\"style\":\"light\"}}},\"xaxis\":{\"anchor\":\"y\",\"domain\":[0.0,1.0],\"title\":{\"text\":\"Date\"}},\"yaxis\":{\"anchor\":\"x\",\"domain\":[0.0,1.0],\"title\":{\"text\":\"VOLUME\"}},\"legend\":{\"tracegroupgap\":0},\"title\":{\"text\":\"ITC Analysis by Volume\"}},                        {\"responsive\": true}                    ).then(function(){\n",
       "                            \n",
       "var gd = document.getElementById('3be24fb3-87f9-44de-a865-7bee542ef374');\n",
       "var x = new MutationObserver(function (mutations, observer) {{\n",
       "        var display = window.getComputedStyle(gd).display;\n",
       "        if (!display || display === 'none') {{\n",
       "            console.log([gd, 'removed!']);\n",
       "            Plotly.purge(gd);\n",
       "            observer.disconnect();\n",
       "        }}\n",
       "}});\n",
       "\n",
       "// Listen for the removal of the full notebook cells\n",
       "var notebookContainer = gd.closest('#notebook-container');\n",
       "if (notebookContainer) {{\n",
       "    x.observe(notebookContainer, {childList: true});\n",
       "}}\n",
       "\n",
       "// Listen for the clearing of the current output cell\n",
       "var outputEl = gd.closest('.output');\n",
       "if (outputEl) {{\n",
       "    x.observe(outputEl, {childList: true});\n",
       "}}\n",
       "\n",
       "                        })                };            </script>        </div>"
      ]
     },
     "metadata": {},
     "output_type": "display_data"
    }
   ],
   "source": [
    "px.area(df, x='Date', y='VOLUME', title='ITC Analysis by Volume')"
   ]
  },
  {
   "cell_type": "code",
   "execution_count": 605,
   "metadata": {},
   "outputs": [
    {
     "data": {
      "application/vnd.plotly.v1+json": {
       "config": {
        "plotlyServerURL": "https://plot.ly"
       },
       "data": [
        {
         "alignmentgroup": "True",
         "hovertemplate": "close=%{y}<extra></extra>",
         "legendgroup": "",
         "marker": {
          "color": "#636efa"
         },
         "name": "",
         "notched": false,
         "offsetgroup": "",
         "orientation": "v",
         "showlegend": false,
         "type": "box",
         "x0": " ",
         "xaxis": "x",
         "y": {
          "bdata": "AAAAAACkeUAzMzMzM5t5QGZmZmZmnnlAzczMzMwkekAzMzMzM7N6QJqZmZmZ7XpAmpmZmZmRe0BmZmZmZgJ8QGZmZmZmcnxAmpmZmZllfEDNzMzMzOh8QAAAAAAA+HtAMzMzMzNDe0CamZmZmRV7QDMzMzMzN3tAmpmZmZmBe0CamZmZmZl7QDMzMzMzg3tAAAAAAABQe0DNzMzMzFh7QDMzMzMzW3tAMzMzMzODe0CamZmZmQ17QJqZmZmZVXtAmpmZmZlJe0DNzMzMzHB7QGZmZmZmzntAmpmZmZkhfEDNzMzMzBh8QJqZmZmZkXtAZmZmZmaqe0CamZmZmRl+QM3MzMzMkH5AMzMzMzM/fkBmZmZmZjp+QAAAAAAA0H1AmpmZmZnpfUAzMzMzM899QDMzMzMz531AAAAAAACkfUBmZmZmZgp9QM3MzMzMKH1AAAAAAABofUDNzMzMzFh9QJqZmZmZYX1AAAAAAABgfUCamZmZmcl8QAAAAAAAFH1AMzMzMzMXfUAzMzMzMw99QGZmZmZmcn1AAAAAAAA4fUCamZmZmTF9QM3MzMzMiH1AMzMzMzPTfUAAAAAAAMx9QGZmZmZmrn1AMzMzMzPPfUAAAAAAANB9QM3MzMzMzH1AZmZmZmaqfUBmZmZmZpJ8QJqZmZmZNX1AzczMzMwofUAzMzMzMx99QDMzMzMzg31AmpmZmZmNfUAzMzMzM899QM3MzMzM4H1AZmZmZmbefUCamZmZmRF+QDMzMzMzA35AmpmZmZlJfkDNzMzMzKR+QM3MzMzMjH5AzczMzMy4fkAzMzMzM39+QGZmZmZmQn5AzczMzMwkfkAzMzMzM3t9QJqZmZmZBX5AzczMzMwcfkBmZmZmZjp+QDMzMzMza35AZmZmZmaOfkAzMzMzM9N+QM3MzMzMKH9AMzMzMzMPf0AzMzMzM4N+QM3MzMzMwH5AMzMzMzO7fkAzMzMzM79/QDMzMzMz439AzczMzMx4f0AAAAAAAAaAQJqZmZmZIYBAMzMzMzMxgECamZmZmVWAQAAAAAAAVoBAZmZmZmYsgEAAAAAAABqAQJqZmZmZJ4BAMzMzMzMTgEAAAAAAAMR/QJqZmZmZtX9AAAAAAAC8f0CamZmZmfF/QM3MzMzMDoBAAAAAAAA8gEDNzMzMzBKAQM3MzMzMDIBAAAAAAAD8f0AzMzMzM1t/QDMzMzMz839AmpmZmZmlf0BmZmZmZtZ/QM3MzMzM4H9AZmZmZmZef0CamZmZmZF/QM3MzMzMFH9AmpmZmZlJf0AzMzMzM5t/QM3MzMzMnH9AzczMzMyIf0BmZmZmZpZ/QM3MzMzMLH9AMzMzMzNXf0BmZmZmZmp/QDMzMzMzw35AAAAAAACgfkCamZmZmel+QGZmZmZm/n5AAAAAAADsfkBmZmZmZsp+QM3MzMzMZH5AAAAAAABgfkCamZmZmZF+QDMzMzMz235AmpmZmZn1fkBmZmZmZp5+QM3MzMzMAH9AMzMzMzNjf0AzMzMzM59+QM3MzMzM4H5AMzMzMzPDfkDNzMzMzCh9QM3MzMzMqH1AAAAAAABkfUDNzMzMzBh9QGZmZmZm9nxAzczMzMywfEBmZmZmZqp8QDMzMzMzN3xAmpmZmZlJfECamZmZmbl7QGZmZmZmGntAzczMzMzQekDNzMzMzMR6QAAAAAAAmHpAzczMzMzQekBmZmZmZo56QJqZmZmZmXpAMzMzMzN/ekDNzMzMzHR6QM3MzMzMdHpAmpmZmZk5ekDNzMzMzHR6QGZmZmZmenpAAAAAAADMekBmZmZmZvJ6QM3MzMzM5HpAzczMzMwEe0AAAAAAABB7QGZmZmZmTntAZmZmZmZye0BmZmZmZjZ7QM3MzMzM5HpAMzMzMzPzeUCamZmZmeV6QDMzMzMzp3pAmpmZmZl9ekAzMzMzM+96QAAAAAAA0HpAAAAAAAD4ekAzMzMzM0N7QJqZmZmZlXtAZmZmZmZ+e0DNzMzMzCx7QGZmZmZmSntAzczMzMxEe0AzMzMzM/d6QM3MzMzMvHpAMzMzMzPbekCamZmZmf16QJqZmZmZFXtAmpmZmZmRekAAAAAAAJB7QJqZmZmZhXtAAAAAAAAse0AzMzMzM0d7QAAAAAAAcHtAZmZmZmY6e0AzMzMzM2N7QAAAAAAAgHtAzczMzMxYe0BmZmZmZs56QDMzMzMz03pAzczMzMyUekAAAAAAAIx6QJqZmZmZLXpAZmZmZmaeekBmZmZmZp56QJqZmZmZ4XpAMzMzMzNPe0CamZmZmaV6QJqZmZmZ0XpAzczMzMy4ekAAAAAAAGx6QDMzMzMzk3pAmpmZmZmdekAzMzMzM6t6QJqZmZmZxXpAAAAAAADAekBmZmZmZrp6QJqZmZmZyXpAAAAAAABUekAzMzMzM/t5QM3MzMzMmHlAMzMzMzMXekCamZmZmTF6QGZmZmZmOnpAMzMzMzNnekAzMzMzM0d5QGZmZmZmlnlAzczMzMzYeUCamZmZmX15QGZmZmZmYnlAmpmZmZmReUDNzMzMzMB5QAAAAAAAmHlAzczMzMxkeUDNzMzMzIR5QGZmZmZmsnlAMzMzMzOTeUBmZmZmZrZ5QDMzMzMz53lAmpmZmZk1eUCamZmZmWF5QAAAAAAAlHlAmpmZmZlJeUBmZmZmZj55QM3MzMzMuHlA",
          "dtype": "f8"
         },
         "y0": " ",
         "yaxis": "y"
        }
       ],
       "layout": {
        "boxmode": "group",
        "legend": {
         "tracegroupgap": 0
        },
        "margin": {
         "t": 60
        },
        "template": {
         "data": {
          "bar": [
           {
            "error_x": {
             "color": "#2a3f5f"
            },
            "error_y": {
             "color": "#2a3f5f"
            },
            "marker": {
             "line": {
              "color": "#E5ECF6",
              "width": 0.5
             },
             "pattern": {
              "fillmode": "overlay",
              "size": 10,
              "solidity": 0.2
             }
            },
            "type": "bar"
           }
          ],
          "barpolar": [
           {
            "marker": {
             "line": {
              "color": "#E5ECF6",
              "width": 0.5
             },
             "pattern": {
              "fillmode": "overlay",
              "size": 10,
              "solidity": 0.2
             }
            },
            "type": "barpolar"
           }
          ],
          "carpet": [
           {
            "aaxis": {
             "endlinecolor": "#2a3f5f",
             "gridcolor": "white",
             "linecolor": "white",
             "minorgridcolor": "white",
             "startlinecolor": "#2a3f5f"
            },
            "baxis": {
             "endlinecolor": "#2a3f5f",
             "gridcolor": "white",
             "linecolor": "white",
             "minorgridcolor": "white",
             "startlinecolor": "#2a3f5f"
            },
            "type": "carpet"
           }
          ],
          "choropleth": [
           {
            "colorbar": {
             "outlinewidth": 0,
             "ticks": ""
            },
            "type": "choropleth"
           }
          ],
          "contour": [
           {
            "colorbar": {
             "outlinewidth": 0,
             "ticks": ""
            },
            "colorscale": [
             [
              0,
              "#0d0887"
             ],
             [
              0.1111111111111111,
              "#46039f"
             ],
             [
              0.2222222222222222,
              "#7201a8"
             ],
             [
              0.3333333333333333,
              "#9c179e"
             ],
             [
              0.4444444444444444,
              "#bd3786"
             ],
             [
              0.5555555555555556,
              "#d8576b"
             ],
             [
              0.6666666666666666,
              "#ed7953"
             ],
             [
              0.7777777777777778,
              "#fb9f3a"
             ],
             [
              0.8888888888888888,
              "#fdca26"
             ],
             [
              1,
              "#f0f921"
             ]
            ],
            "type": "contour"
           }
          ],
          "contourcarpet": [
           {
            "colorbar": {
             "outlinewidth": 0,
             "ticks": ""
            },
            "type": "contourcarpet"
           }
          ],
          "heatmap": [
           {
            "colorbar": {
             "outlinewidth": 0,
             "ticks": ""
            },
            "colorscale": [
             [
              0,
              "#0d0887"
             ],
             [
              0.1111111111111111,
              "#46039f"
             ],
             [
              0.2222222222222222,
              "#7201a8"
             ],
             [
              0.3333333333333333,
              "#9c179e"
             ],
             [
              0.4444444444444444,
              "#bd3786"
             ],
             [
              0.5555555555555556,
              "#d8576b"
             ],
             [
              0.6666666666666666,
              "#ed7953"
             ],
             [
              0.7777777777777778,
              "#fb9f3a"
             ],
             [
              0.8888888888888888,
              "#fdca26"
             ],
             [
              1,
              "#f0f921"
             ]
            ],
            "type": "heatmap"
           }
          ],
          "histogram": [
           {
            "marker": {
             "pattern": {
              "fillmode": "overlay",
              "size": 10,
              "solidity": 0.2
             }
            },
            "type": "histogram"
           }
          ],
          "histogram2d": [
           {
            "colorbar": {
             "outlinewidth": 0,
             "ticks": ""
            },
            "colorscale": [
             [
              0,
              "#0d0887"
             ],
             [
              0.1111111111111111,
              "#46039f"
             ],
             [
              0.2222222222222222,
              "#7201a8"
             ],
             [
              0.3333333333333333,
              "#9c179e"
             ],
             [
              0.4444444444444444,
              "#bd3786"
             ],
             [
              0.5555555555555556,
              "#d8576b"
             ],
             [
              0.6666666666666666,
              "#ed7953"
             ],
             [
              0.7777777777777778,
              "#fb9f3a"
             ],
             [
              0.8888888888888888,
              "#fdca26"
             ],
             [
              1,
              "#f0f921"
             ]
            ],
            "type": "histogram2d"
           }
          ],
          "histogram2dcontour": [
           {
            "colorbar": {
             "outlinewidth": 0,
             "ticks": ""
            },
            "colorscale": [
             [
              0,
              "#0d0887"
             ],
             [
              0.1111111111111111,
              "#46039f"
             ],
             [
              0.2222222222222222,
              "#7201a8"
             ],
             [
              0.3333333333333333,
              "#9c179e"
             ],
             [
              0.4444444444444444,
              "#bd3786"
             ],
             [
              0.5555555555555556,
              "#d8576b"
             ],
             [
              0.6666666666666666,
              "#ed7953"
             ],
             [
              0.7777777777777778,
              "#fb9f3a"
             ],
             [
              0.8888888888888888,
              "#fdca26"
             ],
             [
              1,
              "#f0f921"
             ]
            ],
            "type": "histogram2dcontour"
           }
          ],
          "mesh3d": [
           {
            "colorbar": {
             "outlinewidth": 0,
             "ticks": ""
            },
            "type": "mesh3d"
           }
          ],
          "parcoords": [
           {
            "line": {
             "colorbar": {
              "outlinewidth": 0,
              "ticks": ""
             }
            },
            "type": "parcoords"
           }
          ],
          "pie": [
           {
            "automargin": true,
            "type": "pie"
           }
          ],
          "scatter": [
           {
            "fillpattern": {
             "fillmode": "overlay",
             "size": 10,
             "solidity": 0.2
            },
            "type": "scatter"
           }
          ],
          "scatter3d": [
           {
            "line": {
             "colorbar": {
              "outlinewidth": 0,
              "ticks": ""
             }
            },
            "marker": {
             "colorbar": {
              "outlinewidth": 0,
              "ticks": ""
             }
            },
            "type": "scatter3d"
           }
          ],
          "scattercarpet": [
           {
            "marker": {
             "colorbar": {
              "outlinewidth": 0,
              "ticks": ""
             }
            },
            "type": "scattercarpet"
           }
          ],
          "scattergeo": [
           {
            "marker": {
             "colorbar": {
              "outlinewidth": 0,
              "ticks": ""
             }
            },
            "type": "scattergeo"
           }
          ],
          "scattergl": [
           {
            "marker": {
             "colorbar": {
              "outlinewidth": 0,
              "ticks": ""
             }
            },
            "type": "scattergl"
           }
          ],
          "scattermap": [
           {
            "marker": {
             "colorbar": {
              "outlinewidth": 0,
              "ticks": ""
             }
            },
            "type": "scattermap"
           }
          ],
          "scattermapbox": [
           {
            "marker": {
             "colorbar": {
              "outlinewidth": 0,
              "ticks": ""
             }
            },
            "type": "scattermapbox"
           }
          ],
          "scatterpolar": [
           {
            "marker": {
             "colorbar": {
              "outlinewidth": 0,
              "ticks": ""
             }
            },
            "type": "scatterpolar"
           }
          ],
          "scatterpolargl": [
           {
            "marker": {
             "colorbar": {
              "outlinewidth": 0,
              "ticks": ""
             }
            },
            "type": "scatterpolargl"
           }
          ],
          "scatterternary": [
           {
            "marker": {
             "colorbar": {
              "outlinewidth": 0,
              "ticks": ""
             }
            },
            "type": "scatterternary"
           }
          ],
          "surface": [
           {
            "colorbar": {
             "outlinewidth": 0,
             "ticks": ""
            },
            "colorscale": [
             [
              0,
              "#0d0887"
             ],
             [
              0.1111111111111111,
              "#46039f"
             ],
             [
              0.2222222222222222,
              "#7201a8"
             ],
             [
              0.3333333333333333,
              "#9c179e"
             ],
             [
              0.4444444444444444,
              "#bd3786"
             ],
             [
              0.5555555555555556,
              "#d8576b"
             ],
             [
              0.6666666666666666,
              "#ed7953"
             ],
             [
              0.7777777777777778,
              "#fb9f3a"
             ],
             [
              0.8888888888888888,
              "#fdca26"
             ],
             [
              1,
              "#f0f921"
             ]
            ],
            "type": "surface"
           }
          ],
          "table": [
           {
            "cells": {
             "fill": {
              "color": "#EBF0F8"
             },
             "line": {
              "color": "white"
             }
            },
            "header": {
             "fill": {
              "color": "#C8D4E3"
             },
             "line": {
              "color": "white"
             }
            },
            "type": "table"
           }
          ]
         },
         "layout": {
          "annotationdefaults": {
           "arrowcolor": "#2a3f5f",
           "arrowhead": 0,
           "arrowwidth": 1
          },
          "autotypenumbers": "strict",
          "coloraxis": {
           "colorbar": {
            "outlinewidth": 0,
            "ticks": ""
           }
          },
          "colorscale": {
           "diverging": [
            [
             0,
             "#8e0152"
            ],
            [
             0.1,
             "#c51b7d"
            ],
            [
             0.2,
             "#de77ae"
            ],
            [
             0.3,
             "#f1b6da"
            ],
            [
             0.4,
             "#fde0ef"
            ],
            [
             0.5,
             "#f7f7f7"
            ],
            [
             0.6,
             "#e6f5d0"
            ],
            [
             0.7,
             "#b8e186"
            ],
            [
             0.8,
             "#7fbc41"
            ],
            [
             0.9,
             "#4d9221"
            ],
            [
             1,
             "#276419"
            ]
           ],
           "sequential": [
            [
             0,
             "#0d0887"
            ],
            [
             0.1111111111111111,
             "#46039f"
            ],
            [
             0.2222222222222222,
             "#7201a8"
            ],
            [
             0.3333333333333333,
             "#9c179e"
            ],
            [
             0.4444444444444444,
             "#bd3786"
            ],
            [
             0.5555555555555556,
             "#d8576b"
            ],
            [
             0.6666666666666666,
             "#ed7953"
            ],
            [
             0.7777777777777778,
             "#fb9f3a"
            ],
            [
             0.8888888888888888,
             "#fdca26"
            ],
            [
             1,
             "#f0f921"
            ]
           ],
           "sequentialminus": [
            [
             0,
             "#0d0887"
            ],
            [
             0.1111111111111111,
             "#46039f"
            ],
            [
             0.2222222222222222,
             "#7201a8"
            ],
            [
             0.3333333333333333,
             "#9c179e"
            ],
            [
             0.4444444444444444,
             "#bd3786"
            ],
            [
             0.5555555555555556,
             "#d8576b"
            ],
            [
             0.6666666666666666,
             "#ed7953"
            ],
            [
             0.7777777777777778,
             "#fb9f3a"
            ],
            [
             0.8888888888888888,
             "#fdca26"
            ],
            [
             1,
             "#f0f921"
            ]
           ]
          },
          "colorway": [
           "#636efa",
           "#EF553B",
           "#00cc96",
           "#ab63fa",
           "#FFA15A",
           "#19d3f3",
           "#FF6692",
           "#B6E880",
           "#FF97FF",
           "#FECB52"
          ],
          "font": {
           "color": "#2a3f5f"
          },
          "geo": {
           "bgcolor": "white",
           "lakecolor": "white",
           "landcolor": "#E5ECF6",
           "showlakes": true,
           "showland": true,
           "subunitcolor": "white"
          },
          "hoverlabel": {
           "align": "left"
          },
          "hovermode": "closest",
          "mapbox": {
           "style": "light"
          },
          "paper_bgcolor": "white",
          "plot_bgcolor": "#E5ECF6",
          "polar": {
           "angularaxis": {
            "gridcolor": "white",
            "linecolor": "white",
            "ticks": ""
           },
           "bgcolor": "#E5ECF6",
           "radialaxis": {
            "gridcolor": "white",
            "linecolor": "white",
            "ticks": ""
           }
          },
          "scene": {
           "xaxis": {
            "backgroundcolor": "#E5ECF6",
            "gridcolor": "white",
            "gridwidth": 2,
            "linecolor": "white",
            "showbackground": true,
            "ticks": "",
            "zerolinecolor": "white"
           },
           "yaxis": {
            "backgroundcolor": "#E5ECF6",
            "gridcolor": "white",
            "gridwidth": 2,
            "linecolor": "white",
            "showbackground": true,
            "ticks": "",
            "zerolinecolor": "white"
           },
           "zaxis": {
            "backgroundcolor": "#E5ECF6",
            "gridcolor": "white",
            "gridwidth": 2,
            "linecolor": "white",
            "showbackground": true,
            "ticks": "",
            "zerolinecolor": "white"
           }
          },
          "shapedefaults": {
           "line": {
            "color": "#2a3f5f"
           }
          },
          "ternary": {
           "aaxis": {
            "gridcolor": "white",
            "linecolor": "white",
            "ticks": ""
           },
           "baxis": {
            "gridcolor": "white",
            "linecolor": "white",
            "ticks": ""
           },
           "bgcolor": "#E5ECF6",
           "caxis": {
            "gridcolor": "white",
            "linecolor": "white",
            "ticks": ""
           }
          },
          "title": {
           "x": 0.05
          },
          "xaxis": {
           "automargin": true,
           "gridcolor": "white",
           "linecolor": "white",
           "ticks": "",
           "title": {
            "standoff": 15
           },
           "zerolinecolor": "white",
           "zerolinewidth": 2
          },
          "yaxis": {
           "automargin": true,
           "gridcolor": "white",
           "linecolor": "white",
           "ticks": "",
           "title": {
            "standoff": 15
           },
           "zerolinecolor": "white",
           "zerolinewidth": 2
          }
         }
        },
        "xaxis": {
         "anchor": "y",
         "domain": [
          0,
          1
         ]
        },
        "yaxis": {
         "anchor": "x",
         "domain": [
          0,
          1
         ],
         "title": {
          "text": "close"
         }
        }
       }
      },
      "text/html": [
       "<div>            <script src=\"https://cdnjs.cloudflare.com/ajax/libs/mathjax/2.7.5/MathJax.js?config=TeX-AMS-MML_SVG\"></script><script type=\"text/javascript\">if (window.MathJax && window.MathJax.Hub && window.MathJax.Hub.Config) {window.MathJax.Hub.Config({SVG: {font: \"STIX-Web\"}});}</script>                <script type=\"text/javascript\">window.PlotlyConfig = {MathJaxConfig: 'local'};</script>\n",
       "        <script charset=\"utf-8\" src=\"https://cdn.plot.ly/plotly-3.0.0.min.js\"></script>                <div id=\"472d2289-c049-49c4-adf5-8e252746c9d8\" class=\"plotly-graph-div\" style=\"height:525px; width:100%;\"></div>            <script type=\"text/javascript\">                window.PLOTLYENV=window.PLOTLYENV || {};                                if (document.getElementById(\"472d2289-c049-49c4-adf5-8e252746c9d8\")) {                    Plotly.newPlot(                        \"472d2289-c049-49c4-adf5-8e252746c9d8\",                        [{\"alignmentgroup\":\"True\",\"hovertemplate\":\"close=%{y}\\u003cextra\\u003e\\u003c\\u002fextra\\u003e\",\"legendgroup\":\"\",\"marker\":{\"color\":\"#636efa\"},\"name\":\"\",\"notched\":false,\"offsetgroup\":\"\",\"orientation\":\"v\",\"showlegend\":false,\"x0\":\" \",\"xaxis\":\"x\",\"y\":{\"dtype\":\"f8\",\"bdata\":\"AAAAAACkeUAzMzMzM5t5QGZmZmZmnnlAzczMzMwkekAzMzMzM7N6QJqZmZmZ7XpAmpmZmZmRe0BmZmZmZgJ8QGZmZmZmcnxAmpmZmZllfEDNzMzMzOh8QAAAAAAA+HtAMzMzMzNDe0CamZmZmRV7QDMzMzMzN3tAmpmZmZmBe0CamZmZmZl7QDMzMzMzg3tAAAAAAABQe0DNzMzMzFh7QDMzMzMzW3tAMzMzMzODe0CamZmZmQ17QJqZmZmZVXtAmpmZmZlJe0DNzMzMzHB7QGZmZmZmzntAmpmZmZkhfEDNzMzMzBh8QJqZmZmZkXtAZmZmZmaqe0CamZmZmRl+QM3MzMzMkH5AMzMzMzM\\u002ffkBmZmZmZjp+QAAAAAAA0H1AmpmZmZnpfUAzMzMzM899QDMzMzMz531AAAAAAACkfUBmZmZmZgp9QM3MzMzMKH1AAAAAAABofUDNzMzMzFh9QJqZmZmZYX1AAAAAAABgfUCamZmZmcl8QAAAAAAAFH1AMzMzMzMXfUAzMzMzMw99QGZmZmZmcn1AAAAAAAA4fUCamZmZmTF9QM3MzMzMiH1AMzMzMzPTfUAAAAAAAMx9QGZmZmZmrn1AMzMzMzPPfUAAAAAAANB9QM3MzMzMzH1AZmZmZmaqfUBmZmZmZpJ8QJqZmZmZNX1AzczMzMwofUAzMzMzMx99QDMzMzMzg31AmpmZmZmNfUAzMzMzM899QM3MzMzM4H1AZmZmZmbefUCamZmZmRF+QDMzMzMzA35AmpmZmZlJfkDNzMzMzKR+QM3MzMzMjH5AzczMzMy4fkAzMzMzM39+QGZmZmZmQn5AzczMzMwkfkAzMzMzM3t9QJqZmZmZBX5AzczMzMwcfkBmZmZmZjp+QDMzMzMza35AZmZmZmaOfkAzMzMzM9N+QM3MzMzMKH9AMzMzMzMPf0AzMzMzM4N+QM3MzMzMwH5AMzMzMzO7fkAzMzMzM79\\u002fQDMzMzMz439AzczMzMx4f0AAAAAAAAaAQJqZmZmZIYBAMzMzMzMxgECamZmZmVWAQAAAAAAAVoBAZmZmZmYsgEAAAAAAABqAQJqZmZmZJ4BAMzMzMzMTgEAAAAAAAMR\\u002fQJqZmZmZtX9AAAAAAAC8f0CamZmZmfF\\u002fQM3MzMzMDoBAAAAAAAA8gEDNzMzMzBKAQM3MzMzMDIBAAAAAAAD8f0AzMzMzM1t\\u002fQDMzMzMz839AmpmZmZmlf0BmZmZmZtZ\\u002fQM3MzMzM4H9AZmZmZmZef0CamZmZmZF\\u002fQM3MzMzMFH9AmpmZmZlJf0AzMzMzM5t\\u002fQM3MzMzMnH9AzczMzMyIf0BmZmZmZpZ\\u002fQM3MzMzMLH9AMzMzMzNXf0BmZmZmZmp\\u002fQDMzMzMzw35AAAAAAACgfkCamZmZmel+QGZmZmZm\\u002fn5AAAAAAADsfkBmZmZmZsp+QM3MzMzMZH5AAAAAAABgfkCamZmZmZF+QDMzMzMz235AmpmZmZn1fkBmZmZmZp5+QM3MzMzMAH9AMzMzMzNjf0AzMzMzM59+QM3MzMzM4H5AMzMzMzPDfkDNzMzMzCh9QM3MzMzMqH1AAAAAAABkfUDNzMzMzBh9QGZmZmZm9nxAzczMzMywfEBmZmZmZqp8QDMzMzMzN3xAmpmZmZlJfECamZmZmbl7QGZmZmZmGntAzczMzMzQekDNzMzMzMR6QAAAAAAAmHpAzczMzMzQekBmZmZmZo56QJqZmZmZmXpAMzMzMzN\\u002fekDNzMzMzHR6QM3MzMzMdHpAmpmZmZk5ekDNzMzMzHR6QGZmZmZmenpAAAAAAADMekBmZmZmZvJ6QM3MzMzM5HpAzczMzMwEe0AAAAAAABB7QGZmZmZmTntAZmZmZmZye0BmZmZmZjZ7QM3MzMzM5HpAMzMzMzPzeUCamZmZmeV6QDMzMzMzp3pAmpmZmZl9ekAzMzMzM+96QAAAAAAA0HpAAAAAAAD4ekAzMzMzM0N7QJqZmZmZlXtAZmZmZmZ+e0DNzMzMzCx7QGZmZmZmSntAzczMzMxEe0AzMzMzM\\u002fd6QM3MzMzMvHpAMzMzMzPbekCamZmZmf16QJqZmZmZFXtAmpmZmZmRekAAAAAAAJB7QJqZmZmZhXtAAAAAAAAse0AzMzMzM0d7QAAAAAAAcHtAZmZmZmY6e0AzMzMzM2N7QAAAAAAAgHtAzczMzMxYe0BmZmZmZs56QDMzMzMz03pAzczMzMyUekAAAAAAAIx6QJqZmZmZLXpAZmZmZmaeekBmZmZmZp56QJqZmZmZ4XpAMzMzMzNPe0CamZmZmaV6QJqZmZmZ0XpAzczMzMy4ekAAAAAAAGx6QDMzMzMzk3pAmpmZmZmdekAzMzMzM6t6QJqZmZmZxXpAAAAAAADAekBmZmZmZrp6QJqZmZmZyXpAAAAAAABUekAzMzMzM\\u002ft5QM3MzMzMmHlAMzMzMzMXekCamZmZmTF6QGZmZmZmOnpAMzMzMzNnekAzMzMzM0d5QGZmZmZmlnlAzczMzMzYeUCamZmZmX15QGZmZmZmYnlAmpmZmZmReUDNzMzMzMB5QAAAAAAAmHlAzczMzMxkeUDNzMzMzIR5QGZmZmZmsnlAMzMzMzOTeUBmZmZmZrZ5QDMzMzMz53lAmpmZmZk1eUCamZmZmWF5QAAAAAAAlHlAmpmZmZlJeUBmZmZmZj55QM3MzMzMuHlA\"},\"y0\":\" \",\"yaxis\":\"y\",\"type\":\"box\"}],                        {\"template\":{\"data\":{\"histogram2dcontour\":[{\"type\":\"histogram2dcontour\",\"colorbar\":{\"outlinewidth\":0,\"ticks\":\"\"},\"colorscale\":[[0.0,\"#0d0887\"],[0.1111111111111111,\"#46039f\"],[0.2222222222222222,\"#7201a8\"],[0.3333333333333333,\"#9c179e\"],[0.4444444444444444,\"#bd3786\"],[0.5555555555555556,\"#d8576b\"],[0.6666666666666666,\"#ed7953\"],[0.7777777777777778,\"#fb9f3a\"],[0.8888888888888888,\"#fdca26\"],[1.0,\"#f0f921\"]]}],\"choropleth\":[{\"type\":\"choropleth\",\"colorbar\":{\"outlinewidth\":0,\"ticks\":\"\"}}],\"histogram2d\":[{\"type\":\"histogram2d\",\"colorbar\":{\"outlinewidth\":0,\"ticks\":\"\"},\"colorscale\":[[0.0,\"#0d0887\"],[0.1111111111111111,\"#46039f\"],[0.2222222222222222,\"#7201a8\"],[0.3333333333333333,\"#9c179e\"],[0.4444444444444444,\"#bd3786\"],[0.5555555555555556,\"#d8576b\"],[0.6666666666666666,\"#ed7953\"],[0.7777777777777778,\"#fb9f3a\"],[0.8888888888888888,\"#fdca26\"],[1.0,\"#f0f921\"]]}],\"heatmap\":[{\"type\":\"heatmap\",\"colorbar\":{\"outlinewidth\":0,\"ticks\":\"\"},\"colorscale\":[[0.0,\"#0d0887\"],[0.1111111111111111,\"#46039f\"],[0.2222222222222222,\"#7201a8\"],[0.3333333333333333,\"#9c179e\"],[0.4444444444444444,\"#bd3786\"],[0.5555555555555556,\"#d8576b\"],[0.6666666666666666,\"#ed7953\"],[0.7777777777777778,\"#fb9f3a\"],[0.8888888888888888,\"#fdca26\"],[1.0,\"#f0f921\"]]}],\"contourcarpet\":[{\"type\":\"contourcarpet\",\"colorbar\":{\"outlinewidth\":0,\"ticks\":\"\"}}],\"contour\":[{\"type\":\"contour\",\"colorbar\":{\"outlinewidth\":0,\"ticks\":\"\"},\"colorscale\":[[0.0,\"#0d0887\"],[0.1111111111111111,\"#46039f\"],[0.2222222222222222,\"#7201a8\"],[0.3333333333333333,\"#9c179e\"],[0.4444444444444444,\"#bd3786\"],[0.5555555555555556,\"#d8576b\"],[0.6666666666666666,\"#ed7953\"],[0.7777777777777778,\"#fb9f3a\"],[0.8888888888888888,\"#fdca26\"],[1.0,\"#f0f921\"]]}],\"surface\":[{\"type\":\"surface\",\"colorbar\":{\"outlinewidth\":0,\"ticks\":\"\"},\"colorscale\":[[0.0,\"#0d0887\"],[0.1111111111111111,\"#46039f\"],[0.2222222222222222,\"#7201a8\"],[0.3333333333333333,\"#9c179e\"],[0.4444444444444444,\"#bd3786\"],[0.5555555555555556,\"#d8576b\"],[0.6666666666666666,\"#ed7953\"],[0.7777777777777778,\"#fb9f3a\"],[0.8888888888888888,\"#fdca26\"],[1.0,\"#f0f921\"]]}],\"mesh3d\":[{\"type\":\"mesh3d\",\"colorbar\":{\"outlinewidth\":0,\"ticks\":\"\"}}],\"scatter\":[{\"fillpattern\":{\"fillmode\":\"overlay\",\"size\":10,\"solidity\":0.2},\"type\":\"scatter\"}],\"parcoords\":[{\"type\":\"parcoords\",\"line\":{\"colorbar\":{\"outlinewidth\":0,\"ticks\":\"\"}}}],\"scatterpolargl\":[{\"type\":\"scatterpolargl\",\"marker\":{\"colorbar\":{\"outlinewidth\":0,\"ticks\":\"\"}}}],\"bar\":[{\"error_x\":{\"color\":\"#2a3f5f\"},\"error_y\":{\"color\":\"#2a3f5f\"},\"marker\":{\"line\":{\"color\":\"#E5ECF6\",\"width\":0.5},\"pattern\":{\"fillmode\":\"overlay\",\"size\":10,\"solidity\":0.2}},\"type\":\"bar\"}],\"scattergeo\":[{\"type\":\"scattergeo\",\"marker\":{\"colorbar\":{\"outlinewidth\":0,\"ticks\":\"\"}}}],\"scatterpolar\":[{\"type\":\"scatterpolar\",\"marker\":{\"colorbar\":{\"outlinewidth\":0,\"ticks\":\"\"}}}],\"histogram\":[{\"marker\":{\"pattern\":{\"fillmode\":\"overlay\",\"size\":10,\"solidity\":0.2}},\"type\":\"histogram\"}],\"scattergl\":[{\"type\":\"scattergl\",\"marker\":{\"colorbar\":{\"outlinewidth\":0,\"ticks\":\"\"}}}],\"scatter3d\":[{\"type\":\"scatter3d\",\"line\":{\"colorbar\":{\"outlinewidth\":0,\"ticks\":\"\"}},\"marker\":{\"colorbar\":{\"outlinewidth\":0,\"ticks\":\"\"}}}],\"scattermap\":[{\"type\":\"scattermap\",\"marker\":{\"colorbar\":{\"outlinewidth\":0,\"ticks\":\"\"}}}],\"scattermapbox\":[{\"type\":\"scattermapbox\",\"marker\":{\"colorbar\":{\"outlinewidth\":0,\"ticks\":\"\"}}}],\"scatterternary\":[{\"type\":\"scatterternary\",\"marker\":{\"colorbar\":{\"outlinewidth\":0,\"ticks\":\"\"}}}],\"scattercarpet\":[{\"type\":\"scattercarpet\",\"marker\":{\"colorbar\":{\"outlinewidth\":0,\"ticks\":\"\"}}}],\"carpet\":[{\"aaxis\":{\"endlinecolor\":\"#2a3f5f\",\"gridcolor\":\"white\",\"linecolor\":\"white\",\"minorgridcolor\":\"white\",\"startlinecolor\":\"#2a3f5f\"},\"baxis\":{\"endlinecolor\":\"#2a3f5f\",\"gridcolor\":\"white\",\"linecolor\":\"white\",\"minorgridcolor\":\"white\",\"startlinecolor\":\"#2a3f5f\"},\"type\":\"carpet\"}],\"table\":[{\"cells\":{\"fill\":{\"color\":\"#EBF0F8\"},\"line\":{\"color\":\"white\"}},\"header\":{\"fill\":{\"color\":\"#C8D4E3\"},\"line\":{\"color\":\"white\"}},\"type\":\"table\"}],\"barpolar\":[{\"marker\":{\"line\":{\"color\":\"#E5ECF6\",\"width\":0.5},\"pattern\":{\"fillmode\":\"overlay\",\"size\":10,\"solidity\":0.2}},\"type\":\"barpolar\"}],\"pie\":[{\"automargin\":true,\"type\":\"pie\"}]},\"layout\":{\"autotypenumbers\":\"strict\",\"colorway\":[\"#636efa\",\"#EF553B\",\"#00cc96\",\"#ab63fa\",\"#FFA15A\",\"#19d3f3\",\"#FF6692\",\"#B6E880\",\"#FF97FF\",\"#FECB52\"],\"font\":{\"color\":\"#2a3f5f\"},\"hovermode\":\"closest\",\"hoverlabel\":{\"align\":\"left\"},\"paper_bgcolor\":\"white\",\"plot_bgcolor\":\"#E5ECF6\",\"polar\":{\"bgcolor\":\"#E5ECF6\",\"angularaxis\":{\"gridcolor\":\"white\",\"linecolor\":\"white\",\"ticks\":\"\"},\"radialaxis\":{\"gridcolor\":\"white\",\"linecolor\":\"white\",\"ticks\":\"\"}},\"ternary\":{\"bgcolor\":\"#E5ECF6\",\"aaxis\":{\"gridcolor\":\"white\",\"linecolor\":\"white\",\"ticks\":\"\"},\"baxis\":{\"gridcolor\":\"white\",\"linecolor\":\"white\",\"ticks\":\"\"},\"caxis\":{\"gridcolor\":\"white\",\"linecolor\":\"white\",\"ticks\":\"\"}},\"coloraxis\":{\"colorbar\":{\"outlinewidth\":0,\"ticks\":\"\"}},\"colorscale\":{\"sequential\":[[0.0,\"#0d0887\"],[0.1111111111111111,\"#46039f\"],[0.2222222222222222,\"#7201a8\"],[0.3333333333333333,\"#9c179e\"],[0.4444444444444444,\"#bd3786\"],[0.5555555555555556,\"#d8576b\"],[0.6666666666666666,\"#ed7953\"],[0.7777777777777778,\"#fb9f3a\"],[0.8888888888888888,\"#fdca26\"],[1.0,\"#f0f921\"]],\"sequentialminus\":[[0.0,\"#0d0887\"],[0.1111111111111111,\"#46039f\"],[0.2222222222222222,\"#7201a8\"],[0.3333333333333333,\"#9c179e\"],[0.4444444444444444,\"#bd3786\"],[0.5555555555555556,\"#d8576b\"],[0.6666666666666666,\"#ed7953\"],[0.7777777777777778,\"#fb9f3a\"],[0.8888888888888888,\"#fdca26\"],[1.0,\"#f0f921\"]],\"diverging\":[[0,\"#8e0152\"],[0.1,\"#c51b7d\"],[0.2,\"#de77ae\"],[0.3,\"#f1b6da\"],[0.4,\"#fde0ef\"],[0.5,\"#f7f7f7\"],[0.6,\"#e6f5d0\"],[0.7,\"#b8e186\"],[0.8,\"#7fbc41\"],[0.9,\"#4d9221\"],[1,\"#276419\"]]},\"xaxis\":{\"gridcolor\":\"white\",\"linecolor\":\"white\",\"ticks\":\"\",\"title\":{\"standoff\":15},\"zerolinecolor\":\"white\",\"automargin\":true,\"zerolinewidth\":2},\"yaxis\":{\"gridcolor\":\"white\",\"linecolor\":\"white\",\"ticks\":\"\",\"title\":{\"standoff\":15},\"zerolinecolor\":\"white\",\"automargin\":true,\"zerolinewidth\":2},\"scene\":{\"xaxis\":{\"backgroundcolor\":\"#E5ECF6\",\"gridcolor\":\"white\",\"linecolor\":\"white\",\"showbackground\":true,\"ticks\":\"\",\"zerolinecolor\":\"white\",\"gridwidth\":2},\"yaxis\":{\"backgroundcolor\":\"#E5ECF6\",\"gridcolor\":\"white\",\"linecolor\":\"white\",\"showbackground\":true,\"ticks\":\"\",\"zerolinecolor\":\"white\",\"gridwidth\":2},\"zaxis\":{\"backgroundcolor\":\"#E5ECF6\",\"gridcolor\":\"white\",\"linecolor\":\"white\",\"showbackground\":true,\"ticks\":\"\",\"zerolinecolor\":\"white\",\"gridwidth\":2}},\"shapedefaults\":{\"line\":{\"color\":\"#2a3f5f\"}},\"annotationdefaults\":{\"arrowcolor\":\"#2a3f5f\",\"arrowhead\":0,\"arrowwidth\":1},\"geo\":{\"bgcolor\":\"white\",\"landcolor\":\"#E5ECF6\",\"subunitcolor\":\"white\",\"showland\":true,\"showlakes\":true,\"lakecolor\":\"white\"},\"title\":{\"x\":0.05},\"mapbox\":{\"style\":\"light\"}}},\"xaxis\":{\"anchor\":\"y\",\"domain\":[0.0,1.0]},\"yaxis\":{\"anchor\":\"x\",\"domain\":[0.0,1.0],\"title\":{\"text\":\"close\"}},\"legend\":{\"tracegroupgap\":0},\"margin\":{\"t\":60},\"boxmode\":\"group\"},                        {\"responsive\": true}                    ).then(function(){\n",
       "                            \n",
       "var gd = document.getElementById('472d2289-c049-49c4-adf5-8e252746c9d8');\n",
       "var x = new MutationObserver(function (mutations, observer) {{\n",
       "        var display = window.getComputedStyle(gd).display;\n",
       "        if (!display || display === 'none') {{\n",
       "            console.log([gd, 'removed!']);\n",
       "            Plotly.purge(gd);\n",
       "            observer.disconnect();\n",
       "        }}\n",
       "}});\n",
       "\n",
       "// Listen for the removal of the full notebook cells\n",
       "var notebookContainer = gd.closest('#notebook-container');\n",
       "if (notebookContainer) {{\n",
       "    x.observe(notebookContainer, {childList: true});\n",
       "}}\n",
       "\n",
       "// Listen for the clearing of the current output cell\n",
       "var outputEl = gd.closest('.output');\n",
       "if (outputEl) {{\n",
       "    x.observe(outputEl, {childList: true});\n",
       "}}\n",
       "\n",
       "                        })                };            </script>        </div>"
      ]
     },
     "metadata": {},
     "output_type": "display_data"
    }
   ],
   "source": [
    "px.box(df, y='close')"
   ]
  },
  {
   "cell_type": "markdown",
   "metadata": {},
   "source": [
    "# Using Facebook Prophet to create a model for stock prediction"
   ]
  },
  {
   "cell_type": "markdown",
   "metadata": {},
   "source": [
    "## Data Preparation"
   ]
  },
  {
   "cell_type": "code",
   "execution_count": 606,
   "metadata": {},
   "outputs": [
    {
     "data": {
      "text/html": [
       "<div>\n",
       "<style scoped>\n",
       "    .dataframe tbody tr th:only-of-type {\n",
       "        vertical-align: middle;\n",
       "    }\n",
       "\n",
       "    .dataframe tbody tr th {\n",
       "        vertical-align: top;\n",
       "    }\n",
       "\n",
       "    .dataframe thead th {\n",
       "        text-align: right;\n",
       "    }\n",
       "</style>\n",
       "<table border=\"1\" class=\"dataframe\">\n",
       "  <thead>\n",
       "    <tr style=\"text-align: right;\">\n",
       "      <th></th>\n",
       "      <th>Date</th>\n",
       "      <th>series</th>\n",
       "      <th>OPEN</th>\n",
       "      <th>HIGH</th>\n",
       "      <th>LOW</th>\n",
       "      <th>PREV. CLOSE</th>\n",
       "      <th>ltp</th>\n",
       "      <th>close</th>\n",
       "      <th>vwap</th>\n",
       "      <th>52W H</th>\n",
       "      <th>52W L</th>\n",
       "      <th>VOLUME</th>\n",
       "      <th>VALUE</th>\n",
       "      <th>No. of trades</th>\n",
       "    </tr>\n",
       "  </thead>\n",
       "  <tbody>\n",
       "    <tr>\n",
       "      <th>0</th>\n",
       "      <td>14-Feb-2025</td>\n",
       "      <td>EQ</td>\n",
       "      <td>411.75</td>\n",
       "      <td>416.20</td>\n",
       "      <td>408.40</td>\n",
       "      <td>409.70</td>\n",
       "      <td>410.00</td>\n",
       "      <td>410.25</td>\n",
       "      <td>411.41</td>\n",
       "      <td>471.5</td>\n",
       "      <td>407.60</td>\n",
       "      <td>1,41,24,236</td>\n",
       "      <td>5,81,08,70,731.00</td>\n",
       "      <td>1,99,616</td>\n",
       "    </tr>\n",
       "    <tr>\n",
       "      <th>1</th>\n",
       "      <td>13-Feb-2025</td>\n",
       "      <td>EQ</td>\n",
       "      <td>409.95</td>\n",
       "      <td>413.95</td>\n",
       "      <td>409.00</td>\n",
       "      <td>409.90</td>\n",
       "      <td>410.00</td>\n",
       "      <td>409.70</td>\n",
       "      <td>411.14</td>\n",
       "      <td>471.5</td>\n",
       "      <td>407.60</td>\n",
       "      <td>1,29,89,029</td>\n",
       "      <td>5,34,03,10,573.90</td>\n",
       "      <td>1,85,598</td>\n",
       "    </tr>\n",
       "    <tr>\n",
       "      <th>2</th>\n",
       "      <td>12-Feb-2025</td>\n",
       "      <td>EQ</td>\n",
       "      <td>413.15</td>\n",
       "      <td>413.80</td>\n",
       "      <td>407.60</td>\n",
       "      <td>418.30</td>\n",
       "      <td>411.20</td>\n",
       "      <td>409.90</td>\n",
       "      <td>410.36</td>\n",
       "      <td>471.5</td>\n",
       "      <td>407.60</td>\n",
       "      <td>1,38,84,574</td>\n",
       "      <td>5,69,76,74,234.65</td>\n",
       "      <td>2,07,478</td>\n",
       "    </tr>\n",
       "    <tr>\n",
       "      <th>3</th>\n",
       "      <td>11-Feb-2025</td>\n",
       "      <td>EQ</td>\n",
       "      <td>428.80</td>\n",
       "      <td>430.55</td>\n",
       "      <td>417.50</td>\n",
       "      <td>427.20</td>\n",
       "      <td>418.05</td>\n",
       "      <td>418.30</td>\n",
       "      <td>421.57</td>\n",
       "      <td>471.5</td>\n",
       "      <td>417.50</td>\n",
       "      <td>1,42,88,751</td>\n",
       "      <td>6,02,37,50,310.80</td>\n",
       "      <td>1,87,384</td>\n",
       "    </tr>\n",
       "    <tr>\n",
       "      <th>4</th>\n",
       "      <td>10-Feb-2025</td>\n",
       "      <td>EQ</td>\n",
       "      <td>427.00</td>\n",
       "      <td>433.30</td>\n",
       "      <td>426.50</td>\n",
       "      <td>430.85</td>\n",
       "      <td>427.70</td>\n",
       "      <td>427.20</td>\n",
       "      <td>428.76</td>\n",
       "      <td>471.5</td>\n",
       "      <td>426.50</td>\n",
       "      <td>1,22,27,140</td>\n",
       "      <td>5,24,24,93,795.80</td>\n",
       "      <td>1,56,939</td>\n",
       "    </tr>\n",
       "    <tr>\n",
       "      <th>...</th>\n",
       "      <td>...</td>\n",
       "      <td>...</td>\n",
       "      <td>...</td>\n",
       "      <td>...</td>\n",
       "      <td>...</td>\n",
       "      <td>...</td>\n",
       "      <td>...</td>\n",
       "      <td>...</td>\n",
       "      <td>...</td>\n",
       "      <td>...</td>\n",
       "      <td>...</td>\n",
       "      <td>...</td>\n",
       "      <td>...</td>\n",
       "      <td>...</td>\n",
       "    </tr>\n",
       "    <tr>\n",
       "      <th>247</th>\n",
       "      <td>20-Feb-2024</td>\n",
       "      <td>EQ</td>\n",
       "      <td>410.45</td>\n",
       "      <td>410.45</td>\n",
       "      <td>404.30</td>\n",
       "      <td>409.25</td>\n",
       "      <td>406.90</td>\n",
       "      <td>406.10</td>\n",
       "      <td>406.62</td>\n",
       "      <td>499.7</td>\n",
       "      <td>369.65</td>\n",
       "      <td>1,40,84,218</td>\n",
       "      <td>5,72,69,13,345.05</td>\n",
       "      <td>2,00,707</td>\n",
       "    </tr>\n",
       "    <tr>\n",
       "      <th>248</th>\n",
       "      <td>19-Feb-2024</td>\n",
       "      <td>EQ</td>\n",
       "      <td>405.00</td>\n",
       "      <td>412.75</td>\n",
       "      <td>404.60</td>\n",
       "      <td>404.60</td>\n",
       "      <td>409.20</td>\n",
       "      <td>409.25</td>\n",
       "      <td>410.11</td>\n",
       "      <td>499.7</td>\n",
       "      <td>369.65</td>\n",
       "      <td>1,69,49,793</td>\n",
       "      <td>6,95,13,57,970.10</td>\n",
       "      <td>1,95,499</td>\n",
       "    </tr>\n",
       "    <tr>\n",
       "      <th>249</th>\n",
       "      <td>16-Feb-2024</td>\n",
       "      <td>EQ</td>\n",
       "      <td>405.00</td>\n",
       "      <td>409.55</td>\n",
       "      <td>399.40</td>\n",
       "      <td>403.90</td>\n",
       "      <td>404.60</td>\n",
       "      <td>404.60</td>\n",
       "      <td>403.76</td>\n",
       "      <td>499.7</td>\n",
       "      <td>369.65</td>\n",
       "      <td>3,75,18,847</td>\n",
       "      <td>15,14,84,23,499.50</td>\n",
       "      <td>3,02,859</td>\n",
       "    </tr>\n",
       "    <tr>\n",
       "      <th>250</th>\n",
       "      <td>15-Feb-2024</td>\n",
       "      <td>EQ</td>\n",
       "      <td>413.00</td>\n",
       "      <td>414.55</td>\n",
       "      <td>403.15</td>\n",
       "      <td>411.55</td>\n",
       "      <td>404.75</td>\n",
       "      <td>403.90</td>\n",
       "      <td>406.08</td>\n",
       "      <td>499.7</td>\n",
       "      <td>369.65</td>\n",
       "      <td>2,03,83,983</td>\n",
       "      <td>8,27,75,77,375.40</td>\n",
       "      <td>2,67,030</td>\n",
       "    </tr>\n",
       "    <tr>\n",
       "      <th>251</th>\n",
       "      <td>14-Feb-2024</td>\n",
       "      <td>EQ</td>\n",
       "      <td>406.00</td>\n",
       "      <td>412.25</td>\n",
       "      <td>404.40</td>\n",
       "      <td>406.75</td>\n",
       "      <td>412.15</td>\n",
       "      <td>411.55</td>\n",
       "      <td>408.96</td>\n",
       "      <td>499.7</td>\n",
       "      <td>369.65</td>\n",
       "      <td>1,21,50,077</td>\n",
       "      <td>4,96,89,46,837.35</td>\n",
       "      <td>1,80,419</td>\n",
       "    </tr>\n",
       "  </tbody>\n",
       "</table>\n",
       "<p>252 rows × 14 columns</p>\n",
       "</div>"
      ],
      "text/plain": [
       "            Date series    OPEN    HIGH     LOW  PREV. CLOSE     ltp   close  \\\n",
       "0    14-Feb-2025     EQ  411.75  416.20  408.40       409.70  410.00  410.25   \n",
       "1    13-Feb-2025     EQ  409.95  413.95  409.00       409.90  410.00  409.70   \n",
       "2    12-Feb-2025     EQ  413.15  413.80  407.60       418.30  411.20  409.90   \n",
       "3    11-Feb-2025     EQ  428.80  430.55  417.50       427.20  418.05  418.30   \n",
       "4    10-Feb-2025     EQ  427.00  433.30  426.50       430.85  427.70  427.20   \n",
       "..           ...    ...     ...     ...     ...          ...     ...     ...   \n",
       "247  20-Feb-2024     EQ  410.45  410.45  404.30       409.25  406.90  406.10   \n",
       "248  19-Feb-2024     EQ  405.00  412.75  404.60       404.60  409.20  409.25   \n",
       "249  16-Feb-2024     EQ  405.00  409.55  399.40       403.90  404.60  404.60   \n",
       "250  15-Feb-2024     EQ  413.00  414.55  403.15       411.55  404.75  403.90   \n",
       "251  14-Feb-2024     EQ  406.00  412.25  404.40       406.75  412.15  411.55   \n",
       "\n",
       "       vwap  52W H   52W L       VOLUME               VALUE No. of trades  \n",
       "0    411.41  471.5  407.60  1,41,24,236   5,81,08,70,731.00      1,99,616  \n",
       "1    411.14  471.5  407.60  1,29,89,029   5,34,03,10,573.90      1,85,598  \n",
       "2    410.36  471.5  407.60  1,38,84,574   5,69,76,74,234.65      2,07,478  \n",
       "3    421.57  471.5  417.50  1,42,88,751   6,02,37,50,310.80      1,87,384  \n",
       "4    428.76  471.5  426.50  1,22,27,140   5,24,24,93,795.80      1,56,939  \n",
       "..      ...    ...     ...          ...                 ...           ...  \n",
       "247  406.62  499.7  369.65  1,40,84,218   5,72,69,13,345.05      2,00,707  \n",
       "248  410.11  499.7  369.65  1,69,49,793   6,95,13,57,970.10      1,95,499  \n",
       "249  403.76  499.7  369.65  3,75,18,847  15,14,84,23,499.50      3,02,859  \n",
       "250  406.08  499.7  369.65  2,03,83,983   8,27,75,77,375.40      2,67,030  \n",
       "251  408.96  499.7  369.65  1,21,50,077   4,96,89,46,837.35      1,80,419  \n",
       "\n",
       "[252 rows x 14 columns]"
      ]
     },
     "execution_count": 606,
     "metadata": {},
     "output_type": "execute_result"
    }
   ],
   "source": [
    "df"
   ]
  },
  {
   "cell_type": "code",
   "execution_count": 607,
   "metadata": {},
   "outputs": [],
   "source": [
    "column = ['Date', 'close']\n",
    "ndf = pd.DataFrame(df, columns=column)"
   ]
  },
  {
   "cell_type": "code",
   "execution_count": 608,
   "metadata": {},
   "outputs": [
    {
     "data": {
      "text/html": [
       "<div>\n",
       "<style scoped>\n",
       "    .dataframe tbody tr th:only-of-type {\n",
       "        vertical-align: middle;\n",
       "    }\n",
       "\n",
       "    .dataframe tbody tr th {\n",
       "        vertical-align: top;\n",
       "    }\n",
       "\n",
       "    .dataframe thead th {\n",
       "        text-align: right;\n",
       "    }\n",
       "</style>\n",
       "<table border=\"1\" class=\"dataframe\">\n",
       "  <thead>\n",
       "    <tr style=\"text-align: right;\">\n",
       "      <th></th>\n",
       "      <th>Date</th>\n",
       "      <th>close</th>\n",
       "    </tr>\n",
       "  </thead>\n",
       "  <tbody>\n",
       "    <tr>\n",
       "      <th>0</th>\n",
       "      <td>14-Feb-2025</td>\n",
       "      <td>410.25</td>\n",
       "    </tr>\n",
       "    <tr>\n",
       "      <th>1</th>\n",
       "      <td>13-Feb-2025</td>\n",
       "      <td>409.70</td>\n",
       "    </tr>\n",
       "    <tr>\n",
       "      <th>2</th>\n",
       "      <td>12-Feb-2025</td>\n",
       "      <td>409.90</td>\n",
       "    </tr>\n",
       "    <tr>\n",
       "      <th>3</th>\n",
       "      <td>11-Feb-2025</td>\n",
       "      <td>418.30</td>\n",
       "    </tr>\n",
       "    <tr>\n",
       "      <th>4</th>\n",
       "      <td>10-Feb-2025</td>\n",
       "      <td>427.20</td>\n",
       "    </tr>\n",
       "    <tr>\n",
       "      <th>...</th>\n",
       "      <td>...</td>\n",
       "      <td>...</td>\n",
       "    </tr>\n",
       "    <tr>\n",
       "      <th>247</th>\n",
       "      <td>20-Feb-2024</td>\n",
       "      <td>406.10</td>\n",
       "    </tr>\n",
       "    <tr>\n",
       "      <th>248</th>\n",
       "      <td>19-Feb-2024</td>\n",
       "      <td>409.25</td>\n",
       "    </tr>\n",
       "    <tr>\n",
       "      <th>249</th>\n",
       "      <td>16-Feb-2024</td>\n",
       "      <td>404.60</td>\n",
       "    </tr>\n",
       "    <tr>\n",
       "      <th>250</th>\n",
       "      <td>15-Feb-2024</td>\n",
       "      <td>403.90</td>\n",
       "    </tr>\n",
       "    <tr>\n",
       "      <th>251</th>\n",
       "      <td>14-Feb-2024</td>\n",
       "      <td>411.55</td>\n",
       "    </tr>\n",
       "  </tbody>\n",
       "</table>\n",
       "<p>252 rows × 2 columns</p>\n",
       "</div>"
      ],
      "text/plain": [
       "            Date   close\n",
       "0    14-Feb-2025  410.25\n",
       "1    13-Feb-2025  409.70\n",
       "2    12-Feb-2025  409.90\n",
       "3    11-Feb-2025  418.30\n",
       "4    10-Feb-2025  427.20\n",
       "..           ...     ...\n",
       "247  20-Feb-2024  406.10\n",
       "248  19-Feb-2024  409.25\n",
       "249  16-Feb-2024  404.60\n",
       "250  15-Feb-2024  403.90\n",
       "251  14-Feb-2024  411.55\n",
       "\n",
       "[252 rows x 2 columns]"
      ]
     },
     "execution_count": 608,
     "metadata": {},
     "output_type": "execute_result"
    }
   ],
   "source": [
    "ndf"
   ]
  },
  {
   "cell_type": "code",
   "execution_count": 609,
   "metadata": {},
   "outputs": [],
   "source": [
    "prophet_df = ndf.rename(columns={'Date': 'ds', 'close': 'y'})"
   ]
  },
  {
   "cell_type": "code",
   "execution_count": 610,
   "metadata": {},
   "outputs": [
    {
     "data": {
      "text/html": [
       "<div>\n",
       "<style scoped>\n",
       "    .dataframe tbody tr th:only-of-type {\n",
       "        vertical-align: middle;\n",
       "    }\n",
       "\n",
       "    .dataframe tbody tr th {\n",
       "        vertical-align: top;\n",
       "    }\n",
       "\n",
       "    .dataframe thead th {\n",
       "        text-align: right;\n",
       "    }\n",
       "</style>\n",
       "<table border=\"1\" class=\"dataframe\">\n",
       "  <thead>\n",
       "    <tr style=\"text-align: right;\">\n",
       "      <th></th>\n",
       "      <th>ds</th>\n",
       "      <th>y</th>\n",
       "    </tr>\n",
       "  </thead>\n",
       "  <tbody>\n",
       "    <tr>\n",
       "      <th>0</th>\n",
       "      <td>14-Feb-2025</td>\n",
       "      <td>410.25</td>\n",
       "    </tr>\n",
       "    <tr>\n",
       "      <th>1</th>\n",
       "      <td>13-Feb-2025</td>\n",
       "      <td>409.70</td>\n",
       "    </tr>\n",
       "    <tr>\n",
       "      <th>2</th>\n",
       "      <td>12-Feb-2025</td>\n",
       "      <td>409.90</td>\n",
       "    </tr>\n",
       "    <tr>\n",
       "      <th>3</th>\n",
       "      <td>11-Feb-2025</td>\n",
       "      <td>418.30</td>\n",
       "    </tr>\n",
       "    <tr>\n",
       "      <th>4</th>\n",
       "      <td>10-Feb-2025</td>\n",
       "      <td>427.20</td>\n",
       "    </tr>\n",
       "    <tr>\n",
       "      <th>...</th>\n",
       "      <td>...</td>\n",
       "      <td>...</td>\n",
       "    </tr>\n",
       "    <tr>\n",
       "      <th>247</th>\n",
       "      <td>20-Feb-2024</td>\n",
       "      <td>406.10</td>\n",
       "    </tr>\n",
       "    <tr>\n",
       "      <th>248</th>\n",
       "      <td>19-Feb-2024</td>\n",
       "      <td>409.25</td>\n",
       "    </tr>\n",
       "    <tr>\n",
       "      <th>249</th>\n",
       "      <td>16-Feb-2024</td>\n",
       "      <td>404.60</td>\n",
       "    </tr>\n",
       "    <tr>\n",
       "      <th>250</th>\n",
       "      <td>15-Feb-2024</td>\n",
       "      <td>403.90</td>\n",
       "    </tr>\n",
       "    <tr>\n",
       "      <th>251</th>\n",
       "      <td>14-Feb-2024</td>\n",
       "      <td>411.55</td>\n",
       "    </tr>\n",
       "  </tbody>\n",
       "</table>\n",
       "<p>252 rows × 2 columns</p>\n",
       "</div>"
      ],
      "text/plain": [
       "              ds       y\n",
       "0    14-Feb-2025  410.25\n",
       "1    13-Feb-2025  409.70\n",
       "2    12-Feb-2025  409.90\n",
       "3    11-Feb-2025  418.30\n",
       "4    10-Feb-2025  427.20\n",
       "..           ...     ...\n",
       "247  20-Feb-2024  406.10\n",
       "248  19-Feb-2024  409.25\n",
       "249  16-Feb-2024  404.60\n",
       "250  15-Feb-2024  403.90\n",
       "251  14-Feb-2024  411.55\n",
       "\n",
       "[252 rows x 2 columns]"
      ]
     },
     "execution_count": 610,
     "metadata": {},
     "output_type": "execute_result"
    }
   ],
   "source": [
    "prophet_df"
   ]
  },
  {
   "cell_type": "markdown",
   "metadata": {},
   "source": [
    "## Creating Facebook Prophet Model"
   ]
  },
  {
   "cell_type": "code",
   "execution_count": 611,
   "metadata": {},
   "outputs": [
    {
     "name": "stderr",
     "output_type": "stream",
     "text": [
      "02:40:52 - cmdstanpy - INFO - Chain [1] start processing\n",
      "02:40:52 - cmdstanpy - INFO - Chain [1] done processing\n"
     ]
    },
    {
     "data": {
      "text/plain": [
       "<prophet.forecaster.Prophet at 0x145f5b9d0>"
      ]
     },
     "execution_count": 611,
     "metadata": {},
     "output_type": "execute_result"
    }
   ],
   "source": [
    "m = Prophet.Prophet()\n",
    "m.fit(prophet_df)"
   ]
  },
  {
   "cell_type": "markdown",
   "metadata": {},
   "source": [
    "## Forecasting"
   ]
  },
  {
   "cell_type": "code",
   "execution_count": 612,
   "metadata": {},
   "outputs": [],
   "source": [
    "future = m.make_future_dataframe(periods=30)\n",
    "forecast = m.predict(future)"
   ]
  },
  {
   "cell_type": "code",
   "execution_count": 613,
   "metadata": {},
   "outputs": [
    {
     "data": {
      "text/html": [
       "<div>\n",
       "<style scoped>\n",
       "    .dataframe tbody tr th:only-of-type {\n",
       "        vertical-align: middle;\n",
       "    }\n",
       "\n",
       "    .dataframe tbody tr th {\n",
       "        vertical-align: top;\n",
       "    }\n",
       "\n",
       "    .dataframe thead th {\n",
       "        text-align: right;\n",
       "    }\n",
       "</style>\n",
       "<table border=\"1\" class=\"dataframe\">\n",
       "  <thead>\n",
       "    <tr style=\"text-align: right;\">\n",
       "      <th></th>\n",
       "      <th>ds</th>\n",
       "      <th>trend</th>\n",
       "      <th>yhat_lower</th>\n",
       "      <th>yhat_upper</th>\n",
       "      <th>trend_lower</th>\n",
       "      <th>trend_upper</th>\n",
       "      <th>additive_terms</th>\n",
       "      <th>additive_terms_lower</th>\n",
       "      <th>additive_terms_upper</th>\n",
       "      <th>weekly</th>\n",
       "      <th>weekly_lower</th>\n",
       "      <th>weekly_upper</th>\n",
       "      <th>multiplicative_terms</th>\n",
       "      <th>multiplicative_terms_lower</th>\n",
       "      <th>multiplicative_terms_upper</th>\n",
       "      <th>yhat</th>\n",
       "    </tr>\n",
       "  </thead>\n",
       "  <tbody>\n",
       "    <tr>\n",
       "      <th>0</th>\n",
       "      <td>2024-02-14</td>\n",
       "      <td>407.635745</td>\n",
       "      <td>393.633158</td>\n",
       "      <td>416.118150</td>\n",
       "      <td>407.635745</td>\n",
       "      <td>407.635745</td>\n",
       "      <td>-2.177900</td>\n",
       "      <td>-2.177900</td>\n",
       "      <td>-2.177900</td>\n",
       "      <td>-2.177900</td>\n",
       "      <td>-2.177900</td>\n",
       "      <td>-2.177900</td>\n",
       "      <td>0.0</td>\n",
       "      <td>0.0</td>\n",
       "      <td>0.0</td>\n",
       "      <td>405.457845</td>\n",
       "    </tr>\n",
       "    <tr>\n",
       "      <th>1</th>\n",
       "      <td>2024-02-15</td>\n",
       "      <td>408.003186</td>\n",
       "      <td>395.395009</td>\n",
       "      <td>417.835659</td>\n",
       "      <td>408.003186</td>\n",
       "      <td>408.003186</td>\n",
       "      <td>-2.225049</td>\n",
       "      <td>-2.225049</td>\n",
       "      <td>-2.225049</td>\n",
       "      <td>-2.225049</td>\n",
       "      <td>-2.225049</td>\n",
       "      <td>-2.225049</td>\n",
       "      <td>0.0</td>\n",
       "      <td>0.0</td>\n",
       "      <td>0.0</td>\n",
       "      <td>405.778137</td>\n",
       "    </tr>\n",
       "    <tr>\n",
       "      <th>2</th>\n",
       "      <td>2024-02-16</td>\n",
       "      <td>408.370626</td>\n",
       "      <td>396.384550</td>\n",
       "      <td>419.161916</td>\n",
       "      <td>408.370626</td>\n",
       "      <td>408.370626</td>\n",
       "      <td>-0.726503</td>\n",
       "      <td>-0.726503</td>\n",
       "      <td>-0.726503</td>\n",
       "      <td>-0.726503</td>\n",
       "      <td>-0.726503</td>\n",
       "      <td>-0.726503</td>\n",
       "      <td>0.0</td>\n",
       "      <td>0.0</td>\n",
       "      <td>0.0</td>\n",
       "      <td>407.644123</td>\n",
       "    </tr>\n",
       "    <tr>\n",
       "      <th>3</th>\n",
       "      <td>2024-02-19</td>\n",
       "      <td>409.472947</td>\n",
       "      <td>396.957010</td>\n",
       "      <td>418.668248</td>\n",
       "      <td>409.472947</td>\n",
       "      <td>409.472947</td>\n",
       "      <td>-1.605341</td>\n",
       "      <td>-1.605341</td>\n",
       "      <td>-1.605341</td>\n",
       "      <td>-1.605341</td>\n",
       "      <td>-1.605341</td>\n",
       "      <td>-1.605341</td>\n",
       "      <td>0.0</td>\n",
       "      <td>0.0</td>\n",
       "      <td>0.0</td>\n",
       "      <td>407.867606</td>\n",
       "    </tr>\n",
       "    <tr>\n",
       "      <th>4</th>\n",
       "      <td>2024-02-20</td>\n",
       "      <td>409.840388</td>\n",
       "      <td>395.839287</td>\n",
       "      <td>419.167051</td>\n",
       "      <td>409.840388</td>\n",
       "      <td>409.840388</td>\n",
       "      <td>-2.389118</td>\n",
       "      <td>-2.389118</td>\n",
       "      <td>-2.389118</td>\n",
       "      <td>-2.389118</td>\n",
       "      <td>-2.389118</td>\n",
       "      <td>-2.389118</td>\n",
       "      <td>0.0</td>\n",
       "      <td>0.0</td>\n",
       "      <td>0.0</td>\n",
       "      <td>407.451270</td>\n",
       "    </tr>\n",
       "    <tr>\n",
       "      <th>...</th>\n",
       "      <td>...</td>\n",
       "      <td>...</td>\n",
       "      <td>...</td>\n",
       "      <td>...</td>\n",
       "      <td>...</td>\n",
       "      <td>...</td>\n",
       "      <td>...</td>\n",
       "      <td>...</td>\n",
       "      <td>...</td>\n",
       "      <td>...</td>\n",
       "      <td>...</td>\n",
       "      <td>...</td>\n",
       "      <td>...</td>\n",
       "      <td>...</td>\n",
       "      <td>...</td>\n",
       "      <td>...</td>\n",
       "    </tr>\n",
       "    <tr>\n",
       "      <th>277</th>\n",
       "      <td>2025-03-12</td>\n",
       "      <td>418.147086</td>\n",
       "      <td>402.978791</td>\n",
       "      <td>428.280310</td>\n",
       "      <td>413.258014</td>\n",
       "      <td>423.363957</td>\n",
       "      <td>-2.177900</td>\n",
       "      <td>-2.177900</td>\n",
       "      <td>-2.177900</td>\n",
       "      <td>-2.177900</td>\n",
       "      <td>-2.177900</td>\n",
       "      <td>-2.177900</td>\n",
       "      <td>0.0</td>\n",
       "      <td>0.0</td>\n",
       "      <td>0.0</td>\n",
       "      <td>415.969186</td>\n",
       "    </tr>\n",
       "    <tr>\n",
       "      <th>278</th>\n",
       "      <td>2025-03-13</td>\n",
       "      <td>417.589692</td>\n",
       "      <td>403.235951</td>\n",
       "      <td>428.389093</td>\n",
       "      <td>412.486756</td>\n",
       "      <td>423.143617</td>\n",
       "      <td>-2.225049</td>\n",
       "      <td>-2.225049</td>\n",
       "      <td>-2.225049</td>\n",
       "      <td>-2.225049</td>\n",
       "      <td>-2.225049</td>\n",
       "      <td>-2.225049</td>\n",
       "      <td>0.0</td>\n",
       "      <td>0.0</td>\n",
       "      <td>0.0</td>\n",
       "      <td>415.364643</td>\n",
       "    </tr>\n",
       "    <tr>\n",
       "      <th>279</th>\n",
       "      <td>2025-03-14</td>\n",
       "      <td>417.032297</td>\n",
       "      <td>402.730550</td>\n",
       "      <td>428.919810</td>\n",
       "      <td>411.606245</td>\n",
       "      <td>422.958176</td>\n",
       "      <td>-0.726503</td>\n",
       "      <td>-0.726503</td>\n",
       "      <td>-0.726503</td>\n",
       "      <td>-0.726503</td>\n",
       "      <td>-0.726503</td>\n",
       "      <td>-0.726503</td>\n",
       "      <td>0.0</td>\n",
       "      <td>0.0</td>\n",
       "      <td>0.0</td>\n",
       "      <td>416.305794</td>\n",
       "    </tr>\n",
       "    <tr>\n",
       "      <th>280</th>\n",
       "      <td>2025-03-15</td>\n",
       "      <td>416.474903</td>\n",
       "      <td>411.822606</td>\n",
       "      <td>437.707772</td>\n",
       "      <td>410.669719</td>\n",
       "      <td>422.829203</td>\n",
       "      <td>8.163558</td>\n",
       "      <td>8.163558</td>\n",
       "      <td>8.163558</td>\n",
       "      <td>8.163558</td>\n",
       "      <td>8.163558</td>\n",
       "      <td>8.163558</td>\n",
       "      <td>0.0</td>\n",
       "      <td>0.0</td>\n",
       "      <td>0.0</td>\n",
       "      <td>424.638461</td>\n",
       "    </tr>\n",
       "    <tr>\n",
       "      <th>281</th>\n",
       "      <td>2025-03-16</td>\n",
       "      <td>415.917508</td>\n",
       "      <td>404.173592</td>\n",
       "      <td>430.603892</td>\n",
       "      <td>409.888331</td>\n",
       "      <td>422.648031</td>\n",
       "      <td>0.960354</td>\n",
       "      <td>0.960354</td>\n",
       "      <td>0.960354</td>\n",
       "      <td>0.960354</td>\n",
       "      <td>0.960354</td>\n",
       "      <td>0.960354</td>\n",
       "      <td>0.0</td>\n",
       "      <td>0.0</td>\n",
       "      <td>0.0</td>\n",
       "      <td>416.877862</td>\n",
       "    </tr>\n",
       "  </tbody>\n",
       "</table>\n",
       "<p>282 rows × 16 columns</p>\n",
       "</div>"
      ],
      "text/plain": [
       "            ds       trend  yhat_lower  yhat_upper  trend_lower  trend_upper  \\\n",
       "0   2024-02-14  407.635745  393.633158  416.118150   407.635745   407.635745   \n",
       "1   2024-02-15  408.003186  395.395009  417.835659   408.003186   408.003186   \n",
       "2   2024-02-16  408.370626  396.384550  419.161916   408.370626   408.370626   \n",
       "3   2024-02-19  409.472947  396.957010  418.668248   409.472947   409.472947   \n",
       "4   2024-02-20  409.840388  395.839287  419.167051   409.840388   409.840388   \n",
       "..         ...         ...         ...         ...          ...          ...   \n",
       "277 2025-03-12  418.147086  402.978791  428.280310   413.258014   423.363957   \n",
       "278 2025-03-13  417.589692  403.235951  428.389093   412.486756   423.143617   \n",
       "279 2025-03-14  417.032297  402.730550  428.919810   411.606245   422.958176   \n",
       "280 2025-03-15  416.474903  411.822606  437.707772   410.669719   422.829203   \n",
       "281 2025-03-16  415.917508  404.173592  430.603892   409.888331   422.648031   \n",
       "\n",
       "     additive_terms  additive_terms_lower  additive_terms_upper    weekly  \\\n",
       "0         -2.177900             -2.177900             -2.177900 -2.177900   \n",
       "1         -2.225049             -2.225049             -2.225049 -2.225049   \n",
       "2         -0.726503             -0.726503             -0.726503 -0.726503   \n",
       "3         -1.605341             -1.605341             -1.605341 -1.605341   \n",
       "4         -2.389118             -2.389118             -2.389118 -2.389118   \n",
       "..              ...                   ...                   ...       ...   \n",
       "277       -2.177900             -2.177900             -2.177900 -2.177900   \n",
       "278       -2.225049             -2.225049             -2.225049 -2.225049   \n",
       "279       -0.726503             -0.726503             -0.726503 -0.726503   \n",
       "280        8.163558              8.163558              8.163558  8.163558   \n",
       "281        0.960354              0.960354              0.960354  0.960354   \n",
       "\n",
       "     weekly_lower  weekly_upper  multiplicative_terms  \\\n",
       "0       -2.177900     -2.177900                   0.0   \n",
       "1       -2.225049     -2.225049                   0.0   \n",
       "2       -0.726503     -0.726503                   0.0   \n",
       "3       -1.605341     -1.605341                   0.0   \n",
       "4       -2.389118     -2.389118                   0.0   \n",
       "..            ...           ...                   ...   \n",
       "277     -2.177900     -2.177900                   0.0   \n",
       "278     -2.225049     -2.225049                   0.0   \n",
       "279     -0.726503     -0.726503                   0.0   \n",
       "280      8.163558      8.163558                   0.0   \n",
       "281      0.960354      0.960354                   0.0   \n",
       "\n",
       "     multiplicative_terms_lower  multiplicative_terms_upper        yhat  \n",
       "0                           0.0                         0.0  405.457845  \n",
       "1                           0.0                         0.0  405.778137  \n",
       "2                           0.0                         0.0  407.644123  \n",
       "3                           0.0                         0.0  407.867606  \n",
       "4                           0.0                         0.0  407.451270  \n",
       "..                          ...                         ...         ...  \n",
       "277                         0.0                         0.0  415.969186  \n",
       "278                         0.0                         0.0  415.364643  \n",
       "279                         0.0                         0.0  416.305794  \n",
       "280                         0.0                         0.0  424.638461  \n",
       "281                         0.0                         0.0  416.877862  \n",
       "\n",
       "[282 rows x 16 columns]"
      ]
     },
     "execution_count": 613,
     "metadata": {},
     "output_type": "execute_result"
    }
   ],
   "source": [
    "forecast"
   ]
  },
  {
   "cell_type": "code",
   "execution_count": 614,
   "metadata": {},
   "outputs": [
    {
     "data": {
      "application/vnd.plotly.v1+json": {
       "config": {
        "plotlyServerURL": "https://plot.ly"
       },
       "data": [
        {
         "hovertemplate": "ds=%{x}<br>yhat=%{y}<extra></extra>",
         "legendgroup": "",
         "line": {
          "color": "#636efa",
          "dash": "solid"
         },
         "marker": {
          "symbol": "circle"
         },
         "mode": "lines",
         "name": "",
         "orientation": "v",
         "showlegend": false,
         "type": "scatter",
         "x": [
          "2024-02-14T00:00:00.000000000",
          "2024-02-15T00:00:00.000000000",
          "2024-02-16T00:00:00.000000000",
          "2024-02-19T00:00:00.000000000",
          "2024-02-20T00:00:00.000000000",
          "2024-02-21T00:00:00.000000000",
          "2024-02-22T00:00:00.000000000",
          "2024-02-23T00:00:00.000000000",
          "2024-02-26T00:00:00.000000000",
          "2024-02-27T00:00:00.000000000",
          "2024-02-28T00:00:00.000000000",
          "2024-02-29T00:00:00.000000000",
          "2024-03-01T00:00:00.000000000",
          "2024-03-02T00:00:00.000000000",
          "2024-03-04T00:00:00.000000000",
          "2024-03-05T00:00:00.000000000",
          "2024-03-06T00:00:00.000000000",
          "2024-03-07T00:00:00.000000000",
          "2024-03-11T00:00:00.000000000",
          "2024-03-12T00:00:00.000000000",
          "2024-03-13T00:00:00.000000000",
          "2024-03-14T00:00:00.000000000",
          "2024-03-15T00:00:00.000000000",
          "2024-03-18T00:00:00.000000000",
          "2024-03-19T00:00:00.000000000",
          "2024-03-20T00:00:00.000000000",
          "2024-03-21T00:00:00.000000000",
          "2024-03-22T00:00:00.000000000",
          "2024-03-26T00:00:00.000000000",
          "2024-03-27T00:00:00.000000000",
          "2024-03-28T00:00:00.000000000",
          "2024-04-01T00:00:00.000000000",
          "2024-04-02T00:00:00.000000000",
          "2024-04-03T00:00:00.000000000",
          "2024-04-04T00:00:00.000000000",
          "2024-04-05T00:00:00.000000000",
          "2024-04-08T00:00:00.000000000",
          "2024-04-09T00:00:00.000000000",
          "2024-04-10T00:00:00.000000000",
          "2024-04-12T00:00:00.000000000",
          "2024-04-15T00:00:00.000000000",
          "2024-04-16T00:00:00.000000000",
          "2024-04-18T00:00:00.000000000",
          "2024-04-19T00:00:00.000000000",
          "2024-04-22T00:00:00.000000000",
          "2024-04-23T00:00:00.000000000",
          "2024-04-24T00:00:00.000000000",
          "2024-04-25T00:00:00.000000000",
          "2024-04-26T00:00:00.000000000",
          "2024-04-29T00:00:00.000000000",
          "2024-04-30T00:00:00.000000000",
          "2024-05-02T00:00:00.000000000",
          "2024-05-03T00:00:00.000000000",
          "2024-05-06T00:00:00.000000000",
          "2024-05-07T00:00:00.000000000",
          "2024-05-08T00:00:00.000000000",
          "2024-05-09T00:00:00.000000000",
          "2024-05-10T00:00:00.000000000",
          "2024-05-13T00:00:00.000000000",
          "2024-05-14T00:00:00.000000000",
          "2024-05-15T00:00:00.000000000",
          "2024-05-16T00:00:00.000000000",
          "2024-05-17T00:00:00.000000000",
          "2024-05-18T00:00:00.000000000",
          "2024-05-21T00:00:00.000000000",
          "2024-05-22T00:00:00.000000000",
          "2024-05-23T00:00:00.000000000",
          "2024-05-24T00:00:00.000000000",
          "2024-05-27T00:00:00.000000000",
          "2024-05-28T00:00:00.000000000",
          "2024-05-29T00:00:00.000000000",
          "2024-05-30T00:00:00.000000000",
          "2024-05-31T00:00:00.000000000",
          "2024-06-03T00:00:00.000000000",
          "2024-06-04T00:00:00.000000000",
          "2024-06-05T00:00:00.000000000",
          "2024-06-06T00:00:00.000000000",
          "2024-06-07T00:00:00.000000000",
          "2024-06-10T00:00:00.000000000",
          "2024-06-11T00:00:00.000000000",
          "2024-06-12T00:00:00.000000000",
          "2024-06-13T00:00:00.000000000",
          "2024-06-14T00:00:00.000000000",
          "2024-06-18T00:00:00.000000000",
          "2024-06-19T00:00:00.000000000",
          "2024-06-20T00:00:00.000000000",
          "2024-06-21T00:00:00.000000000",
          "2024-06-24T00:00:00.000000000",
          "2024-06-25T00:00:00.000000000",
          "2024-06-26T00:00:00.000000000",
          "2024-06-27T00:00:00.000000000",
          "2024-06-28T00:00:00.000000000",
          "2024-07-01T00:00:00.000000000",
          "2024-07-02T00:00:00.000000000",
          "2024-07-03T00:00:00.000000000",
          "2024-07-04T00:00:00.000000000",
          "2024-07-05T00:00:00.000000000",
          "2024-07-08T00:00:00.000000000",
          "2024-07-09T00:00:00.000000000",
          "2024-07-10T00:00:00.000000000",
          "2024-07-11T00:00:00.000000000",
          "2024-07-12T00:00:00.000000000",
          "2024-07-15T00:00:00.000000000",
          "2024-07-16T00:00:00.000000000",
          "2024-07-18T00:00:00.000000000",
          "2024-07-19T00:00:00.000000000",
          "2024-07-22T00:00:00.000000000",
          "2024-07-23T00:00:00.000000000",
          "2024-07-24T00:00:00.000000000",
          "2024-07-25T00:00:00.000000000",
          "2024-07-26T00:00:00.000000000",
          "2024-07-29T00:00:00.000000000",
          "2024-07-30T00:00:00.000000000",
          "2024-07-31T00:00:00.000000000",
          "2024-08-01T00:00:00.000000000",
          "2024-08-02T00:00:00.000000000",
          "2024-08-05T00:00:00.000000000",
          "2024-08-06T00:00:00.000000000",
          "2024-08-07T00:00:00.000000000",
          "2024-08-08T00:00:00.000000000",
          "2024-08-09T00:00:00.000000000",
          "2024-08-12T00:00:00.000000000",
          "2024-08-13T00:00:00.000000000",
          "2024-08-14T00:00:00.000000000",
          "2024-08-16T00:00:00.000000000",
          "2024-08-19T00:00:00.000000000",
          "2024-08-20T00:00:00.000000000",
          "2024-08-21T00:00:00.000000000",
          "2024-08-22T00:00:00.000000000",
          "2024-08-23T00:00:00.000000000",
          "2024-08-26T00:00:00.000000000",
          "2024-08-27T00:00:00.000000000",
          "2024-08-28T00:00:00.000000000",
          "2024-08-29T00:00:00.000000000",
          "2024-08-30T00:00:00.000000000",
          "2024-09-02T00:00:00.000000000",
          "2024-09-03T00:00:00.000000000",
          "2024-09-04T00:00:00.000000000",
          "2024-09-05T00:00:00.000000000",
          "2024-09-06T00:00:00.000000000",
          "2024-09-09T00:00:00.000000000",
          "2024-09-10T00:00:00.000000000",
          "2024-09-11T00:00:00.000000000",
          "2024-09-12T00:00:00.000000000",
          "2024-09-13T00:00:00.000000000",
          "2024-09-16T00:00:00.000000000",
          "2024-09-17T00:00:00.000000000",
          "2024-09-18T00:00:00.000000000",
          "2024-09-19T00:00:00.000000000",
          "2024-09-20T00:00:00.000000000",
          "2024-09-23T00:00:00.000000000",
          "2024-09-24T00:00:00.000000000",
          "2024-09-25T00:00:00.000000000",
          "2024-09-26T00:00:00.000000000",
          "2024-09-27T00:00:00.000000000",
          "2024-09-30T00:00:00.000000000",
          "2024-10-01T00:00:00.000000000",
          "2024-10-03T00:00:00.000000000",
          "2024-10-04T00:00:00.000000000",
          "2024-10-07T00:00:00.000000000",
          "2024-10-08T00:00:00.000000000",
          "2024-10-09T00:00:00.000000000",
          "2024-10-10T00:00:00.000000000",
          "2024-10-11T00:00:00.000000000",
          "2024-10-14T00:00:00.000000000",
          "2024-10-15T00:00:00.000000000",
          "2024-10-16T00:00:00.000000000",
          "2024-10-17T00:00:00.000000000",
          "2024-10-18T00:00:00.000000000",
          "2024-10-21T00:00:00.000000000",
          "2024-10-22T00:00:00.000000000",
          "2024-10-23T00:00:00.000000000",
          "2024-10-24T00:00:00.000000000",
          "2024-10-25T00:00:00.000000000",
          "2024-10-28T00:00:00.000000000",
          "2024-10-29T00:00:00.000000000",
          "2024-10-30T00:00:00.000000000",
          "2024-10-31T00:00:00.000000000",
          "2024-11-01T00:00:00.000000000",
          "2024-11-04T00:00:00.000000000",
          "2024-11-05T00:00:00.000000000",
          "2024-11-06T00:00:00.000000000",
          "2024-11-07T00:00:00.000000000",
          "2024-11-08T00:00:00.000000000",
          "2024-11-11T00:00:00.000000000",
          "2024-11-12T00:00:00.000000000",
          "2024-11-13T00:00:00.000000000",
          "2024-11-14T00:00:00.000000000",
          "2024-11-18T00:00:00.000000000",
          "2024-11-19T00:00:00.000000000",
          "2024-11-21T00:00:00.000000000",
          "2024-11-22T00:00:00.000000000",
          "2024-11-25T00:00:00.000000000",
          "2024-11-26T00:00:00.000000000",
          "2024-11-27T00:00:00.000000000",
          "2024-11-28T00:00:00.000000000",
          "2024-11-29T00:00:00.000000000",
          "2024-12-02T00:00:00.000000000",
          "2024-12-03T00:00:00.000000000",
          "2024-12-04T00:00:00.000000000",
          "2024-12-05T00:00:00.000000000",
          "2024-12-06T00:00:00.000000000",
          "2024-12-09T00:00:00.000000000",
          "2024-12-10T00:00:00.000000000",
          "2024-12-11T00:00:00.000000000",
          "2024-12-12T00:00:00.000000000",
          "2024-12-13T00:00:00.000000000",
          "2024-12-16T00:00:00.000000000",
          "2024-12-17T00:00:00.000000000",
          "2024-12-18T00:00:00.000000000",
          "2024-12-19T00:00:00.000000000",
          "2024-12-20T00:00:00.000000000",
          "2024-12-23T00:00:00.000000000",
          "2024-12-24T00:00:00.000000000",
          "2024-12-26T00:00:00.000000000",
          "2024-12-27T00:00:00.000000000",
          "2024-12-30T00:00:00.000000000",
          "2024-12-31T00:00:00.000000000",
          "2025-01-01T00:00:00.000000000",
          "2025-01-02T00:00:00.000000000",
          "2025-01-03T00:00:00.000000000",
          "2025-01-06T00:00:00.000000000",
          "2025-01-07T00:00:00.000000000",
          "2025-01-08T00:00:00.000000000",
          "2025-01-09T00:00:00.000000000",
          "2025-01-10T00:00:00.000000000",
          "2025-01-13T00:00:00.000000000",
          "2025-01-14T00:00:00.000000000",
          "2025-01-15T00:00:00.000000000",
          "2025-01-16T00:00:00.000000000",
          "2025-01-17T00:00:00.000000000",
          "2025-01-20T00:00:00.000000000",
          "2025-01-21T00:00:00.000000000",
          "2025-01-22T00:00:00.000000000",
          "2025-01-23T00:00:00.000000000",
          "2025-01-24T00:00:00.000000000",
          "2025-01-27T00:00:00.000000000",
          "2025-01-28T00:00:00.000000000",
          "2025-01-29T00:00:00.000000000",
          "2025-01-30T00:00:00.000000000",
          "2025-01-31T00:00:00.000000000",
          "2025-02-01T00:00:00.000000000",
          "2025-02-03T00:00:00.000000000",
          "2025-02-04T00:00:00.000000000",
          "2025-02-05T00:00:00.000000000",
          "2025-02-06T00:00:00.000000000",
          "2025-02-07T00:00:00.000000000",
          "2025-02-10T00:00:00.000000000",
          "2025-02-11T00:00:00.000000000",
          "2025-02-12T00:00:00.000000000",
          "2025-02-13T00:00:00.000000000",
          "2025-02-14T00:00:00.000000000",
          "2025-02-15T00:00:00.000000000",
          "2025-02-16T00:00:00.000000000",
          "2025-02-17T00:00:00.000000000",
          "2025-02-18T00:00:00.000000000",
          "2025-02-19T00:00:00.000000000",
          "2025-02-20T00:00:00.000000000",
          "2025-02-21T00:00:00.000000000",
          "2025-02-22T00:00:00.000000000",
          "2025-02-23T00:00:00.000000000",
          "2025-02-24T00:00:00.000000000",
          "2025-02-25T00:00:00.000000000",
          "2025-02-26T00:00:00.000000000",
          "2025-02-27T00:00:00.000000000",
          "2025-02-28T00:00:00.000000000",
          "2025-03-01T00:00:00.000000000",
          "2025-03-02T00:00:00.000000000",
          "2025-03-03T00:00:00.000000000",
          "2025-03-04T00:00:00.000000000",
          "2025-03-05T00:00:00.000000000",
          "2025-03-06T00:00:00.000000000",
          "2025-03-07T00:00:00.000000000",
          "2025-03-08T00:00:00.000000000",
          "2025-03-09T00:00:00.000000000",
          "2025-03-10T00:00:00.000000000",
          "2025-03-11T00:00:00.000000000",
          "2025-03-12T00:00:00.000000000",
          "2025-03-13T00:00:00.000000000",
          "2025-03-14T00:00:00.000000000",
          "2025-03-15T00:00:00.000000000",
          "2025-03-16T00:00:00.000000000"
         ],
         "xaxis": "x",
         "y": {
          "bdata": "pjJAVVNXeUCn2aU/c1x5QJlQeVNOenlACwyltuF9eUCKVWZmOHd5QD1rkpV6gHlAGRH4f5qFeUBxiMuTdaN5QL5D9/YIp3lAVpfEpl+geUBgt/zVoal5QIdobsDBrnlAxepN1JzMeUASM9WOu2B6QB3FnTcw0HlAeRlr54bJeUAQN6MWydJ5QIXeEgHp13lA9g46eFf5eUAMWAUorvJ5QONrO1fw+3lA7hKrQRABekDtiohV6x56QIND0rh+InpAlIydaNUbekBG/YeXFyV6QL3/q4E3KnpAGtU9lRJIekAhSCSn/ER6QB+5DtY+TnpA0LwywF5TekBwXys2zXR6QO8Eq+UjbnpANpxrFGZ3ekABxGX+hXx6QFC9zRFhmnpASv22c/SdekDnyQwjS5d6QKZfzVGNoHpAPYIvT4jDekBowhixG8d6QCmCR8ozv3pA0ya0thjLekBOEvUzted6QH8uadOM53pAL+2X7KTfekDNdjGFqOd6QMKRBNmJ63pAnX5FViYIe0Bj3UOk4Pl6QBoI9kxE7XpApYVpWMDvekBT3S1lqAd7QLE8LLNi+XpAV2beW8bsekAbXPuDFfB6QPTjUWdC73pAbntvcyoHe0DflHm/5Ph6QF//hGdI7HpAFzP7jpfvekCy+apxxO56QBORyH2sBntAVu6NMNiUe0C+E95xyut6QJ5/U5kZ73pAw3wCfEbuekDbSx+ILgZ7QHwLJ9To93pAS6sxfEzrekBhGKejm+56QB0VVobI7XpAreRykrAFe0Bu44Heavd6QHTujobO6npAiMMGrh3uekAeLLiQSu16QDdk15wyBXtAaGTm6Oz2ekAab/OQUOp6QARFa7if7XpA4B0tm8zsekDFxlyntAR7QPmRupvS6XpAKNhCwyHtekDKsASmTux6QHxaNLI2BHtAHap0/vD1ekDPJJKmVOl6QODmzpj4A3tAfjpFRnoae0AyXikdt0l7QAMeh8lvgXtAPBNZPCiMe0CX1ZUuzKZ7QOgnDNxNvXtAk0zwsorse0DzSFgoHyp8QHRU2IjLNnxAkCnDaGNTfEDpkecD2Wt8QKzLecgJnXxAc8jhPZ7afEAz02GeSud8QM0PcRlYHH1AWOBm3IhNfUAhoPlMHYt9QPBA3avJl31AA60rimG0fUBfqrMj18x9QCN6qeYH/n1Asjs8V5w7fkBc3B+2SEh+QG2xgkm3W35AixgfmANrfkBSUCkQC5N+QLBN+Z8jtX5AXFbxs6a4fkC5K1RHFcx+QJ2S8JVh235Amcv6DWkDf0DqYRgdqhF/QDlLKgaQDn9AOP6mbmEbf0BHWIHfekV/QAnwnu67U39ABdmw16FQf0BQjC1Ac11/QGPR42MiZn9AzRo3ixGFf0BTTuIo4Yt/QHBqI+xLhn9Ad1LPLqKQf0D8yrQs1pZ/QHoUCFTFtX9AMUiz8ZS8f0ApZPS0/7Z/QCCJ4eqpvn9AikEI3DHCf0D8yZz2dN5/QCu4C25A3X9ANROOJP/Uf0B4OHtaqdx/QE/woUsx4H9AYnk2ZnT8f0BhBXYH4eN/QK4/k3bV039AXUUbZbXTf0AG3NwOc89/QH5FDOLr439AjdFLg1jLf0DqCmnyTLt/QOYQ8eAsu39AP3GOj6Wxf0CDopln2cB/QCKIbBd3mH9Az4lliyaDf0C/t2YtOnR/QNXncQVug39AJs5EtQtbf0Aq0T0pu0V/QGewrhxWQH9A/CFZy842f0AMZHGjAkZ/QKl+a1OgHX9AcJJxx08If0CkceK66gJ/QP7ijGlj+X5AdSWlQZcIf0B4G6/xNOB+QAd5umXkyn5AtKEwWX/FfkDSW+AH+Lt+QPTn/d8ry35Av90HkMmifkApOxMEeY1+QExiifcTiH5AW4Ewc9B+fkBlcUUYSI5+QK+RNS+xZn5A31E4cKRRfkB73qUwg0x+QCH9TKw/Q35AQethUbdSfkCYDVJoICt+QFG48k+HFn5A8i3+ttkRfkAVNUPZCQl+QFvsvy+58n1AwpZgFyDefUANFbGgotB9QPbsY+yN4H1AIMst91G6fUBuT8feuKV9QIGfy0ULoX1AgX8JaDuYfUCKMbWzJqh9QLSbab7qgX1A/h8DplFtfUCIbgcNpGh9QIdQRS/UX31A/fFrI+NufUCFKpEnEkZ9QDKepbecMH1AjdwkxxIrfUDsrN2RZiF9QDRNBIZ1MH1AcIYpiqQHfUCG+j0aL/J8QC45vSml7HxAUwl29PjifEDQqpzoB/J8QNXjwew2yXxAM1fWfMGzfEAvZw5Xi6R8QJ0HNUuas3xAOkFaT8mKfECGs27fU3V8QHDy7e7Jb3xAlsOmuR1mfEA5Zc2tLHV8QCSd8rFbTHxAshEHQuY2fECcT4ZRXDF8QI4gPxywJ3xA1MJlEL82fECK+ooU7g18QAdun6R4+HtAPKwetO7ye0D0fNd+Qul7QKEf/nJR+HtAzlcjd4DPe0BbyjcHC7p7QMcJtxaBtHtAFtpv4dSqe0A9fZbV47l7QDS1u9kSkXtAhyjQaZ17e0B+ZU95E3Z7QDc3CERnbHtAdNguOHZ7e0CeQP3SyAB8QNsRVDylUntARoRozC89e0CUw+fbpTd7QFqUoKb5LXtAEDbHmgg9e0CDbuyeNxR7QHLiAC/C/npANSCAPjj5ekC+8DgJjO96QEOTX/2a/npAoPotmO2De0BThp4uwgd7QCvLhAHK1XpAxj6ZkVTAekDAfRihyrp6QJxO0WsesXpAFe73Xy3AekCeV8b6f0V7QADjNpFUyXpAjygdZFyXekAHnDH05oF6QEzbsANdfHpA2appzrByekBIS5DCv4F6QJ60Xl0SB3tART/P8+aKekAYhbXG7lh6QLH4yVZ5Q3pAATdJZu89ekD6BwIxQzR6QOWoKCVSQ3pAnhH3v6TIekCJm2dWeUx6QHziTSmBGnpA8lViuQsFekCNlOHIgf95QGFkmpPV9XlAGAbBh+QEekBCbo8iN4p6QKD4/7gLDnpA",
          "dtype": "f8"
         },
         "yaxis": "y"
        }
       ],
       "layout": {
        "legend": {
         "tracegroupgap": 0
        },
        "template": {
         "data": {
          "bar": [
           {
            "error_x": {
             "color": "#2a3f5f"
            },
            "error_y": {
             "color": "#2a3f5f"
            },
            "marker": {
             "line": {
              "color": "#E5ECF6",
              "width": 0.5
             },
             "pattern": {
              "fillmode": "overlay",
              "size": 10,
              "solidity": 0.2
             }
            },
            "type": "bar"
           }
          ],
          "barpolar": [
           {
            "marker": {
             "line": {
              "color": "#E5ECF6",
              "width": 0.5
             },
             "pattern": {
              "fillmode": "overlay",
              "size": 10,
              "solidity": 0.2
             }
            },
            "type": "barpolar"
           }
          ],
          "carpet": [
           {
            "aaxis": {
             "endlinecolor": "#2a3f5f",
             "gridcolor": "white",
             "linecolor": "white",
             "minorgridcolor": "white",
             "startlinecolor": "#2a3f5f"
            },
            "baxis": {
             "endlinecolor": "#2a3f5f",
             "gridcolor": "white",
             "linecolor": "white",
             "minorgridcolor": "white",
             "startlinecolor": "#2a3f5f"
            },
            "type": "carpet"
           }
          ],
          "choropleth": [
           {
            "colorbar": {
             "outlinewidth": 0,
             "ticks": ""
            },
            "type": "choropleth"
           }
          ],
          "contour": [
           {
            "colorbar": {
             "outlinewidth": 0,
             "ticks": ""
            },
            "colorscale": [
             [
              0,
              "#0d0887"
             ],
             [
              0.1111111111111111,
              "#46039f"
             ],
             [
              0.2222222222222222,
              "#7201a8"
             ],
             [
              0.3333333333333333,
              "#9c179e"
             ],
             [
              0.4444444444444444,
              "#bd3786"
             ],
             [
              0.5555555555555556,
              "#d8576b"
             ],
             [
              0.6666666666666666,
              "#ed7953"
             ],
             [
              0.7777777777777778,
              "#fb9f3a"
             ],
             [
              0.8888888888888888,
              "#fdca26"
             ],
             [
              1,
              "#f0f921"
             ]
            ],
            "type": "contour"
           }
          ],
          "contourcarpet": [
           {
            "colorbar": {
             "outlinewidth": 0,
             "ticks": ""
            },
            "type": "contourcarpet"
           }
          ],
          "heatmap": [
           {
            "colorbar": {
             "outlinewidth": 0,
             "ticks": ""
            },
            "colorscale": [
             [
              0,
              "#0d0887"
             ],
             [
              0.1111111111111111,
              "#46039f"
             ],
             [
              0.2222222222222222,
              "#7201a8"
             ],
             [
              0.3333333333333333,
              "#9c179e"
             ],
             [
              0.4444444444444444,
              "#bd3786"
             ],
             [
              0.5555555555555556,
              "#d8576b"
             ],
             [
              0.6666666666666666,
              "#ed7953"
             ],
             [
              0.7777777777777778,
              "#fb9f3a"
             ],
             [
              0.8888888888888888,
              "#fdca26"
             ],
             [
              1,
              "#f0f921"
             ]
            ],
            "type": "heatmap"
           }
          ],
          "histogram": [
           {
            "marker": {
             "pattern": {
              "fillmode": "overlay",
              "size": 10,
              "solidity": 0.2
             }
            },
            "type": "histogram"
           }
          ],
          "histogram2d": [
           {
            "colorbar": {
             "outlinewidth": 0,
             "ticks": ""
            },
            "colorscale": [
             [
              0,
              "#0d0887"
             ],
             [
              0.1111111111111111,
              "#46039f"
             ],
             [
              0.2222222222222222,
              "#7201a8"
             ],
             [
              0.3333333333333333,
              "#9c179e"
             ],
             [
              0.4444444444444444,
              "#bd3786"
             ],
             [
              0.5555555555555556,
              "#d8576b"
             ],
             [
              0.6666666666666666,
              "#ed7953"
             ],
             [
              0.7777777777777778,
              "#fb9f3a"
             ],
             [
              0.8888888888888888,
              "#fdca26"
             ],
             [
              1,
              "#f0f921"
             ]
            ],
            "type": "histogram2d"
           }
          ],
          "histogram2dcontour": [
           {
            "colorbar": {
             "outlinewidth": 0,
             "ticks": ""
            },
            "colorscale": [
             [
              0,
              "#0d0887"
             ],
             [
              0.1111111111111111,
              "#46039f"
             ],
             [
              0.2222222222222222,
              "#7201a8"
             ],
             [
              0.3333333333333333,
              "#9c179e"
             ],
             [
              0.4444444444444444,
              "#bd3786"
             ],
             [
              0.5555555555555556,
              "#d8576b"
             ],
             [
              0.6666666666666666,
              "#ed7953"
             ],
             [
              0.7777777777777778,
              "#fb9f3a"
             ],
             [
              0.8888888888888888,
              "#fdca26"
             ],
             [
              1,
              "#f0f921"
             ]
            ],
            "type": "histogram2dcontour"
           }
          ],
          "mesh3d": [
           {
            "colorbar": {
             "outlinewidth": 0,
             "ticks": ""
            },
            "type": "mesh3d"
           }
          ],
          "parcoords": [
           {
            "line": {
             "colorbar": {
              "outlinewidth": 0,
              "ticks": ""
             }
            },
            "type": "parcoords"
           }
          ],
          "pie": [
           {
            "automargin": true,
            "type": "pie"
           }
          ],
          "scatter": [
           {
            "fillpattern": {
             "fillmode": "overlay",
             "size": 10,
             "solidity": 0.2
            },
            "type": "scatter"
           }
          ],
          "scatter3d": [
           {
            "line": {
             "colorbar": {
              "outlinewidth": 0,
              "ticks": ""
             }
            },
            "marker": {
             "colorbar": {
              "outlinewidth": 0,
              "ticks": ""
             }
            },
            "type": "scatter3d"
           }
          ],
          "scattercarpet": [
           {
            "marker": {
             "colorbar": {
              "outlinewidth": 0,
              "ticks": ""
             }
            },
            "type": "scattercarpet"
           }
          ],
          "scattergeo": [
           {
            "marker": {
             "colorbar": {
              "outlinewidth": 0,
              "ticks": ""
             }
            },
            "type": "scattergeo"
           }
          ],
          "scattergl": [
           {
            "marker": {
             "colorbar": {
              "outlinewidth": 0,
              "ticks": ""
             }
            },
            "type": "scattergl"
           }
          ],
          "scattermap": [
           {
            "marker": {
             "colorbar": {
              "outlinewidth": 0,
              "ticks": ""
             }
            },
            "type": "scattermap"
           }
          ],
          "scattermapbox": [
           {
            "marker": {
             "colorbar": {
              "outlinewidth": 0,
              "ticks": ""
             }
            },
            "type": "scattermapbox"
           }
          ],
          "scatterpolar": [
           {
            "marker": {
             "colorbar": {
              "outlinewidth": 0,
              "ticks": ""
             }
            },
            "type": "scatterpolar"
           }
          ],
          "scatterpolargl": [
           {
            "marker": {
             "colorbar": {
              "outlinewidth": 0,
              "ticks": ""
             }
            },
            "type": "scatterpolargl"
           }
          ],
          "scatterternary": [
           {
            "marker": {
             "colorbar": {
              "outlinewidth": 0,
              "ticks": ""
             }
            },
            "type": "scatterternary"
           }
          ],
          "surface": [
           {
            "colorbar": {
             "outlinewidth": 0,
             "ticks": ""
            },
            "colorscale": [
             [
              0,
              "#0d0887"
             ],
             [
              0.1111111111111111,
              "#46039f"
             ],
             [
              0.2222222222222222,
              "#7201a8"
             ],
             [
              0.3333333333333333,
              "#9c179e"
             ],
             [
              0.4444444444444444,
              "#bd3786"
             ],
             [
              0.5555555555555556,
              "#d8576b"
             ],
             [
              0.6666666666666666,
              "#ed7953"
             ],
             [
              0.7777777777777778,
              "#fb9f3a"
             ],
             [
              0.8888888888888888,
              "#fdca26"
             ],
             [
              1,
              "#f0f921"
             ]
            ],
            "type": "surface"
           }
          ],
          "table": [
           {
            "cells": {
             "fill": {
              "color": "#EBF0F8"
             },
             "line": {
              "color": "white"
             }
            },
            "header": {
             "fill": {
              "color": "#C8D4E3"
             },
             "line": {
              "color": "white"
             }
            },
            "type": "table"
           }
          ]
         },
         "layout": {
          "annotationdefaults": {
           "arrowcolor": "#2a3f5f",
           "arrowhead": 0,
           "arrowwidth": 1
          },
          "autotypenumbers": "strict",
          "coloraxis": {
           "colorbar": {
            "outlinewidth": 0,
            "ticks": ""
           }
          },
          "colorscale": {
           "diverging": [
            [
             0,
             "#8e0152"
            ],
            [
             0.1,
             "#c51b7d"
            ],
            [
             0.2,
             "#de77ae"
            ],
            [
             0.3,
             "#f1b6da"
            ],
            [
             0.4,
             "#fde0ef"
            ],
            [
             0.5,
             "#f7f7f7"
            ],
            [
             0.6,
             "#e6f5d0"
            ],
            [
             0.7,
             "#b8e186"
            ],
            [
             0.8,
             "#7fbc41"
            ],
            [
             0.9,
             "#4d9221"
            ],
            [
             1,
             "#276419"
            ]
           ],
           "sequential": [
            [
             0,
             "#0d0887"
            ],
            [
             0.1111111111111111,
             "#46039f"
            ],
            [
             0.2222222222222222,
             "#7201a8"
            ],
            [
             0.3333333333333333,
             "#9c179e"
            ],
            [
             0.4444444444444444,
             "#bd3786"
            ],
            [
             0.5555555555555556,
             "#d8576b"
            ],
            [
             0.6666666666666666,
             "#ed7953"
            ],
            [
             0.7777777777777778,
             "#fb9f3a"
            ],
            [
             0.8888888888888888,
             "#fdca26"
            ],
            [
             1,
             "#f0f921"
            ]
           ],
           "sequentialminus": [
            [
             0,
             "#0d0887"
            ],
            [
             0.1111111111111111,
             "#46039f"
            ],
            [
             0.2222222222222222,
             "#7201a8"
            ],
            [
             0.3333333333333333,
             "#9c179e"
            ],
            [
             0.4444444444444444,
             "#bd3786"
            ],
            [
             0.5555555555555556,
             "#d8576b"
            ],
            [
             0.6666666666666666,
             "#ed7953"
            ],
            [
             0.7777777777777778,
             "#fb9f3a"
            ],
            [
             0.8888888888888888,
             "#fdca26"
            ],
            [
             1,
             "#f0f921"
            ]
           ]
          },
          "colorway": [
           "#636efa",
           "#EF553B",
           "#00cc96",
           "#ab63fa",
           "#FFA15A",
           "#19d3f3",
           "#FF6692",
           "#B6E880",
           "#FF97FF",
           "#FECB52"
          ],
          "font": {
           "color": "#2a3f5f"
          },
          "geo": {
           "bgcolor": "white",
           "lakecolor": "white",
           "landcolor": "#E5ECF6",
           "showlakes": true,
           "showland": true,
           "subunitcolor": "white"
          },
          "hoverlabel": {
           "align": "left"
          },
          "hovermode": "closest",
          "mapbox": {
           "style": "light"
          },
          "paper_bgcolor": "white",
          "plot_bgcolor": "#E5ECF6",
          "polar": {
           "angularaxis": {
            "gridcolor": "white",
            "linecolor": "white",
            "ticks": ""
           },
           "bgcolor": "#E5ECF6",
           "radialaxis": {
            "gridcolor": "white",
            "linecolor": "white",
            "ticks": ""
           }
          },
          "scene": {
           "xaxis": {
            "backgroundcolor": "#E5ECF6",
            "gridcolor": "white",
            "gridwidth": 2,
            "linecolor": "white",
            "showbackground": true,
            "ticks": "",
            "zerolinecolor": "white"
           },
           "yaxis": {
            "backgroundcolor": "#E5ECF6",
            "gridcolor": "white",
            "gridwidth": 2,
            "linecolor": "white",
            "showbackground": true,
            "ticks": "",
            "zerolinecolor": "white"
           },
           "zaxis": {
            "backgroundcolor": "#E5ECF6",
            "gridcolor": "white",
            "gridwidth": 2,
            "linecolor": "white",
            "showbackground": true,
            "ticks": "",
            "zerolinecolor": "white"
           }
          },
          "shapedefaults": {
           "line": {
            "color": "#2a3f5f"
           }
          },
          "ternary": {
           "aaxis": {
            "gridcolor": "white",
            "linecolor": "white",
            "ticks": ""
           },
           "baxis": {
            "gridcolor": "white",
            "linecolor": "white",
            "ticks": ""
           },
           "bgcolor": "#E5ECF6",
           "caxis": {
            "gridcolor": "white",
            "linecolor": "white",
            "ticks": ""
           }
          },
          "title": {
           "x": 0.05
          },
          "xaxis": {
           "automargin": true,
           "gridcolor": "white",
           "linecolor": "white",
           "ticks": "",
           "title": {
            "standoff": 15
           },
           "zerolinecolor": "white",
           "zerolinewidth": 2
          },
          "yaxis": {
           "automargin": true,
           "gridcolor": "white",
           "linecolor": "white",
           "ticks": "",
           "title": {
            "standoff": 15
           },
           "zerolinecolor": "white",
           "zerolinewidth": 2
          }
         }
        },
        "title": {
         "text": "ITC Forecasting"
        },
        "xaxis": {
         "anchor": "y",
         "domain": [
          0,
          1
         ],
         "title": {
          "text": "ds"
         }
        },
        "yaxis": {
         "anchor": "x",
         "domain": [
          0,
          1
         ],
         "title": {
          "text": "yhat"
         }
        }
       }
      },
      "text/html": [
       "<div>            <script src=\"https://cdnjs.cloudflare.com/ajax/libs/mathjax/2.7.5/MathJax.js?config=TeX-AMS-MML_SVG\"></script><script type=\"text/javascript\">if (window.MathJax && window.MathJax.Hub && window.MathJax.Hub.Config) {window.MathJax.Hub.Config({SVG: {font: \"STIX-Web\"}});}</script>                <script type=\"text/javascript\">window.PlotlyConfig = {MathJaxConfig: 'local'};</script>\n",
       "        <script charset=\"utf-8\" src=\"https://cdn.plot.ly/plotly-3.0.0.min.js\"></script>                <div id=\"cc948313-11fd-4134-841b-1b076084436b\" class=\"plotly-graph-div\" style=\"height:525px; width:100%;\"></div>            <script type=\"text/javascript\">                window.PLOTLYENV=window.PLOTLYENV || {};                                if (document.getElementById(\"cc948313-11fd-4134-841b-1b076084436b\")) {                    Plotly.newPlot(                        \"cc948313-11fd-4134-841b-1b076084436b\",                        [{\"hovertemplate\":\"ds=%{x}\\u003cbr\\u003eyhat=%{y}\\u003cextra\\u003e\\u003c\\u002fextra\\u003e\",\"legendgroup\":\"\",\"line\":{\"color\":\"#636efa\",\"dash\":\"solid\"},\"marker\":{\"symbol\":\"circle\"},\"mode\":\"lines\",\"name\":\"\",\"orientation\":\"v\",\"showlegend\":false,\"x\":[\"2024-02-14T00:00:00.000000000\",\"2024-02-15T00:00:00.000000000\",\"2024-02-16T00:00:00.000000000\",\"2024-02-19T00:00:00.000000000\",\"2024-02-20T00:00:00.000000000\",\"2024-02-21T00:00:00.000000000\",\"2024-02-22T00:00:00.000000000\",\"2024-02-23T00:00:00.000000000\",\"2024-02-26T00:00:00.000000000\",\"2024-02-27T00:00:00.000000000\",\"2024-02-28T00:00:00.000000000\",\"2024-02-29T00:00:00.000000000\",\"2024-03-01T00:00:00.000000000\",\"2024-03-02T00:00:00.000000000\",\"2024-03-04T00:00:00.000000000\",\"2024-03-05T00:00:00.000000000\",\"2024-03-06T00:00:00.000000000\",\"2024-03-07T00:00:00.000000000\",\"2024-03-11T00:00:00.000000000\",\"2024-03-12T00:00:00.000000000\",\"2024-03-13T00:00:00.000000000\",\"2024-03-14T00:00:00.000000000\",\"2024-03-15T00:00:00.000000000\",\"2024-03-18T00:00:00.000000000\",\"2024-03-19T00:00:00.000000000\",\"2024-03-20T00:00:00.000000000\",\"2024-03-21T00:00:00.000000000\",\"2024-03-22T00:00:00.000000000\",\"2024-03-26T00:00:00.000000000\",\"2024-03-27T00:00:00.000000000\",\"2024-03-28T00:00:00.000000000\",\"2024-04-01T00:00:00.000000000\",\"2024-04-02T00:00:00.000000000\",\"2024-04-03T00:00:00.000000000\",\"2024-04-04T00:00:00.000000000\",\"2024-04-05T00:00:00.000000000\",\"2024-04-08T00:00:00.000000000\",\"2024-04-09T00:00:00.000000000\",\"2024-04-10T00:00:00.000000000\",\"2024-04-12T00:00:00.000000000\",\"2024-04-15T00:00:00.000000000\",\"2024-04-16T00:00:00.000000000\",\"2024-04-18T00:00:00.000000000\",\"2024-04-19T00:00:00.000000000\",\"2024-04-22T00:00:00.000000000\",\"2024-04-23T00:00:00.000000000\",\"2024-04-24T00:00:00.000000000\",\"2024-04-25T00:00:00.000000000\",\"2024-04-26T00:00:00.000000000\",\"2024-04-29T00:00:00.000000000\",\"2024-04-30T00:00:00.000000000\",\"2024-05-02T00:00:00.000000000\",\"2024-05-03T00:00:00.000000000\",\"2024-05-06T00:00:00.000000000\",\"2024-05-07T00:00:00.000000000\",\"2024-05-08T00:00:00.000000000\",\"2024-05-09T00:00:00.000000000\",\"2024-05-10T00:00:00.000000000\",\"2024-05-13T00:00:00.000000000\",\"2024-05-14T00:00:00.000000000\",\"2024-05-15T00:00:00.000000000\",\"2024-05-16T00:00:00.000000000\",\"2024-05-17T00:00:00.000000000\",\"2024-05-18T00:00:00.000000000\",\"2024-05-21T00:00:00.000000000\",\"2024-05-22T00:00:00.000000000\",\"2024-05-23T00:00:00.000000000\",\"2024-05-24T00:00:00.000000000\",\"2024-05-27T00:00:00.000000000\",\"2024-05-28T00:00:00.000000000\",\"2024-05-29T00:00:00.000000000\",\"2024-05-30T00:00:00.000000000\",\"2024-05-31T00:00:00.000000000\",\"2024-06-03T00:00:00.000000000\",\"2024-06-04T00:00:00.000000000\",\"2024-06-05T00:00:00.000000000\",\"2024-06-06T00:00:00.000000000\",\"2024-06-07T00:00:00.000000000\",\"2024-06-10T00:00:00.000000000\",\"2024-06-11T00:00:00.000000000\",\"2024-06-12T00:00:00.000000000\",\"2024-06-13T00:00:00.000000000\",\"2024-06-14T00:00:00.000000000\",\"2024-06-18T00:00:00.000000000\",\"2024-06-19T00:00:00.000000000\",\"2024-06-20T00:00:00.000000000\",\"2024-06-21T00:00:00.000000000\",\"2024-06-24T00:00:00.000000000\",\"2024-06-25T00:00:00.000000000\",\"2024-06-26T00:00:00.000000000\",\"2024-06-27T00:00:00.000000000\",\"2024-06-28T00:00:00.000000000\",\"2024-07-01T00:00:00.000000000\",\"2024-07-02T00:00:00.000000000\",\"2024-07-03T00:00:00.000000000\",\"2024-07-04T00:00:00.000000000\",\"2024-07-05T00:00:00.000000000\",\"2024-07-08T00:00:00.000000000\",\"2024-07-09T00:00:00.000000000\",\"2024-07-10T00:00:00.000000000\",\"2024-07-11T00:00:00.000000000\",\"2024-07-12T00:00:00.000000000\",\"2024-07-15T00:00:00.000000000\",\"2024-07-16T00:00:00.000000000\",\"2024-07-18T00:00:00.000000000\",\"2024-07-19T00:00:00.000000000\",\"2024-07-22T00:00:00.000000000\",\"2024-07-23T00:00:00.000000000\",\"2024-07-24T00:00:00.000000000\",\"2024-07-25T00:00:00.000000000\",\"2024-07-26T00:00:00.000000000\",\"2024-07-29T00:00:00.000000000\",\"2024-07-30T00:00:00.000000000\",\"2024-07-31T00:00:00.000000000\",\"2024-08-01T00:00:00.000000000\",\"2024-08-02T00:00:00.000000000\",\"2024-08-05T00:00:00.000000000\",\"2024-08-06T00:00:00.000000000\",\"2024-08-07T00:00:00.000000000\",\"2024-08-08T00:00:00.000000000\",\"2024-08-09T00:00:00.000000000\",\"2024-08-12T00:00:00.000000000\",\"2024-08-13T00:00:00.000000000\",\"2024-08-14T00:00:00.000000000\",\"2024-08-16T00:00:00.000000000\",\"2024-08-19T00:00:00.000000000\",\"2024-08-20T00:00:00.000000000\",\"2024-08-21T00:00:00.000000000\",\"2024-08-22T00:00:00.000000000\",\"2024-08-23T00:00:00.000000000\",\"2024-08-26T00:00:00.000000000\",\"2024-08-27T00:00:00.000000000\",\"2024-08-28T00:00:00.000000000\",\"2024-08-29T00:00:00.000000000\",\"2024-08-30T00:00:00.000000000\",\"2024-09-02T00:00:00.000000000\",\"2024-09-03T00:00:00.000000000\",\"2024-09-04T00:00:00.000000000\",\"2024-09-05T00:00:00.000000000\",\"2024-09-06T00:00:00.000000000\",\"2024-09-09T00:00:00.000000000\",\"2024-09-10T00:00:00.000000000\",\"2024-09-11T00:00:00.000000000\",\"2024-09-12T00:00:00.000000000\",\"2024-09-13T00:00:00.000000000\",\"2024-09-16T00:00:00.000000000\",\"2024-09-17T00:00:00.000000000\",\"2024-09-18T00:00:00.000000000\",\"2024-09-19T00:00:00.000000000\",\"2024-09-20T00:00:00.000000000\",\"2024-09-23T00:00:00.000000000\",\"2024-09-24T00:00:00.000000000\",\"2024-09-25T00:00:00.000000000\",\"2024-09-26T00:00:00.000000000\",\"2024-09-27T00:00:00.000000000\",\"2024-09-30T00:00:00.000000000\",\"2024-10-01T00:00:00.000000000\",\"2024-10-03T00:00:00.000000000\",\"2024-10-04T00:00:00.000000000\",\"2024-10-07T00:00:00.000000000\",\"2024-10-08T00:00:00.000000000\",\"2024-10-09T00:00:00.000000000\",\"2024-10-10T00:00:00.000000000\",\"2024-10-11T00:00:00.000000000\",\"2024-10-14T00:00:00.000000000\",\"2024-10-15T00:00:00.000000000\",\"2024-10-16T00:00:00.000000000\",\"2024-10-17T00:00:00.000000000\",\"2024-10-18T00:00:00.000000000\",\"2024-10-21T00:00:00.000000000\",\"2024-10-22T00:00:00.000000000\",\"2024-10-23T00:00:00.000000000\",\"2024-10-24T00:00:00.000000000\",\"2024-10-25T00:00:00.000000000\",\"2024-10-28T00:00:00.000000000\",\"2024-10-29T00:00:00.000000000\",\"2024-10-30T00:00:00.000000000\",\"2024-10-31T00:00:00.000000000\",\"2024-11-01T00:00:00.000000000\",\"2024-11-04T00:00:00.000000000\",\"2024-11-05T00:00:00.000000000\",\"2024-11-06T00:00:00.000000000\",\"2024-11-07T00:00:00.000000000\",\"2024-11-08T00:00:00.000000000\",\"2024-11-11T00:00:00.000000000\",\"2024-11-12T00:00:00.000000000\",\"2024-11-13T00:00:00.000000000\",\"2024-11-14T00:00:00.000000000\",\"2024-11-18T00:00:00.000000000\",\"2024-11-19T00:00:00.000000000\",\"2024-11-21T00:00:00.000000000\",\"2024-11-22T00:00:00.000000000\",\"2024-11-25T00:00:00.000000000\",\"2024-11-26T00:00:00.000000000\",\"2024-11-27T00:00:00.000000000\",\"2024-11-28T00:00:00.000000000\",\"2024-11-29T00:00:00.000000000\",\"2024-12-02T00:00:00.000000000\",\"2024-12-03T00:00:00.000000000\",\"2024-12-04T00:00:00.000000000\",\"2024-12-05T00:00:00.000000000\",\"2024-12-06T00:00:00.000000000\",\"2024-12-09T00:00:00.000000000\",\"2024-12-10T00:00:00.000000000\",\"2024-12-11T00:00:00.000000000\",\"2024-12-12T00:00:00.000000000\",\"2024-12-13T00:00:00.000000000\",\"2024-12-16T00:00:00.000000000\",\"2024-12-17T00:00:00.000000000\",\"2024-12-18T00:00:00.000000000\",\"2024-12-19T00:00:00.000000000\",\"2024-12-20T00:00:00.000000000\",\"2024-12-23T00:00:00.000000000\",\"2024-12-24T00:00:00.000000000\",\"2024-12-26T00:00:00.000000000\",\"2024-12-27T00:00:00.000000000\",\"2024-12-30T00:00:00.000000000\",\"2024-12-31T00:00:00.000000000\",\"2025-01-01T00:00:00.000000000\",\"2025-01-02T00:00:00.000000000\",\"2025-01-03T00:00:00.000000000\",\"2025-01-06T00:00:00.000000000\",\"2025-01-07T00:00:00.000000000\",\"2025-01-08T00:00:00.000000000\",\"2025-01-09T00:00:00.000000000\",\"2025-01-10T00:00:00.000000000\",\"2025-01-13T00:00:00.000000000\",\"2025-01-14T00:00:00.000000000\",\"2025-01-15T00:00:00.000000000\",\"2025-01-16T00:00:00.000000000\",\"2025-01-17T00:00:00.000000000\",\"2025-01-20T00:00:00.000000000\",\"2025-01-21T00:00:00.000000000\",\"2025-01-22T00:00:00.000000000\",\"2025-01-23T00:00:00.000000000\",\"2025-01-24T00:00:00.000000000\",\"2025-01-27T00:00:00.000000000\",\"2025-01-28T00:00:00.000000000\",\"2025-01-29T00:00:00.000000000\",\"2025-01-30T00:00:00.000000000\",\"2025-01-31T00:00:00.000000000\",\"2025-02-01T00:00:00.000000000\",\"2025-02-03T00:00:00.000000000\",\"2025-02-04T00:00:00.000000000\",\"2025-02-05T00:00:00.000000000\",\"2025-02-06T00:00:00.000000000\",\"2025-02-07T00:00:00.000000000\",\"2025-02-10T00:00:00.000000000\",\"2025-02-11T00:00:00.000000000\",\"2025-02-12T00:00:00.000000000\",\"2025-02-13T00:00:00.000000000\",\"2025-02-14T00:00:00.000000000\",\"2025-02-15T00:00:00.000000000\",\"2025-02-16T00:00:00.000000000\",\"2025-02-17T00:00:00.000000000\",\"2025-02-18T00:00:00.000000000\",\"2025-02-19T00:00:00.000000000\",\"2025-02-20T00:00:00.000000000\",\"2025-02-21T00:00:00.000000000\",\"2025-02-22T00:00:00.000000000\",\"2025-02-23T00:00:00.000000000\",\"2025-02-24T00:00:00.000000000\",\"2025-02-25T00:00:00.000000000\",\"2025-02-26T00:00:00.000000000\",\"2025-02-27T00:00:00.000000000\",\"2025-02-28T00:00:00.000000000\",\"2025-03-01T00:00:00.000000000\",\"2025-03-02T00:00:00.000000000\",\"2025-03-03T00:00:00.000000000\",\"2025-03-04T00:00:00.000000000\",\"2025-03-05T00:00:00.000000000\",\"2025-03-06T00:00:00.000000000\",\"2025-03-07T00:00:00.000000000\",\"2025-03-08T00:00:00.000000000\",\"2025-03-09T00:00:00.000000000\",\"2025-03-10T00:00:00.000000000\",\"2025-03-11T00:00:00.000000000\",\"2025-03-12T00:00:00.000000000\",\"2025-03-13T00:00:00.000000000\",\"2025-03-14T00:00:00.000000000\",\"2025-03-15T00:00:00.000000000\",\"2025-03-16T00:00:00.000000000\"],\"xaxis\":\"x\",\"y\":{\"dtype\":\"f8\",\"bdata\":\"pjJAVVNXeUCn2aU\\u002fc1x5QJlQeVNOenlACwyltuF9eUCKVWZmOHd5QD1rkpV6gHlAGRH4f5qFeUBxiMuTdaN5QL5D9\\u002fYIp3lAVpfEpl+geUBgt\\u002fzVoal5QIdobsDBrnlAxepN1JzMeUASM9WOu2B6QB3FnTcw0HlAeRlr54bJeUAQN6MWydJ5QIXeEgHp13lA9g46eFf5eUAMWAUorvJ5QONrO1fw+3lA7hKrQRABekDtiohV6x56QIND0rh+InpAlIydaNUbekBG\\u002fYeXFyV6QL3\\u002fq4E3KnpAGtU9lRJIekAhSCSn\\u002fER6QB+5DtY+TnpA0LwywF5TekBwXys2zXR6QO8Eq+UjbnpANpxrFGZ3ekABxGX+hXx6QFC9zRFhmnpASv22c\\u002fSdekDnyQwjS5d6QKZfzVGNoHpAPYIvT4jDekBowhixG8d6QCmCR8ozv3pA0ya0thjLekBOEvUzted6QH8uadOM53pAL+2X7KTfekDNdjGFqOd6QMKRBNmJ63pAnX5FViYIe0Bj3UOk4Pl6QBoI9kxE7XpApYVpWMDvekBT3S1lqAd7QLE8LLNi+XpAV2beW8bsekAbXPuDFfB6QPTjUWdC73pAbntvcyoHe0DflHm\\u002f5Ph6QF\\u002f\\u002fhGdI7HpAFzP7jpfvekCy+apxxO56QBORyH2sBntAVu6NMNiUe0C+E95xyut6QJ5\\u002fU5kZ73pAw3wCfEbuekDbSx+ILgZ7QHwLJ9To93pAS6sxfEzrekBhGKejm+56QB0VVobI7XpAreRykrAFe0Bu44Heavd6QHTujobO6npAiMMGrh3uekAeLLiQSu16QDdk15wyBXtAaGTm6Oz2ekAab\\u002fOQUOp6QARFa7if7XpA4B0tm8zsekDFxlyntAR7QPmRupvS6XpAKNhCwyHtekDKsASmTux6QHxaNLI2BHtAHap0\\u002fvD1ekDPJJKmVOl6QODmzpj4A3tAfjpFRnoae0AyXikdt0l7QAMeh8lvgXtAPBNZPCiMe0CX1ZUuzKZ7QOgnDNxNvXtAk0zwsorse0DzSFgoHyp8QHRU2IjLNnxAkCnDaGNTfEDpkecD2Wt8QKzLecgJnXxAc8jhPZ7afEAz02GeSud8QM0PcRlYHH1AWOBm3IhNfUAhoPlMHYt9QPBA3avJl31AA60rimG0fUBfqrMj18x9QCN6qeYH\\u002fn1Asjs8V5w7fkBc3B+2SEh+QG2xgkm3W35AixgfmANrfkBSUCkQC5N+QLBN+Z8jtX5AXFbxs6a4fkC5K1RHFcx+QJ2S8JVh235Amcv6DWkDf0DqYRgdqhF\\u002fQDlLKgaQDn9AOP6mbmEbf0BHWIHfekV\\u002fQAnwnu67U39ABdmw16FQf0BQjC1Ac11\\u002fQGPR42MiZn9AzRo3ixGFf0BTTuIo4Yt\\u002fQHBqI+xLhn9Ad1LPLqKQf0D8yrQs1pZ\\u002fQHoUCFTFtX9AMUiz8ZS8f0ApZPS0\\u002f7Z\\u002fQCCJ4eqpvn9AikEI3DHCf0D8yZz2dN5\\u002fQCu4C25A3X9ANROOJP\\u002fUf0B4OHtaqdx\\u002fQE\\u002fwoUsx4H9AYnk2ZnT8f0BhBXYH4eN\\u002fQK4\\u002fk3bV039AXUUbZbXTf0AG3NwOc89\\u002fQH5FDOLr439AjdFLg1jLf0DqCmnyTLt\\u002fQOYQ8eAsu39AP3GOj6Wxf0CDopln2cB\\u002fQCKIbBd3mH9Az4lliyaDf0C\\u002ft2YtOnR\\u002fQNXncQVug39AJs5EtQtbf0Aq0T0pu0V\\u002fQGewrhxWQH9A\\u002fCFZy842f0AMZHGjAkZ\\u002fQKl+a1OgHX9AcJJxx08If0CkceK66gJ\\u002fQP7ijGlj+X5AdSWlQZcIf0B4G6\\u002fxNOB+QAd5umXkyn5AtKEwWX\\u002fFfkDSW+AH+Lt+QPTn\\u002fd8ry35Av90HkMmifkApOxMEeY1+QExiifcTiH5AW4Ewc9B+fkBlcUUYSI5+QK+RNS+xZn5A31E4cKRRfkB73qUwg0x+QCH9TKw\\u002fQ35AQethUbdSfkCYDVJoICt+QFG48k+HFn5A8i3+ttkRfkAVNUPZCQl+QFvsvy+58n1AwpZgFyDefUANFbGgotB9QPbsY+yN4H1AIMst91G6fUBuT8feuKV9QIGfy0ULoX1AgX8JaDuYfUCKMbWzJqh9QLSbab7qgX1A\\u002fh8DplFtfUCIbgcNpGh9QIdQRS\\u002fUX31A\\u002ffFrI+NufUCFKpEnEkZ9QDKepbecMH1AjdwkxxIrfUDsrN2RZiF9QDRNBIZ1MH1AcIYpiqQHfUCG+j0aL\\u002fJ8QC45vSml7HxAUwl29PjifEDQqpzoB\\u002fJ8QNXjwew2yXxAM1fWfMGzfEAvZw5Xi6R8QJ0HNUuas3xAOkFaT8mKfECGs27fU3V8QHDy7e7Jb3xAlsOmuR1mfEA5Zc2tLHV8QCSd8rFbTHxAshEHQuY2fECcT4ZRXDF8QI4gPxywJ3xA1MJlEL82fECK+ooU7g18QAdun6R4+HtAPKwetO7ye0D0fNd+Qul7QKEf\\u002fnJR+HtAzlcjd4DPe0BbyjcHC7p7QMcJtxaBtHtAFtpv4dSqe0A9fZbV47l7QDS1u9kSkXtAhyjQaZ17e0B+ZU95E3Z7QDc3CERnbHtAdNguOHZ7e0CeQP3SyAB8QNsRVDylUntARoRozC89e0CUw+fbpTd7QFqUoKb5LXtAEDbHmgg9e0CDbuyeNxR7QHLiAC\\u002fC\\u002fnpANSCAPjj5ekC+8DgJjO96QEOTX\\u002f2a\\u002fnpAoPotmO2De0BThp4uwgd7QCvLhAHK1XpAxj6ZkVTAekDAfRihyrp6QJxO0WsesXpAFe73Xy3AekCeV8b6f0V7QADjNpFUyXpAjygdZFyXekAHnDH05oF6QEzbsANdfHpA2appzrByekBIS5DCv4F6QJ60Xl0SB3tART\\u002fP8+aKekAYhbXG7lh6QLH4yVZ5Q3pAATdJZu89ekD6BwIxQzR6QOWoKCVSQ3pAnhH3v6TIekCJm2dWeUx6QHziTSmBGnpA8lViuQsFekCNlOHIgf95QGFkmpPV9XlAGAbBh+QEekBCbo8iN4p6QKD4\\u002f7gLDnpA\"},\"yaxis\":\"y\",\"type\":\"scatter\"}],                        {\"template\":{\"data\":{\"histogram2dcontour\":[{\"type\":\"histogram2dcontour\",\"colorbar\":{\"outlinewidth\":0,\"ticks\":\"\"},\"colorscale\":[[0.0,\"#0d0887\"],[0.1111111111111111,\"#46039f\"],[0.2222222222222222,\"#7201a8\"],[0.3333333333333333,\"#9c179e\"],[0.4444444444444444,\"#bd3786\"],[0.5555555555555556,\"#d8576b\"],[0.6666666666666666,\"#ed7953\"],[0.7777777777777778,\"#fb9f3a\"],[0.8888888888888888,\"#fdca26\"],[1.0,\"#f0f921\"]]}],\"choropleth\":[{\"type\":\"choropleth\",\"colorbar\":{\"outlinewidth\":0,\"ticks\":\"\"}}],\"histogram2d\":[{\"type\":\"histogram2d\",\"colorbar\":{\"outlinewidth\":0,\"ticks\":\"\"},\"colorscale\":[[0.0,\"#0d0887\"],[0.1111111111111111,\"#46039f\"],[0.2222222222222222,\"#7201a8\"],[0.3333333333333333,\"#9c179e\"],[0.4444444444444444,\"#bd3786\"],[0.5555555555555556,\"#d8576b\"],[0.6666666666666666,\"#ed7953\"],[0.7777777777777778,\"#fb9f3a\"],[0.8888888888888888,\"#fdca26\"],[1.0,\"#f0f921\"]]}],\"heatmap\":[{\"type\":\"heatmap\",\"colorbar\":{\"outlinewidth\":0,\"ticks\":\"\"},\"colorscale\":[[0.0,\"#0d0887\"],[0.1111111111111111,\"#46039f\"],[0.2222222222222222,\"#7201a8\"],[0.3333333333333333,\"#9c179e\"],[0.4444444444444444,\"#bd3786\"],[0.5555555555555556,\"#d8576b\"],[0.6666666666666666,\"#ed7953\"],[0.7777777777777778,\"#fb9f3a\"],[0.8888888888888888,\"#fdca26\"],[1.0,\"#f0f921\"]]}],\"contourcarpet\":[{\"type\":\"contourcarpet\",\"colorbar\":{\"outlinewidth\":0,\"ticks\":\"\"}}],\"contour\":[{\"type\":\"contour\",\"colorbar\":{\"outlinewidth\":0,\"ticks\":\"\"},\"colorscale\":[[0.0,\"#0d0887\"],[0.1111111111111111,\"#46039f\"],[0.2222222222222222,\"#7201a8\"],[0.3333333333333333,\"#9c179e\"],[0.4444444444444444,\"#bd3786\"],[0.5555555555555556,\"#d8576b\"],[0.6666666666666666,\"#ed7953\"],[0.7777777777777778,\"#fb9f3a\"],[0.8888888888888888,\"#fdca26\"],[1.0,\"#f0f921\"]]}],\"surface\":[{\"type\":\"surface\",\"colorbar\":{\"outlinewidth\":0,\"ticks\":\"\"},\"colorscale\":[[0.0,\"#0d0887\"],[0.1111111111111111,\"#46039f\"],[0.2222222222222222,\"#7201a8\"],[0.3333333333333333,\"#9c179e\"],[0.4444444444444444,\"#bd3786\"],[0.5555555555555556,\"#d8576b\"],[0.6666666666666666,\"#ed7953\"],[0.7777777777777778,\"#fb9f3a\"],[0.8888888888888888,\"#fdca26\"],[1.0,\"#f0f921\"]]}],\"mesh3d\":[{\"type\":\"mesh3d\",\"colorbar\":{\"outlinewidth\":0,\"ticks\":\"\"}}],\"scatter\":[{\"fillpattern\":{\"fillmode\":\"overlay\",\"size\":10,\"solidity\":0.2},\"type\":\"scatter\"}],\"parcoords\":[{\"type\":\"parcoords\",\"line\":{\"colorbar\":{\"outlinewidth\":0,\"ticks\":\"\"}}}],\"scatterpolargl\":[{\"type\":\"scatterpolargl\",\"marker\":{\"colorbar\":{\"outlinewidth\":0,\"ticks\":\"\"}}}],\"bar\":[{\"error_x\":{\"color\":\"#2a3f5f\"},\"error_y\":{\"color\":\"#2a3f5f\"},\"marker\":{\"line\":{\"color\":\"#E5ECF6\",\"width\":0.5},\"pattern\":{\"fillmode\":\"overlay\",\"size\":10,\"solidity\":0.2}},\"type\":\"bar\"}],\"scattergeo\":[{\"type\":\"scattergeo\",\"marker\":{\"colorbar\":{\"outlinewidth\":0,\"ticks\":\"\"}}}],\"scatterpolar\":[{\"type\":\"scatterpolar\",\"marker\":{\"colorbar\":{\"outlinewidth\":0,\"ticks\":\"\"}}}],\"histogram\":[{\"marker\":{\"pattern\":{\"fillmode\":\"overlay\",\"size\":10,\"solidity\":0.2}},\"type\":\"histogram\"}],\"scattergl\":[{\"type\":\"scattergl\",\"marker\":{\"colorbar\":{\"outlinewidth\":0,\"ticks\":\"\"}}}],\"scatter3d\":[{\"type\":\"scatter3d\",\"line\":{\"colorbar\":{\"outlinewidth\":0,\"ticks\":\"\"}},\"marker\":{\"colorbar\":{\"outlinewidth\":0,\"ticks\":\"\"}}}],\"scattermap\":[{\"type\":\"scattermap\",\"marker\":{\"colorbar\":{\"outlinewidth\":0,\"ticks\":\"\"}}}],\"scattermapbox\":[{\"type\":\"scattermapbox\",\"marker\":{\"colorbar\":{\"outlinewidth\":0,\"ticks\":\"\"}}}],\"scatterternary\":[{\"type\":\"scatterternary\",\"marker\":{\"colorbar\":{\"outlinewidth\":0,\"ticks\":\"\"}}}],\"scattercarpet\":[{\"type\":\"scattercarpet\",\"marker\":{\"colorbar\":{\"outlinewidth\":0,\"ticks\":\"\"}}}],\"carpet\":[{\"aaxis\":{\"endlinecolor\":\"#2a3f5f\",\"gridcolor\":\"white\",\"linecolor\":\"white\",\"minorgridcolor\":\"white\",\"startlinecolor\":\"#2a3f5f\"},\"baxis\":{\"endlinecolor\":\"#2a3f5f\",\"gridcolor\":\"white\",\"linecolor\":\"white\",\"minorgridcolor\":\"white\",\"startlinecolor\":\"#2a3f5f\"},\"type\":\"carpet\"}],\"table\":[{\"cells\":{\"fill\":{\"color\":\"#EBF0F8\"},\"line\":{\"color\":\"white\"}},\"header\":{\"fill\":{\"color\":\"#C8D4E3\"},\"line\":{\"color\":\"white\"}},\"type\":\"table\"}],\"barpolar\":[{\"marker\":{\"line\":{\"color\":\"#E5ECF6\",\"width\":0.5},\"pattern\":{\"fillmode\":\"overlay\",\"size\":10,\"solidity\":0.2}},\"type\":\"barpolar\"}],\"pie\":[{\"automargin\":true,\"type\":\"pie\"}]},\"layout\":{\"autotypenumbers\":\"strict\",\"colorway\":[\"#636efa\",\"#EF553B\",\"#00cc96\",\"#ab63fa\",\"#FFA15A\",\"#19d3f3\",\"#FF6692\",\"#B6E880\",\"#FF97FF\",\"#FECB52\"],\"font\":{\"color\":\"#2a3f5f\"},\"hovermode\":\"closest\",\"hoverlabel\":{\"align\":\"left\"},\"paper_bgcolor\":\"white\",\"plot_bgcolor\":\"#E5ECF6\",\"polar\":{\"bgcolor\":\"#E5ECF6\",\"angularaxis\":{\"gridcolor\":\"white\",\"linecolor\":\"white\",\"ticks\":\"\"},\"radialaxis\":{\"gridcolor\":\"white\",\"linecolor\":\"white\",\"ticks\":\"\"}},\"ternary\":{\"bgcolor\":\"#E5ECF6\",\"aaxis\":{\"gridcolor\":\"white\",\"linecolor\":\"white\",\"ticks\":\"\"},\"baxis\":{\"gridcolor\":\"white\",\"linecolor\":\"white\",\"ticks\":\"\"},\"caxis\":{\"gridcolor\":\"white\",\"linecolor\":\"white\",\"ticks\":\"\"}},\"coloraxis\":{\"colorbar\":{\"outlinewidth\":0,\"ticks\":\"\"}},\"colorscale\":{\"sequential\":[[0.0,\"#0d0887\"],[0.1111111111111111,\"#46039f\"],[0.2222222222222222,\"#7201a8\"],[0.3333333333333333,\"#9c179e\"],[0.4444444444444444,\"#bd3786\"],[0.5555555555555556,\"#d8576b\"],[0.6666666666666666,\"#ed7953\"],[0.7777777777777778,\"#fb9f3a\"],[0.8888888888888888,\"#fdca26\"],[1.0,\"#f0f921\"]],\"sequentialminus\":[[0.0,\"#0d0887\"],[0.1111111111111111,\"#46039f\"],[0.2222222222222222,\"#7201a8\"],[0.3333333333333333,\"#9c179e\"],[0.4444444444444444,\"#bd3786\"],[0.5555555555555556,\"#d8576b\"],[0.6666666666666666,\"#ed7953\"],[0.7777777777777778,\"#fb9f3a\"],[0.8888888888888888,\"#fdca26\"],[1.0,\"#f0f921\"]],\"diverging\":[[0,\"#8e0152\"],[0.1,\"#c51b7d\"],[0.2,\"#de77ae\"],[0.3,\"#f1b6da\"],[0.4,\"#fde0ef\"],[0.5,\"#f7f7f7\"],[0.6,\"#e6f5d0\"],[0.7,\"#b8e186\"],[0.8,\"#7fbc41\"],[0.9,\"#4d9221\"],[1,\"#276419\"]]},\"xaxis\":{\"gridcolor\":\"white\",\"linecolor\":\"white\",\"ticks\":\"\",\"title\":{\"standoff\":15},\"zerolinecolor\":\"white\",\"automargin\":true,\"zerolinewidth\":2},\"yaxis\":{\"gridcolor\":\"white\",\"linecolor\":\"white\",\"ticks\":\"\",\"title\":{\"standoff\":15},\"zerolinecolor\":\"white\",\"automargin\":true,\"zerolinewidth\":2},\"scene\":{\"xaxis\":{\"backgroundcolor\":\"#E5ECF6\",\"gridcolor\":\"white\",\"linecolor\":\"white\",\"showbackground\":true,\"ticks\":\"\",\"zerolinecolor\":\"white\",\"gridwidth\":2},\"yaxis\":{\"backgroundcolor\":\"#E5ECF6\",\"gridcolor\":\"white\",\"linecolor\":\"white\",\"showbackground\":true,\"ticks\":\"\",\"zerolinecolor\":\"white\",\"gridwidth\":2},\"zaxis\":{\"backgroundcolor\":\"#E5ECF6\",\"gridcolor\":\"white\",\"linecolor\":\"white\",\"showbackground\":true,\"ticks\":\"\",\"zerolinecolor\":\"white\",\"gridwidth\":2}},\"shapedefaults\":{\"line\":{\"color\":\"#2a3f5f\"}},\"annotationdefaults\":{\"arrowcolor\":\"#2a3f5f\",\"arrowhead\":0,\"arrowwidth\":1},\"geo\":{\"bgcolor\":\"white\",\"landcolor\":\"#E5ECF6\",\"subunitcolor\":\"white\",\"showland\":true,\"showlakes\":true,\"lakecolor\":\"white\"},\"title\":{\"x\":0.05},\"mapbox\":{\"style\":\"light\"}}},\"xaxis\":{\"anchor\":\"y\",\"domain\":[0.0,1.0],\"title\":{\"text\":\"ds\"}},\"yaxis\":{\"anchor\":\"x\",\"domain\":[0.0,1.0],\"title\":{\"text\":\"yhat\"}},\"legend\":{\"tracegroupgap\":0},\"title\":{\"text\":\"ITC Forecasting\"}},                        {\"responsive\": true}                    ).then(function(){\n",
       "                            \n",
       "var gd = document.getElementById('cc948313-11fd-4134-841b-1b076084436b');\n",
       "var x = new MutationObserver(function (mutations, observer) {{\n",
       "        var display = window.getComputedStyle(gd).display;\n",
       "        if (!display || display === 'none') {{\n",
       "            console.log([gd, 'removed!']);\n",
       "            Plotly.purge(gd);\n",
       "            observer.disconnect();\n",
       "        }}\n",
       "}});\n",
       "\n",
       "// Listen for the removal of the full notebook cells\n",
       "var notebookContainer = gd.closest('#notebook-container');\n",
       "if (notebookContainer) {{\n",
       "    x.observe(notebookContainer, {childList: true});\n",
       "}}\n",
       "\n",
       "// Listen for the clearing of the current output cell\n",
       "var outputEl = gd.closest('.output');\n",
       "if (outputEl) {{\n",
       "    x.observe(outputEl, {childList: true});\n",
       "}}\n",
       "\n",
       "                        })                };            </script>        </div>"
      ]
     },
     "metadata": {},
     "output_type": "display_data"
    }
   ],
   "source": [
    "px.line(forecast, x='ds', y='yhat', title='ITC Forecasting')"
   ]
  },
  {
   "cell_type": "code",
   "execution_count": 615,
   "metadata": {},
   "outputs": [
    {
     "data": {
      "image/png": "[encoded data removed]",
      "text/plain": [
       "<Figure size 1000x600 with 1 Axes>"
      ]
     },
     "metadata": {},
     "output_type": "display_data"
    }
   ],
   "source": [
    "figure = m.plot(forecast, xlabel='ds', ylabel='y')"
   ]
  },
  {
   "cell_type": "code",
   "execution_count": 616,
   "metadata": {},
   "outputs": [
    {
     "data": {
      "image/png": "[encoded data removed]",
      "text/plain": [
       "<Figure size 900x600 with 2 Axes>"
      ]
     },
     "metadata": {},
     "output_type": "display_data"
    }
   ],
   "source": [
    "figure_2 = m.plot_components(forecast)"
   ]
  },
  {
   "cell_type": "markdown",
   "metadata": {},
   "source": [
    "## Save the Forecasted Data "
   ]
  },
  {
   "cell_type": "code",
   "execution_count": 617,
   "metadata": {},
   "outputs": [],
   "source": [
    "file = forecast.to_csv('itc_forecast.csv', index=False)"
   ]
  },
  {
   "cell_type": "markdown",
   "metadata": {},
   "source": [
    "# Forecast Evaluation"
   ]
  },
  {
   "cell_type": "code",
   "execution_count": 618,
   "metadata": {},
   "outputs": [
    {
     "data": {
      "image/png": "[encoded data removed]",
      "text/plain": [
       "<Figure size 1200x600 with 1 Axes>"
      ]
     },
     "metadata": {},
     "output_type": "display_data"
    }
   ],
   "source": [
    "import matplotlib.pyplot as plt\n",
    "import seaborn as sns\n",
    "\n",
    "forecast_df = pd.read_csv(\"itc_forecast.csv\")\n",
    "historical_df = pd.read_csv(\"itc_historical_data.csv\")\n",
    "\n",
    "forecast_df['ds'] = pd.to_datetime(forecast_df['ds'])\n",
    "historical_df['Date'] = pd.to_datetime(historical_df['Date'], format='%d-%b-%Y')\n",
    "\n",
    "merged_df = pd.merge(historical_df, forecast_df, left_on='Date', right_on='ds', how='inner')\n",
    "\n",
    "# Plot Actual vs Forecasted values\n",
    "plt.figure(figsize=(12, 6))\n",
    "sns.lineplot(x=merged_df['Date'], y=merged_df['close'], label=\"Actual (Close)\", marker='o', color='blue')\n",
    "sns.lineplot(x=merged_df['Date'], y=merged_df['yhat'], label=\"Forecasted (Yhat)\", marker='s', color='red')\n",
    "plt.xlabel(\"Date\")\n",
    "plt.ylabel(\"Stock Price\")\n",
    "plt.title(\"Actual vs Forecasted Stock Prices\")\n",
    "plt.legend()\n",
    "plt.xticks(rotation=45)\n",
    "plt.grid()\n",
    "plt.show()"
   ]
  },
  {
   "cell_type": "code",
   "execution_count": 619,
   "metadata": {},
   "outputs": [
    {
     "data": {
      "application/vnd.plotly.v1+json": {
       "config": {
        "plotlyServerURL": "https://plot.ly"
       },
       "data": [
        {
         "hovertemplate": "Date=%{x}<br>Forecasted Price=%{y}<extra></extra>",
         "legendgroup": "",
         "line": {
          "color": "#636efa",
          "dash": "solid"
         },
         "marker": {
          "symbol": "circle"
         },
         "mode": "lines",
         "name": "",
         "orientation": "v",
         "showlegend": false,
         "type": "scatter",
         "x": [
          "2025-02-15T00:00:00.000000000",
          "2025-02-16T00:00:00.000000000",
          "2025-02-17T00:00:00.000000000",
          "2025-02-18T00:00:00.000000000",
          "2025-02-19T00:00:00.000000000",
          "2025-02-20T00:00:00.000000000",
          "2025-02-21T00:00:00.000000000",
          "2025-02-22T00:00:00.000000000",
          "2025-02-23T00:00:00.000000000",
          "2025-02-24T00:00:00.000000000",
          "2025-02-25T00:00:00.000000000",
          "2025-02-26T00:00:00.000000000",
          "2025-02-27T00:00:00.000000000",
          "2025-02-28T00:00:00.000000000",
          "2025-03-01T00:00:00.000000000",
          "2025-03-02T00:00:00.000000000",
          "2025-03-03T00:00:00.000000000",
          "2025-03-04T00:00:00.000000000",
          "2025-03-05T00:00:00.000000000",
          "2025-03-06T00:00:00.000000000",
          "2025-03-07T00:00:00.000000000",
          "2025-03-08T00:00:00.000000000",
          "2025-03-09T00:00:00.000000000",
          "2025-03-10T00:00:00.000000000",
          "2025-03-11T00:00:00.000000000",
          "2025-03-12T00:00:00.000000000",
          "2025-03-13T00:00:00.000000000",
          "2025-03-14T00:00:00.000000000",
          "2025-03-15T00:00:00.000000000",
          "2025-03-16T00:00:00.000000000"
         ],
         "xaxis": "x",
         "y": {
          "bdata": "oPotmO2De0BThp4uwgd7QCvLhAHK1XpAxz6ZkVTAekDAfRihyrp6QJxO0WsesXpAFe73Xy3AekCeV8b6f0V7QP/iNpFUyXpAjygdZFyXekAHnDH05oF6QEzbsANdfHpA2appzrByekBIS5DCv4F6QJ60Xl0SB3tARD/P8+aKekAYhbXG7lh6QLH4yVZ5Q3pAATdJZu89ekD7BwIxQzR6QOWoKCVSQ3pAnhH3v6TIekCKm2dWeUx6QHziTSmBGnpA8lViuQsFekCNlOHIgf95QGFkmpPV9XlAGAbBh+QEekBCbo8iN4p6QKD4/7gLDnpA",
          "dtype": "f8"
         },
         "yaxis": "y"
        }
       ],
       "layout": {
        "legend": {
         "tracegroupgap": 0
        },
        "template": {
         "data": {
          "bar": [
           {
            "error_x": {
             "color": "#2a3f5f"
            },
            "error_y": {
             "color": "#2a3f5f"
            },
            "marker": {
             "line": {
              "color": "#E5ECF6",
              "width": 0.5
             },
             "pattern": {
              "fillmode": "overlay",
              "size": 10,
              "solidity": 0.2
             }
            },
            "type": "bar"
           }
          ],
          "barpolar": [
           {
            "marker": {
             "line": {
              "color": "#E5ECF6",
              "width": 0.5
             },
             "pattern": {
              "fillmode": "overlay",
              "size": 10,
              "solidity": 0.2
             }
            },
            "type": "barpolar"
           }
          ],
          "carpet": [
           {
            "aaxis": {
             "endlinecolor": "#2a3f5f",
             "gridcolor": "white",
             "linecolor": "white",
             "minorgridcolor": "white",
             "startlinecolor": "#2a3f5f"
            },
            "baxis": {
             "endlinecolor": "#2a3f5f",
             "gridcolor": "white",
             "linecolor": "white",
             "minorgridcolor": "white",
             "startlinecolor": "#2a3f5f"
            },
            "type": "carpet"
           }
          ],
          "choropleth": [
           {
            "colorbar": {
             "outlinewidth": 0,
             "ticks": ""
            },
            "type": "choropleth"
           }
          ],
          "contour": [
           {
            "colorbar": {
             "outlinewidth": 0,
             "ticks": ""
            },
            "colorscale": [
             [
              0,
              "#0d0887"
             ],
             [
              0.1111111111111111,
              "#46039f"
             ],
             [
              0.2222222222222222,
              "#7201a8"
             ],
             [
              0.3333333333333333,
              "#9c179e"
             ],
             [
              0.4444444444444444,
              "#bd3786"
             ],
             [
              0.5555555555555556,
              "#d8576b"
             ],
             [
              0.6666666666666666,
              "#ed7953"
             ],
             [
              0.7777777777777778,
              "#fb9f3a"
             ],
             [
              0.8888888888888888,
              "#fdca26"
             ],
             [
              1,
              "#f0f921"
             ]
            ],
            "type": "contour"
           }
          ],
          "contourcarpet": [
           {
            "colorbar": {
             "outlinewidth": 0,
             "ticks": ""
            },
            "type": "contourcarpet"
           }
          ],
          "heatmap": [
           {
            "colorbar": {
             "outlinewidth": 0,
             "ticks": ""
            },
            "colorscale": [
             [
              0,
              "#0d0887"
             ],
             [
              0.1111111111111111,
              "#46039f"
             ],
             [
              0.2222222222222222,
              "#7201a8"
             ],
             [
              0.3333333333333333,
              "#9c179e"
             ],
             [
              0.4444444444444444,
              "#bd3786"
             ],
             [
              0.5555555555555556,
              "#d8576b"
             ],
             [
              0.6666666666666666,
              "#ed7953"
             ],
             [
              0.7777777777777778,
              "#fb9f3a"
             ],
             [
              0.8888888888888888,
              "#fdca26"
             ],
             [
              1,
              "#f0f921"
             ]
            ],
            "type": "heatmap"
           }
          ],
          "histogram": [
           {
            "marker": {
             "pattern": {
              "fillmode": "overlay",
              "size": 10,
              "solidity": 0.2
             }
            },
            "type": "histogram"
           }
          ],
          "histogram2d": [
           {
            "colorbar": {
             "outlinewidth": 0,
             "ticks": ""
            },
            "colorscale": [
             [
              0,
              "#0d0887"
             ],
             [
              0.1111111111111111,
              "#46039f"
             ],
             [
              0.2222222222222222,
              "#7201a8"
             ],
             [
              0.3333333333333333,
              "#9c179e"
             ],
             [
              0.4444444444444444,
              "#bd3786"
             ],
             [
              0.5555555555555556,
              "#d8576b"
             ],
             [
              0.6666666666666666,
              "#ed7953"
             ],
             [
              0.7777777777777778,
              "#fb9f3a"
             ],
             [
              0.8888888888888888,
              "#fdca26"
             ],
             [
              1,
              "#f0f921"
             ]
            ],
            "type": "histogram2d"
           }
          ],
          "histogram2dcontour": [
           {
            "colorbar": {
             "outlinewidth": 0,
             "ticks": ""
            },
            "colorscale": [
             [
              0,
              "#0d0887"
             ],
             [
              0.1111111111111111,
              "#46039f"
             ],
             [
              0.2222222222222222,
              "#7201a8"
             ],
             [
              0.3333333333333333,
              "#9c179e"
             ],
             [
              0.4444444444444444,
              "#bd3786"
             ],
             [
              0.5555555555555556,
              "#d8576b"
             ],
             [
              0.6666666666666666,
              "#ed7953"
             ],
             [
              0.7777777777777778,
              "#fb9f3a"
             ],
             [
              0.8888888888888888,
              "#fdca26"
             ],
             [
              1,
              "#f0f921"
             ]
            ],
            "type": "histogram2dcontour"
           }
          ],
          "mesh3d": [
           {
            "colorbar": {
             "outlinewidth": 0,
             "ticks": ""
            },
            "type": "mesh3d"
           }
          ],
          "parcoords": [
           {
            "line": {
             "colorbar": {
              "outlinewidth": 0,
              "ticks": ""
             }
            },
            "type": "parcoords"
           }
          ],
          "pie": [
           {
            "automargin": true,
            "type": "pie"
           }
          ],
          "scatter": [
           {
            "fillpattern": {
             "fillmode": "overlay",
             "size": 10,
             "solidity": 0.2
            },
            "type": "scatter"
           }
          ],
          "scatter3d": [
           {
            "line": {
             "colorbar": {
              "outlinewidth": 0,
              "ticks": ""
             }
            },
            "marker": {
             "colorbar": {
              "outlinewidth": 0,
              "ticks": ""
             }
            },
            "type": "scatter3d"
           }
          ],
          "scattercarpet": [
           {
            "marker": {
             "colorbar": {
              "outlinewidth": 0,
              "ticks": ""
             }
            },
            "type": "scattercarpet"
           }
          ],
          "scattergeo": [
           {
            "marker": {
             "colorbar": {
              "outlinewidth": 0,
              "ticks": ""
             }
            },
            "type": "scattergeo"
           }
          ],
          "scattergl": [
           {
            "marker": {
             "colorbar": {
              "outlinewidth": 0,
              "ticks": ""
             }
            },
            "type": "scattergl"
           }
          ],
          "scattermap": [
           {
            "marker": {
             "colorbar": {
              "outlinewidth": 0,
              "ticks": ""
             }
            },
            "type": "scattermap"
           }
          ],
          "scattermapbox": [
           {
            "marker": {
             "colorbar": {
              "outlinewidth": 0,
              "ticks": ""
             }
            },
            "type": "scattermapbox"
           }
          ],
          "scatterpolar": [
           {
            "marker": {
             "colorbar": {
              "outlinewidth": 0,
              "ticks": ""
             }
            },
            "type": "scatterpolar"
           }
          ],
          "scatterpolargl": [
           {
            "marker": {
             "colorbar": {
              "outlinewidth": 0,
              "ticks": ""
             }
            },
            "type": "scatterpolargl"
           }
          ],
          "scatterternary": [
           {
            "marker": {
             "colorbar": {
              "outlinewidth": 0,
              "ticks": ""
             }
            },
            "type": "scatterternary"
           }
          ],
          "surface": [
           {
            "colorbar": {
             "outlinewidth": 0,
             "ticks": ""
            },
            "colorscale": [
             [
              0,
              "#0d0887"
             ],
             [
              0.1111111111111111,
              "#46039f"
             ],
             [
              0.2222222222222222,
              "#7201a8"
             ],
             [
              0.3333333333333333,
              "#9c179e"
             ],
             [
              0.4444444444444444,
              "#bd3786"
             ],
             [
              0.5555555555555556,
              "#d8576b"
             ],
             [
              0.6666666666666666,
              "#ed7953"
             ],
             [
              0.7777777777777778,
              "#fb9f3a"
             ],
             [
              0.8888888888888888,
              "#fdca26"
             ],
             [
              1,
              "#f0f921"
             ]
            ],
            "type": "surface"
           }
          ],
          "table": [
           {
            "cells": {
             "fill": {
              "color": "#EBF0F8"
             },
             "line": {
              "color": "white"
             }
            },
            "header": {
             "fill": {
              "color": "#C8D4E3"
             },
             "line": {
              "color": "white"
             }
            },
            "type": "table"
           }
          ]
         },
         "layout": {
          "annotationdefaults": {
           "arrowcolor": "#2a3f5f",
           "arrowhead": 0,
           "arrowwidth": 1
          },
          "autotypenumbers": "strict",
          "coloraxis": {
           "colorbar": {
            "outlinewidth": 0,
            "ticks": ""
           }
          },
          "colorscale": {
           "diverging": [
            [
             0,
             "#8e0152"
            ],
            [
             0.1,
             "#c51b7d"
            ],
            [
             0.2,
             "#de77ae"
            ],
            [
             0.3,
             "#f1b6da"
            ],
            [
             0.4,
             "#fde0ef"
            ],
            [
             0.5,
             "#f7f7f7"
            ],
            [
             0.6,
             "#e6f5d0"
            ],
            [
             0.7,
             "#b8e186"
            ],
            [
             0.8,
             "#7fbc41"
            ],
            [
             0.9,
             "#4d9221"
            ],
            [
             1,
             "#276419"
            ]
           ],
           "sequential": [
            [
             0,
             "#0d0887"
            ],
            [
             0.1111111111111111,
             "#46039f"
            ],
            [
             0.2222222222222222,
             "#7201a8"
            ],
            [
             0.3333333333333333,
             "#9c179e"
            ],
            [
             0.4444444444444444,
             "#bd3786"
            ],
            [
             0.5555555555555556,
             "#d8576b"
            ],
            [
             0.6666666666666666,
             "#ed7953"
            ],
            [
             0.7777777777777778,
             "#fb9f3a"
            ],
            [
             0.8888888888888888,
             "#fdca26"
            ],
            [
             1,
             "#f0f921"
            ]
           ],
           "sequentialminus": [
            [
             0,
             "#0d0887"
            ],
            [
             0.1111111111111111,
             "#46039f"
            ],
            [
             0.2222222222222222,
             "#7201a8"
            ],
            [
             0.3333333333333333,
             "#9c179e"
            ],
            [
             0.4444444444444444,
             "#bd3786"
            ],
            [
             0.5555555555555556,
             "#d8576b"
            ],
            [
             0.6666666666666666,
             "#ed7953"
            ],
            [
             0.7777777777777778,
             "#fb9f3a"
            ],
            [
             0.8888888888888888,
             "#fdca26"
            ],
            [
             1,
             "#f0f921"
            ]
           ]
          },
          "colorway": [
           "#636efa",
           "#EF553B",
           "#00cc96",
           "#ab63fa",
           "#FFA15A",
           "#19d3f3",
           "#FF6692",
           "#B6E880",
           "#FF97FF",
           "#FECB52"
          ],
          "font": {
           "color": "#2a3f5f"
          },
          "geo": {
           "bgcolor": "white",
           "lakecolor": "white",
           "landcolor": "#E5ECF6",
           "showlakes": true,
           "showland": true,
           "subunitcolor": "white"
          },
          "hoverlabel": {
           "align": "left"
          },
          "hovermode": "closest",
          "mapbox": {
           "style": "light"
          },
          "paper_bgcolor": "white",
          "plot_bgcolor": "#E5ECF6",
          "polar": {
           "angularaxis": {
            "gridcolor": "white",
            "linecolor": "white",
            "ticks": ""
           },
           "bgcolor": "#E5ECF6",
           "radialaxis": {
            "gridcolor": "white",
            "linecolor": "white",
            "ticks": ""
           }
          },
          "scene": {
           "xaxis": {
            "backgroundcolor": "#E5ECF6",
            "gridcolor": "white",
            "gridwidth": 2,
            "linecolor": "white",
            "showbackground": true,
            "ticks": "",
            "zerolinecolor": "white"
           },
           "yaxis": {
            "backgroundcolor": "#E5ECF6",
            "gridcolor": "white",
            "gridwidth": 2,
            "linecolor": "white",
            "showbackground": true,
            "ticks": "",
            "zerolinecolor": "white"
           },
           "zaxis": {
            "backgroundcolor": "#E5ECF6",
            "gridcolor": "white",
            "gridwidth": 2,
            "linecolor": "white",
            "showbackground": true,
            "ticks": "",
            "zerolinecolor": "white"
           }
          },
          "shapedefaults": {
           "line": {
            "color": "#2a3f5f"
           }
          },
          "ternary": {
           "aaxis": {
            "gridcolor": "white",
            "linecolor": "white",
            "ticks": ""
           },
           "baxis": {
            "gridcolor": "white",
            "linecolor": "white",
            "ticks": ""
           },
           "bgcolor": "#E5ECF6",
           "caxis": {
            "gridcolor": "white",
            "linecolor": "white",
            "ticks": ""
           }
          },
          "title": {
           "x": 0.05
          },
          "xaxis": {
           "automargin": true,
           "gridcolor": "white",
           "linecolor": "white",
           "ticks": "",
           "title": {
            "standoff": 15
           },
           "zerolinecolor": "white",
           "zerolinewidth": 2
          },
          "yaxis": {
           "automargin": true,
           "gridcolor": "white",
           "linecolor": "white",
           "ticks": "",
           "title": {
            "standoff": 15
           },
           "zerolinecolor": "white",
           "zerolinewidth": 2
          }
         }
        },
        "title": {
         "text": "Forecasted Stock Prices for 30 Days"
        },
        "xaxis": {
         "anchor": "y",
         "domain": [
          0,
          1
         ],
         "title": {
          "text": "Date"
         }
        },
        "yaxis": {
         "anchor": "x",
         "domain": [
          0,
          1
         ],
         "title": {
          "text": "Forecasted Price"
         }
        }
       }
      },
      "text/html": [
       "<div>            <script src=\"https://cdnjs.cloudflare.com/ajax/libs/mathjax/2.7.5/MathJax.js?config=TeX-AMS-MML_SVG\"></script><script type=\"text/javascript\">if (window.MathJax && window.MathJax.Hub && window.MathJax.Hub.Config) {window.MathJax.Hub.Config({SVG: {font: \"STIX-Web\"}});}</script>                <script type=\"text/javascript\">window.PlotlyConfig = {MathJaxConfig: 'local'};</script>\n",
       "        <script charset=\"utf-8\" src=\"https://cdn.plot.ly/plotly-3.0.0.min.js\"></script>                <div id=\"67e6f9b6-1930-4e94-8e38-f6ea3263717a\" class=\"plotly-graph-div\" style=\"height:525px; width:100%;\"></div>            <script type=\"text/javascript\">                window.PLOTLYENV=window.PLOTLYENV || {};                                if (document.getElementById(\"67e6f9b6-1930-4e94-8e38-f6ea3263717a\")) {                    Plotly.newPlot(                        \"67e6f9b6-1930-4e94-8e38-f6ea3263717a\",                        [{\"hovertemplate\":\"Date=%{x}\\u003cbr\\u003eForecasted Price=%{y}\\u003cextra\\u003e\\u003c\\u002fextra\\u003e\",\"legendgroup\":\"\",\"line\":{\"color\":\"#636efa\",\"dash\":\"solid\"},\"marker\":{\"symbol\":\"circle\"},\"mode\":\"lines\",\"name\":\"\",\"orientation\":\"v\",\"showlegend\":false,\"x\":[\"2025-02-15T00:00:00.000000000\",\"2025-02-16T00:00:00.000000000\",\"2025-02-17T00:00:00.000000000\",\"2025-02-18T00:00:00.000000000\",\"2025-02-19T00:00:00.000000000\",\"2025-02-20T00:00:00.000000000\",\"2025-02-21T00:00:00.000000000\",\"2025-02-22T00:00:00.000000000\",\"2025-02-23T00:00:00.000000000\",\"2025-02-24T00:00:00.000000000\",\"2025-02-25T00:00:00.000000000\",\"2025-02-26T00:00:00.000000000\",\"2025-02-27T00:00:00.000000000\",\"2025-02-28T00:00:00.000000000\",\"2025-03-01T00:00:00.000000000\",\"2025-03-02T00:00:00.000000000\",\"2025-03-03T00:00:00.000000000\",\"2025-03-04T00:00:00.000000000\",\"2025-03-05T00:00:00.000000000\",\"2025-03-06T00:00:00.000000000\",\"2025-03-07T00:00:00.000000000\",\"2025-03-08T00:00:00.000000000\",\"2025-03-09T00:00:00.000000000\",\"2025-03-10T00:00:00.000000000\",\"2025-03-11T00:00:00.000000000\",\"2025-03-12T00:00:00.000000000\",\"2025-03-13T00:00:00.000000000\",\"2025-03-14T00:00:00.000000000\",\"2025-03-15T00:00:00.000000000\",\"2025-03-16T00:00:00.000000000\"],\"xaxis\":\"x\",\"y\":{\"dtype\":\"f8\",\"bdata\":\"oPotmO2De0BThp4uwgd7QCvLhAHK1XpAxz6ZkVTAekDAfRihyrp6QJxO0WsesXpAFe73Xy3AekCeV8b6f0V7QP\\u002fiNpFUyXpAjygdZFyXekAHnDH05oF6QEzbsANdfHpA2appzrByekBIS5DCv4F6QJ60Xl0SB3tARD\\u002fP8+aKekAYhbXG7lh6QLH4yVZ5Q3pAATdJZu89ekD7BwIxQzR6QOWoKCVSQ3pAnhH3v6TIekCKm2dWeUx6QHziTSmBGnpA8lViuQsFekCNlOHIgf95QGFkmpPV9XlAGAbBh+QEekBCbo8iN4p6QKD4\\u002f7gLDnpA\"},\"yaxis\":\"y\",\"type\":\"scatter\"}],                        {\"template\":{\"data\":{\"histogram2dcontour\":[{\"type\":\"histogram2dcontour\",\"colorbar\":{\"outlinewidth\":0,\"ticks\":\"\"},\"colorscale\":[[0.0,\"#0d0887\"],[0.1111111111111111,\"#46039f\"],[0.2222222222222222,\"#7201a8\"],[0.3333333333333333,\"#9c179e\"],[0.4444444444444444,\"#bd3786\"],[0.5555555555555556,\"#d8576b\"],[0.6666666666666666,\"#ed7953\"],[0.7777777777777778,\"#fb9f3a\"],[0.8888888888888888,\"#fdca26\"],[1.0,\"#f0f921\"]]}],\"choropleth\":[{\"type\":\"choropleth\",\"colorbar\":{\"outlinewidth\":0,\"ticks\":\"\"}}],\"histogram2d\":[{\"type\":\"histogram2d\",\"colorbar\":{\"outlinewidth\":0,\"ticks\":\"\"},\"colorscale\":[[0.0,\"#0d0887\"],[0.1111111111111111,\"#46039f\"],[0.2222222222222222,\"#7201a8\"],[0.3333333333333333,\"#9c179e\"],[0.4444444444444444,\"#bd3786\"],[0.5555555555555556,\"#d8576b\"],[0.6666666666666666,\"#ed7953\"],[0.7777777777777778,\"#fb9f3a\"],[0.8888888888888888,\"#fdca26\"],[1.0,\"#f0f921\"]]}],\"heatmap\":[{\"type\":\"heatmap\",\"colorbar\":{\"outlinewidth\":0,\"ticks\":\"\"},\"colorscale\":[[0.0,\"#0d0887\"],[0.1111111111111111,\"#46039f\"],[0.2222222222222222,\"#7201a8\"],[0.3333333333333333,\"#9c179e\"],[0.4444444444444444,\"#bd3786\"],[0.5555555555555556,\"#d8576b\"],[0.6666666666666666,\"#ed7953\"],[0.7777777777777778,\"#fb9f3a\"],[0.8888888888888888,\"#fdca26\"],[1.0,\"#f0f921\"]]}],\"contourcarpet\":[{\"type\":\"contourcarpet\",\"colorbar\":{\"outlinewidth\":0,\"ticks\":\"\"}}],\"contour\":[{\"type\":\"contour\",\"colorbar\":{\"outlinewidth\":0,\"ticks\":\"\"},\"colorscale\":[[0.0,\"#0d0887\"],[0.1111111111111111,\"#46039f\"],[0.2222222222222222,\"#7201a8\"],[0.3333333333333333,\"#9c179e\"],[0.4444444444444444,\"#bd3786\"],[0.5555555555555556,\"#d8576b\"],[0.6666666666666666,\"#ed7953\"],[0.7777777777777778,\"#fb9f3a\"],[0.8888888888888888,\"#fdca26\"],[1.0,\"#f0f921\"]]}],\"surface\":[{\"type\":\"surface\",\"colorbar\":{\"outlinewidth\":0,\"ticks\":\"\"},\"colorscale\":[[0.0,\"#0d0887\"],[0.1111111111111111,\"#46039f\"],[0.2222222222222222,\"#7201a8\"],[0.3333333333333333,\"#9c179e\"],[0.4444444444444444,\"#bd3786\"],[0.5555555555555556,\"#d8576b\"],[0.6666666666666666,\"#ed7953\"],[0.7777777777777778,\"#fb9f3a\"],[0.8888888888888888,\"#fdca26\"],[1.0,\"#f0f921\"]]}],\"mesh3d\":[{\"type\":\"mesh3d\",\"colorbar\":{\"outlinewidth\":0,\"ticks\":\"\"}}],\"scatter\":[{\"fillpattern\":{\"fillmode\":\"overlay\",\"size\":10,\"solidity\":0.2},\"type\":\"scatter\"}],\"parcoords\":[{\"type\":\"parcoords\",\"line\":{\"colorbar\":{\"outlinewidth\":0,\"ticks\":\"\"}}}],\"scatterpolargl\":[{\"type\":\"scatterpolargl\",\"marker\":{\"colorbar\":{\"outlinewidth\":0,\"ticks\":\"\"}}}],\"bar\":[{\"error_x\":{\"color\":\"#2a3f5f\"},\"error_y\":{\"color\":\"#2a3f5f\"},\"marker\":{\"line\":{\"color\":\"#E5ECF6\",\"width\":0.5},\"pattern\":{\"fillmode\":\"overlay\",\"size\":10,\"solidity\":0.2}},\"type\":\"bar\"}],\"scattergeo\":[{\"type\":\"scattergeo\",\"marker\":{\"colorbar\":{\"outlinewidth\":0,\"ticks\":\"\"}}}],\"scatterpolar\":[{\"type\":\"scatterpolar\",\"marker\":{\"colorbar\":{\"outlinewidth\":0,\"ticks\":\"\"}}}],\"histogram\":[{\"marker\":{\"pattern\":{\"fillmode\":\"overlay\",\"size\":10,\"solidity\":0.2}},\"type\":\"histogram\"}],\"scattergl\":[{\"type\":\"scattergl\",\"marker\":{\"colorbar\":{\"outlinewidth\":0,\"ticks\":\"\"}}}],\"scatter3d\":[{\"type\":\"scatter3d\",\"line\":{\"colorbar\":{\"outlinewidth\":0,\"ticks\":\"\"}},\"marker\":{\"colorbar\":{\"outlinewidth\":0,\"ticks\":\"\"}}}],\"scattermap\":[{\"type\":\"scattermap\",\"marker\":{\"colorbar\":{\"outlinewidth\":0,\"ticks\":\"\"}}}],\"scattermapbox\":[{\"type\":\"scattermapbox\",\"marker\":{\"colorbar\":{\"outlinewidth\":0,\"ticks\":\"\"}}}],\"scatterternary\":[{\"type\":\"scatterternary\",\"marker\":{\"colorbar\":{\"outlinewidth\":0,\"ticks\":\"\"}}}],\"scattercarpet\":[{\"type\":\"scattercarpet\",\"marker\":{\"colorbar\":{\"outlinewidth\":0,\"ticks\":\"\"}}}],\"carpet\":[{\"aaxis\":{\"endlinecolor\":\"#2a3f5f\",\"gridcolor\":\"white\",\"linecolor\":\"white\",\"minorgridcolor\":\"white\",\"startlinecolor\":\"#2a3f5f\"},\"baxis\":{\"endlinecolor\":\"#2a3f5f\",\"gridcolor\":\"white\",\"linecolor\":\"white\",\"minorgridcolor\":\"white\",\"startlinecolor\":\"#2a3f5f\"},\"type\":\"carpet\"}],\"table\":[{\"cells\":{\"fill\":{\"color\":\"#EBF0F8\"},\"line\":{\"color\":\"white\"}},\"header\":{\"fill\":{\"color\":\"#C8D4E3\"},\"line\":{\"color\":\"white\"}},\"type\":\"table\"}],\"barpolar\":[{\"marker\":{\"line\":{\"color\":\"#E5ECF6\",\"width\":0.5},\"pattern\":{\"fillmode\":\"overlay\",\"size\":10,\"solidity\":0.2}},\"type\":\"barpolar\"}],\"pie\":[{\"automargin\":true,\"type\":\"pie\"}]},\"layout\":{\"autotypenumbers\":\"strict\",\"colorway\":[\"#636efa\",\"#EF553B\",\"#00cc96\",\"#ab63fa\",\"#FFA15A\",\"#19d3f3\",\"#FF6692\",\"#B6E880\",\"#FF97FF\",\"#FECB52\"],\"font\":{\"color\":\"#2a3f5f\"},\"hovermode\":\"closest\",\"hoverlabel\":{\"align\":\"left\"},\"paper_bgcolor\":\"white\",\"plot_bgcolor\":\"#E5ECF6\",\"polar\":{\"bgcolor\":\"#E5ECF6\",\"angularaxis\":{\"gridcolor\":\"white\",\"linecolor\":\"white\",\"ticks\":\"\"},\"radialaxis\":{\"gridcolor\":\"white\",\"linecolor\":\"white\",\"ticks\":\"\"}},\"ternary\":{\"bgcolor\":\"#E5ECF6\",\"aaxis\":{\"gridcolor\":\"white\",\"linecolor\":\"white\",\"ticks\":\"\"},\"baxis\":{\"gridcolor\":\"white\",\"linecolor\":\"white\",\"ticks\":\"\"},\"caxis\":{\"gridcolor\":\"white\",\"linecolor\":\"white\",\"ticks\":\"\"}},\"coloraxis\":{\"colorbar\":{\"outlinewidth\":0,\"ticks\":\"\"}},\"colorscale\":{\"sequential\":[[0.0,\"#0d0887\"],[0.1111111111111111,\"#46039f\"],[0.2222222222222222,\"#7201a8\"],[0.3333333333333333,\"#9c179e\"],[0.4444444444444444,\"#bd3786\"],[0.5555555555555556,\"#d8576b\"],[0.6666666666666666,\"#ed7953\"],[0.7777777777777778,\"#fb9f3a\"],[0.8888888888888888,\"#fdca26\"],[1.0,\"#f0f921\"]],\"sequentialminus\":[[0.0,\"#0d0887\"],[0.1111111111111111,\"#46039f\"],[0.2222222222222222,\"#7201a8\"],[0.3333333333333333,\"#9c179e\"],[0.4444444444444444,\"#bd3786\"],[0.5555555555555556,\"#d8576b\"],[0.6666666666666666,\"#ed7953\"],[0.7777777777777778,\"#fb9f3a\"],[0.8888888888888888,\"#fdca26\"],[1.0,\"#f0f921\"]],\"diverging\":[[0,\"#8e0152\"],[0.1,\"#c51b7d\"],[0.2,\"#de77ae\"],[0.3,\"#f1b6da\"],[0.4,\"#fde0ef\"],[0.5,\"#f7f7f7\"],[0.6,\"#e6f5d0\"],[0.7,\"#b8e186\"],[0.8,\"#7fbc41\"],[0.9,\"#4d9221\"],[1,\"#276419\"]]},\"xaxis\":{\"gridcolor\":\"white\",\"linecolor\":\"white\",\"ticks\":\"\",\"title\":{\"standoff\":15},\"zerolinecolor\":\"white\",\"automargin\":true,\"zerolinewidth\":2},\"yaxis\":{\"gridcolor\":\"white\",\"linecolor\":\"white\",\"ticks\":\"\",\"title\":{\"standoff\":15},\"zerolinecolor\":\"white\",\"automargin\":true,\"zerolinewidth\":2},\"scene\":{\"xaxis\":{\"backgroundcolor\":\"#E5ECF6\",\"gridcolor\":\"white\",\"linecolor\":\"white\",\"showbackground\":true,\"ticks\":\"\",\"zerolinecolor\":\"white\",\"gridwidth\":2},\"yaxis\":{\"backgroundcolor\":\"#E5ECF6\",\"gridcolor\":\"white\",\"linecolor\":\"white\",\"showbackground\":true,\"ticks\":\"\",\"zerolinecolor\":\"white\",\"gridwidth\":2},\"zaxis\":{\"backgroundcolor\":\"#E5ECF6\",\"gridcolor\":\"white\",\"linecolor\":\"white\",\"showbackground\":true,\"ticks\":\"\",\"zerolinecolor\":\"white\",\"gridwidth\":2}},\"shapedefaults\":{\"line\":{\"color\":\"#2a3f5f\"}},\"annotationdefaults\":{\"arrowcolor\":\"#2a3f5f\",\"arrowhead\":0,\"arrowwidth\":1},\"geo\":{\"bgcolor\":\"white\",\"landcolor\":\"#E5ECF6\",\"subunitcolor\":\"white\",\"showland\":true,\"showlakes\":true,\"lakecolor\":\"white\"},\"title\":{\"x\":0.05},\"mapbox\":{\"style\":\"light\"}}},\"xaxis\":{\"anchor\":\"y\",\"domain\":[0.0,1.0],\"title\":{\"text\":\"Date\"}},\"yaxis\":{\"anchor\":\"x\",\"domain\":[0.0,1.0],\"title\":{\"text\":\"Forecasted Price\"}},\"legend\":{\"tracegroupgap\":0},\"title\":{\"text\":\"Forecasted Stock Prices for 30 Days\"}},                        {\"responsive\": true}                    ).then(function(){\n",
       "                            \n",
       "var gd = document.getElementById('67e6f9b6-1930-4e94-8e38-f6ea3263717a');\n",
       "var x = new MutationObserver(function (mutations, observer) {{\n",
       "        var display = window.getComputedStyle(gd).display;\n",
       "        if (!display || display === 'none') {{\n",
       "            console.log([gd, 'removed!']);\n",
       "            Plotly.purge(gd);\n",
       "            observer.disconnect();\n",
       "        }}\n",
       "}});\n",
       "\n",
       "// Listen for the removal of the full notebook cells\n",
       "var notebookContainer = gd.closest('#notebook-container');\n",
       "if (notebookContainer) {{\n",
       "    x.observe(notebookContainer, {childList: true});\n",
       "}}\n",
       "\n",
       "// Listen for the clearing of the current output cell\n",
       "var outputEl = gd.closest('.output');\n",
       "if (outputEl) {{\n",
       "    x.observe(outputEl, {childList: true});\n",
       "}}\n",
       "\n",
       "                        })                };            </script>        </div>"
      ]
     },
     "metadata": {},
     "output_type": "display_data"
    }
   ],
   "source": [
    "future_forecast = forecast_df[forecast_df['ds'] > '2025-02-14']\n",
    "\n",
    "fig = px.line(future_forecast, x='ds', y='yhat', title=\"Forecasted Stock Prices for 30 Days\", labels={'ds': \"Date\", 'yhat': \"Forecasted Price\"})\n",
    "fig.show()"
   ]
  },
  {
   "cell_type": "markdown",
   "metadata": {},
   "source": [
    "# Fundemental Analysis of ITC"
   ]
  },
  {
   "cell_type": "markdown",
   "metadata": {},
   "source": [
    "## Financial Performance \n",
    "\n",
    "1. Revenue: ₹65,440.81 Cr. (FY 2023-24)  \n",
    "\n",
    "2. Net Profit: ₹20,421.97 Cr.  \n",
    "\n",
    "3. Earnings Per Share (EPS TTM): ₹16.51  \n",
    "\n",
    "4. Cash EPS (CEPS TTM): ₹17.83  \n",
    "\n",
    "ITC’s revenue has remained stable, with steady profit growth. The company’s strong cigarette business and expanding FMCG segment contribute significantly to its earnings.  \n",
    "\n",
    "## Profitability Ratios Analysis \n",
    "\n",
    "1. A high ROE of 28.31% indicates efficient use of capital.  \n",
    "\n",
    "2. A PE ratio of 24.87 suggests the stock is fairly valued compared to industry standards.  \n",
    "\n",
    "3. A PB ratio of 7.04 means the stock trades at a premium, reflecting strong brand value and consistent profits.  \n",
    "\n",
    "## Price Movement & Liquidity\n",
    "1. Current Range: ₹408.45 - ₹416.00  \n",
    "2. 52-Week High/Low: ₹500.01 / ₹377.74  \n",
    "3. VWAP: ₹412.28  \n",
    "4. Market Cap: ₹5,13,699.85 Cr.  \n",
    "\n",
    "The stock is trading closer to its 52-week low, which may present a buying opportunity. High market capitalization ensures stability and strong investor interest.  \n",
    "\n",
    "## Investment Outlook & Valuation \n",
    "\n",
    "1. PE ratio (24.87) is reasonable compared to FMCG peers like HUL and Nestlé.  \n",
    "2. Strong ROE (28.31%) highlights ITC’s profitability.  \n",
    "3. Consistent dividend payouts (~90%) make it attractive for income investors.  \n",
    "\n",
    "## Investment Recommendation \n",
    "1. Long-Term Hold: Suitable for investors looking for stable growth and dividends.  \n",
    "2. Entry Opportunity: Buying below ₹400 could provide good returns.  \n",
    "3. Low Risk, Steady Growth: A reliable stock with strong financials.  \n",
    "\n",
    "## Conclusion: Buy for long-term investors, hold for existing shareholders."
   ]
  },
  {
   "cell_type": "markdown",
   "metadata": {},
   "source": [
    "# Automating this process for other stocks"
   ]
  },
  {
   "cell_type": "markdown",
   "metadata": {},
   "source": [
    "Download the historical data of any other stock and replace `itc_historical_data.csv` in the `df` variable to a new csv to automate this process."
   ]
  }
 ],
 "metadata": {
  "kernelspec": {
   "display_name": ".venv",
   "language": "python",
   "name": "python3"
  },
  "language_info": {
   "codemirror_mode": {
    "name": "ipython",
    "version": 3
   },
   "file_extension": ".py",
   "mimetype": "text/x-python",
   "name": "python",
   "nbconvert_exporter": "python",
   "pygments_lexer": "ipython3",
   "version": "3.13.2"
  }
 },
 "nbformat": 4,
 "nbformat_minor": 2
}
